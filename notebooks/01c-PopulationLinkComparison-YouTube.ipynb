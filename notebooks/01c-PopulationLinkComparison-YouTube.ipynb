{
 "cells": [
  {
   "cell_type": "markdown",
   "metadata": {},
   "source": [
    "# Compare Twitter and Reddit Populations\n",
    "\n",
    "## Restricted to YouTube\n",
    "\n",
    "This script evaluates how similar subsets of Twitter and Reddit populations are within platform and across platform.\n",
    "The populations we test are:\n",
    "- Random US Twitter users active in 2015-2018\n",
    "    - Must have tweeted >= 100 times in this time frame\n",
    "- Politically engaged US Twitter users active in 2015-2018\n",
    "    - Must have tweeted >= 100 times in this time frame\n",
    "    - Must follow at least 5 politicians\n",
    "- IRA Twitter accounts identified by Twitter\n",
    "- Random Reddit accounts  active in 2015-2018\n",
    "    - Must have posted/commented >= 100 times in this time frame\n",
    "- Politically engaged Redditors  active in 2015-2018\n",
    "    - Must have posted/commented >= 100 times in subreddits /r/politics identifies as US-political in this time frame\n",
    "- IRA Reddit accounts identified by Reddit"
   ]
  },
  {
   "cell_type": "code",
   "execution_count": 1,
   "metadata": {},
   "outputs": [],
   "source": [
    "%matplotlib inline"
   ]
  },
  {
   "cell_type": "code",
   "execution_count": 2,
   "metadata": {},
   "outputs": [],
   "source": [
    "import json\n",
    "import time\n",
    "import string\n",
    "import datetime\n",
    "import matplotlib\n",
    "\n",
    "import scipy.stats\n",
    "\n",
    "import numpy as np\n",
    "import pandas as pd\n",
    "import statsmodels.api as sm\n",
    "\n",
    "import matplotlib.pyplot as plt"
   ]
  },
  {
   "cell_type": "code",
   "execution_count": 3,
   "metadata": {},
   "outputs": [],
   "source": [
    "import sklearn.preprocessing\n",
    "import sklearn.metrics"
   ]
  },
  {
   "cell_type": "code",
   "execution_count": 4,
   "metadata": {},
   "outputs": [],
   "source": [
    "from utils.youtube import strip_video_id_from_url"
   ]
  },
  {
   "cell_type": "code",
   "execution_count": null,
   "metadata": {},
   "outputs": [],
   "source": []
  },
  {
   "cell_type": "code",
   "execution_count": 5,
   "metadata": {},
   "outputs": [],
   "source": [
    "def convert_date(date):\n",
    "    return datetime.datetime.strptime(date, \"%a %b %d %H:%M:%S +0000 %Y\")\n",
    "\n",
    "def convert_time(timestamp):\n",
    "    created_time = timestamp\n",
    "    if ( isinstance(created_time, str) ):\n",
    "        created_time = int(created_time)\n",
    "        \n",
    "    d = datetime.datetime.utcfromtimestamp(created_time)\n",
    "    return d\n",
    "\n",
    "def get_top_tlds(links_df, user_id_field, top_n=100):\n",
    "    tld_user_counts = {}\n",
    "    for tld, group in links_df.groupby(\"tld\"):\n",
    "        local_users = set(group[user_id_field])\n",
    "        tld_user_counts[tld] = len(local_users)\n",
    "\n",
    "    return sorted(tld_user_counts, key=tld_user_counts.get, reverse=True)[:top_n]\n",
    "\n",
    "def links_df_to_shares(links_df, domains, user_id_field):\n",
    "    user_shares = []\n",
    "\n",
    "    for user,user_posts in links_df.groupby(user_id_field):\n",
    "        local_tld_counts = dict(user_posts[\"tld\"].value_counts().items())\n",
    "        local_vector = [local_tld_counts.get(x, 0) for x in domains]\n",
    "        user_shares.append([user] + local_vector)\n",
    "\n",
    "    return pd.DataFrame(user_shares, columns=[user_id_field] + domains)\n",
    "\n",
    "def links_to_norm_matrix(links_df, domains, user_id_field):\n",
    "    if ( type(domains) == set ):\n",
    "        domains = list(domains)\n",
    "        \n",
    "    shares_df = links_df_to_shares(links_df, domains, user_id_field)\n",
    "    return sklearn.preprocessing.normalize(shares_df[domains], norm=\"l2\", axis=1)\n",
    "\n",
    "def get_top_channels(yt_df, user_id_field, top_n=100):\n",
    "    channel_user_counts = {}\n",
    "    for channel, group in yt_df.groupby(\"channel_id\"):\n",
    "        local_users = set(group[user_id_field])\n",
    "        channel_user_counts[channel] = len(local_users)\n",
    "\n",
    "    return sorted(channel_user_counts, key=channel_user_counts.get, reverse=True)[:top_n]\n",
    "\n",
    "def channels_df_to_shares(links_df, channels, user_id_field):\n",
    "    user_shares = []\n",
    "\n",
    "    for user,user_posts in links_df.groupby(user_id_field):\n",
    "        local_chan_counts = dict(user_posts[\"channel_id\"].value_counts().items())\n",
    "        local_vector = [local_chan_counts.get(x, 0) for x in channels]\n",
    "        user_shares.append([user] + local_vector)\n",
    "\n",
    "    return pd.DataFrame(user_shares, columns=[user_id_field] + channels)\n",
    "\n",
    "def channels_to_norm_matrix(links_df, channels, user_id_field):\n",
    "    if ( type(channels) == set ):\n",
    "        channels = list(channels)\n",
    "        \n",
    "    shares_df = channels_df_to_shares(links_df, channels, user_id_field)\n",
    "    return sklearn.preprocessing.normalize(shares_df[channels], norm=\"l2\", axis=1)\n"
   ]
  },
  {
   "cell_type": "code",
   "execution_count": null,
   "metadata": {},
   "outputs": [],
   "source": []
  },
  {
   "cell_type": "code",
   "execution_count": 6,
   "metadata": {},
   "outputs": [],
   "source": [
    "top_n_channels = 250\n",
    "bootstrap_count = 5000"
   ]
  },
  {
   "cell_type": "code",
   "execution_count": null,
   "metadata": {},
   "outputs": [],
   "source": []
  },
  {
   "cell_type": "code",
   "execution_count": 7,
   "metadata": {},
   "outputs": [],
   "source": [
    "short_domain_map = {\n",
    "    \"abcn.ws\": \"abcnews.go.com\",\n",
    "    \"amzn.to\": \"amazon.com\",\n",
    "    \"apne.ws\": \"apnews.com\",\n",
    "    \"apple.co\": \"apple.com\",\n",
    "    \"bbc.in\": \"bbc.com\",\n",
    "    \"ble.ac\": \"bleacherreport.com\",\n",
    "    \"bloom.bg\": \"bloomberg.com\",\n",
    "    \"bzfd.it\": \"buzzfeed.com\",\n",
    "    \"cbsloc.al\": \"cbslocal.com\",\n",
    "    \"cnb.cx\": \"cnbc.com\",\n",
    "    \"cnn.it\": \"cnn.com\",\n",
    "    \"cnn.it\": \"cnn.com\",\n",
    "    \"dailym.ai\" : \"dailymail.co.uk\",\n",
    "    \"econ.st\": \"economist.com\",\n",
    "    \"es.pn\": \"espn.com\",\n",
    "    \"fxn.ws\": \"foxnews.com\",\n",
    "    \"hill.cm\": \"thehill.com\",\n",
    "    \"huff.to\" : \"huffingtonpost.com\",\n",
    "    \"lat.ms\": \"latimes.com\",\n",
    "    \"lnkd.in\": \"linkedin.com\",\n",
    "    \"n.pr\": \"npr.org\",\n",
    "    \"nbcnews.to\": \"nbcnews.com\",\n",
    "    \"nydn.us\": \"nydailynews.com\",\n",
    "    \"nyp.st\": \"nypost.com\",\n",
    "    \"nyti.ms\": \"nytimes.com\",\n",
    "    \"on.rt.com\": \"rt.com\",\n",
    "    \"on.wsj.com\": \"wsj.com\",\n",
    "    \"politi.co\": \"politico.com\",\n",
    "    \"redd.it\": \"reddit.com\",\n",
    "    \"reut.rs\": \"reuters.com\",\n",
    "    \"thebea.st\": \"thedailybeast.com\",\n",
    "    \"ti.me\": \"time.com\",\n",
    "    \"tmblr.co\": \"tumblr.com\",\n",
    "    \"usat.ly\": \"usatoday.com\",\n",
    "    \"wapo.st\": \"washingtonpost.com\",\n",
    "    \"wp.me\": \"wordpress.com\",\n",
    "    \"wpo.st\": \"washingtonpost.com\",\n",
    "    \"yhoo.it\": \"yahoo.com\",\n",
    "    \"youtu.be\": \"youtube.com\",\n",
    "}"
   ]
  },
  {
   "cell_type": "code",
   "execution_count": null,
   "metadata": {},
   "outputs": [],
   "source": []
  },
  {
   "cell_type": "code",
   "execution_count": 8,
   "metadata": {},
   "outputs": [],
   "source": [
    "twitter_links_df_rand = pd.read_csv(\"twitter_random_us_sample_links.csv\",\n",
    "    converters={\"created_at\": convert_date})\n",
    "twitter_links_df_poli = pd.read_csv(\"twitter_political_us_sample_links.csv\",\n",
    "    converters={\"created_at\": convert_date})\n",
    "twitter_links_df_ira = pd.read_csv(\n",
    "    \"twitter_ira_links.csv\",\n",
    "    converters={\"created_at\": lambda x: datetime.datetime.strptime(x, \"%Y-%m-%d %H:%M:%S\")}\n",
    ")"
   ]
  },
  {
   "cell_type": "code",
   "execution_count": 9,
   "metadata": {},
   "outputs": [],
   "source": [
    "twitter_links_df_rand[\"tld\"] = twitter_links_df_rand[\"tld\"].apply(lambda x: short_domain_map.get(x, x))\n",
    "twitter_links_df_poli[\"tld\"] = twitter_links_df_poli[\"tld\"].apply(lambda x: short_domain_map.get(x, x))\n",
    "twitter_links_df_ira[\"tld\"] = twitter_links_df_ira[\"tld\"].apply(lambda x: short_domain_map.get(x, x))"
   ]
  },
  {
   "cell_type": "code",
   "execution_count": null,
   "metadata": {},
   "outputs": [],
   "source": []
  },
  {
   "cell_type": "code",
   "execution_count": null,
   "metadata": {},
   "outputs": [],
   "source": []
  },
  {
   "cell_type": "code",
   "execution_count": 10,
   "metadata": {},
   "outputs": [],
   "source": [
    "reddit_links_df_rand = pd.read_csv(\"reddit_random_links.csv\",\n",
    "    converters={\"created_at\": convert_time})\n",
    "reddit_links_df_poli = pd.read_csv(\"reddit_political_links.csv\",\n",
    "    converters={\"created_at\": convert_time})\n",
    "reddit_links_df_ira = pd.read_csv(\"reddit_troll_links.csv\",\n",
    "    converters={\"created_at\": convert_time}\n",
    ")"
   ]
  },
  {
   "cell_type": "code",
   "execution_count": 11,
   "metadata": {},
   "outputs": [],
   "source": [
    "reddit_links_df_rand[\"tld\"] = reddit_links_df_rand[\"tld\"].apply(lambda x: short_domain_map.get(x, x))\n",
    "reddit_links_df_poli[\"tld\"] = reddit_links_df_poli[\"tld\"].apply(lambda x: short_domain_map.get(x, x))\n",
    "reddit_links_df_ira[\"tld\"] = reddit_links_df_ira[\"tld\"].apply(lambda x: short_domain_map.get(x, x))"
   ]
  },
  {
   "cell_type": "code",
   "execution_count": null,
   "metadata": {},
   "outputs": [],
   "source": []
  },
  {
   "cell_type": "markdown",
   "metadata": {},
   "source": [
    "# YouTube Channel Distributions\n",
    "\n",
    "We've checked the differences in top-level domain sharing, but we know YouTube was very popular as well. Now, we turn to the distributions of YouTube channels."
   ]
  },
  {
   "cell_type": "code",
   "execution_count": 12,
   "metadata": {},
   "outputs": [],
   "source": [
    "twitter_yt_df_rand = twitter_links_df_rand[twitter_links_df_rand.tld == \"youtube.com\"].copy()\n",
    "twitter_yt_df_poli = twitter_links_df_poli[twitter_links_df_poli.tld == \"youtube.com\"].copy()\n",
    "twitter_yt_df_ira = twitter_links_df_ira[twitter_links_df_ira.tld == \"youtube.com\"].copy()\n",
    "\n",
    "twitter_yt_df_rand[\"video_id\"] = twitter_yt_df_rand.link.apply(strip_video_id_from_url)\n",
    "twitter_yt_df_poli[\"video_id\"] = twitter_yt_df_poli.link.apply(strip_video_id_from_url)\n",
    "twitter_yt_df_ira[\"video_id\"] = twitter_yt_df_ira.link.apply(strip_video_id_from_url)\n",
    "\n",
    "twitter_yt_df_rand = twitter_yt_df_rand.dropna(subset=[\"video_id\"])\n",
    "twitter_yt_df_poli = twitter_yt_df_poli.dropna(subset=[\"video_id\"])\n",
    "twitter_yt_df_ira = twitter_yt_df_ira.dropna(subset=[\"video_id\"])\n"
   ]
  },
  {
   "cell_type": "code",
   "execution_count": 13,
   "metadata": {},
   "outputs": [
    {
     "name": "stdout",
     "output_type": "stream",
     "text": [
      "Unique YT Videos: 154835\n"
     ]
    }
   ],
   "source": [
    "twitter_video_ids = set(twitter_yt_df_rand[\"video_id\"]).union(set(twitter_yt_df_poli[\"video_id\"])).union(set(twitter_yt_df_ira[\"video_id\"]))\n",
    "print(\"Unique YT Videos:\", len(twitter_video_ids))\n",
    "\n",
    "with open(\"twitter_all_video_ids.csv\", \"w\") as out_file:\n",
    "    out_file.write(\"video_id\\n\")\n",
    "    for video_id in twitter_video_ids:\n",
    "        if ( len(video_id.strip()) == 0 ):\n",
    "            continue\n",
    "        out_file.write(\"%s\\n\" % video_id)"
   ]
  },
  {
   "cell_type": "code",
   "execution_count": null,
   "metadata": {},
   "outputs": [],
   "source": []
  },
  {
   "cell_type": "code",
   "execution_count": 14,
   "metadata": {},
   "outputs": [],
   "source": [
    "reddit_yt_df_rand = reddit_links_df_rand[reddit_links_df_rand.tld == \"youtube.com\"].copy()\n",
    "reddit_yt_df_poli = reddit_links_df_poli[reddit_links_df_poli.tld == \"youtube.com\"].copy()\n",
    "reddit_yt_df_ira = reddit_links_df_ira[reddit_links_df_ira.tld == \"youtube.com\"].copy()\n",
    "\n",
    "reddit_yt_df_rand[\"video_id\"] = reddit_yt_df_rand.link.apply(strip_video_id_from_url)\n",
    "reddit_yt_df_poli[\"video_id\"] = reddit_yt_df_poli.link.apply(strip_video_id_from_url)\n",
    "reddit_yt_df_ira[\"video_id\"] = reddit_yt_df_ira.link.apply(strip_video_id_from_url)\n",
    "\n",
    "reddit_yt_df_rand = reddit_yt_df_rand.dropna(subset=[\"video_id\"])\n",
    "reddit_yt_df_poli = reddit_yt_df_poli.dropna(subset=[\"video_id\"])\n",
    "reddit_yt_df_ira = reddit_yt_df_ira.dropna(subset=[\"video_id\"])\n"
   ]
  },
  {
   "cell_type": "code",
   "execution_count": 15,
   "metadata": {},
   "outputs": [
    {
     "name": "stdout",
     "output_type": "stream",
     "text": [
      "Unique YT Videos: 50348\n"
     ]
    }
   ],
   "source": [
    "reddit_video_ids = set(reddit_yt_df_rand[\"video_id\"]).union(set(reddit_yt_df_poli[\"video_id\"])).union(set(reddit_yt_df_ira[\"video_id\"]))\n",
    "print(\"Unique YT Videos:\", len(reddit_video_ids))\n",
    "\n",
    "with open(\"reddit_all_video_ids.csv\", \"w\") as out_file:\n",
    "    out_file.write(\"video_id\\n\")\n",
    "    for video_id in reddit_video_ids:\n",
    "        if ( len(video_id.strip()) == 0 ):\n",
    "            continue\n",
    "        video_id = video_id.replace(\"%\", \"\")\n",
    "        out_file.write(\"%s\\n\" % video_id)"
   ]
  },
  {
   "cell_type": "code",
   "execution_count": 16,
   "metadata": {},
   "outputs": [
    {
     "name": "stdout",
     "output_type": "stream",
     "text": [
      "Merged YT Videos: 202324\n"
     ]
    }
   ],
   "source": [
    "all_video_ids = reddit_video_ids.union(twitter_video_ids)\n",
    "print(\"Merged YT Videos:\", len(all_video_ids))\n",
    "\n",
    "with open(\"twitter+reddit_all_video_ids.csv\", \"w\") as out_file:\n",
    "    out_file.write(\"video_id\\n\")\n",
    "    for video_id in all_video_ids:\n",
    "        if ( len(video_id.strip()) == 0 ):\n",
    "            continue\n",
    "        out_file.write(\"%s\\n\" % video_id)"
   ]
  },
  {
   "cell_type": "code",
   "execution_count": null,
   "metadata": {},
   "outputs": [],
   "source": []
  },
  {
   "cell_type": "code",
   "execution_count": 17,
   "metadata": {},
   "outputs": [
    {
     "name": "stdout",
     "output_type": "stream",
     "text": [
      "random : 250\n",
      "political : 250\n",
      "ira : 250\n"
     ]
    }
   ],
   "source": [
    "twitter_yt_meta_df = pd.read_csv(\"twitter_video_metadata.csv\")\n",
    "twitter_yt_vid2chan_map = {row[\"video_id\"]:row[\"channel_id\"] for idx, row in twitter_yt_meta_df.iterrows()}\n",
    "\n",
    "twitter_yt_df_rand[\"channel_id\"] = twitter_yt_df_rand[\"video_id\"].apply(twitter_yt_vid2chan_map.get)\n",
    "twitter_yt_df_poli[\"channel_id\"] = twitter_yt_df_poli[\"video_id\"].apply(twitter_yt_vid2chan_map.get)\n",
    "twitter_yt_df_ira[\"channel_id\"] = twitter_yt_df_ira[\"video_id\"].apply(twitter_yt_vid2chan_map.get)\n",
    "\n",
    "twitter_top_yt_chans_rand = get_top_channels(twitter_yt_df_rand, user_id_field=\"user_id\", top_n=top_n_channels)\n",
    "twitter_top_yt_chans_poli = get_top_channels(twitter_yt_df_poli, user_id_field=\"user_id\", top_n=top_n_channels)\n",
    "twitter_top_yt_chans_ira = get_top_channels(twitter_yt_df_ira, user_id_field=\"user_id\", top_n=top_n_channels)\n",
    "\n",
    "top_yt_chans_map_twitter = {\n",
    "    \"random\": set(twitter_top_yt_chans_rand),\n",
    "    \"political\": set(twitter_top_yt_chans_poli),\n",
    "    \"ira\": set(twitter_top_yt_chans_ira),\n",
    "}\n",
    "\n",
    "for population, tlds in top_yt_chans_map_twitter.items():\n",
    "    print(population, \":\", len(tlds))\n"
   ]
  },
  {
   "cell_type": "code",
   "execution_count": 18,
   "metadata": {},
   "outputs": [
    {
     "name": "stdout",
     "output_type": "stream",
     "text": [
      "random : 250\n",
      "political : 250\n",
      "ira : 127\n"
     ]
    }
   ],
   "source": [
    "reddit_yt_meta_df = pd.read_csv(\"reddit_all_video_metadata.csv\")\n",
    "reddit_yt_vid2chan_map = {row[\"video_id\"]:row[\"channel_id\"] for idx, row in reddit_yt_meta_df.iterrows()}\n",
    "\n",
    "reddit_yt_df_rand[\"channel_id\"] = reddit_yt_df_rand[\"video_id\"].apply(reddit_yt_vid2chan_map.get)\n",
    "reddit_yt_df_poli[\"channel_id\"] = reddit_yt_df_poli[\"video_id\"].apply(reddit_yt_vid2chan_map.get)\n",
    "reddit_yt_df_ira[\"channel_id\"] = reddit_yt_df_ira[\"video_id\"].apply(reddit_yt_vid2chan_map.get)\n",
    "\n",
    "reddit_top_yt_chans_rand = get_top_channels(reddit_yt_df_rand, user_id_field=\"user_name\", top_n=top_n_channels)\n",
    "reddit_top_yt_chans_poli = get_top_channels(reddit_yt_df_poli, user_id_field=\"user_name\", top_n=top_n_channels)\n",
    "reddit_top_yt_chans_ira = get_top_channels(reddit_yt_df_ira, user_id_field=\"user_name\", top_n=top_n_channels)\n",
    "\n",
    "top_yt_chans_map_reddit = {\n",
    "    \"random\": set(reddit_top_yt_chans_rand),\n",
    "    \"political\": set(reddit_top_yt_chans_poli),\n",
    "    \"ira\": set(reddit_top_yt_chans_ira),\n",
    "}\n",
    "\n",
    "for population, tlds in top_yt_chans_map_reddit.items():\n",
    "    print(population, \":\", len(tlds))\n"
   ]
  },
  {
   "cell_type": "code",
   "execution_count": null,
   "metadata": {},
   "outputs": [],
   "source": []
  },
  {
   "cell_type": "code",
   "execution_count": null,
   "metadata": {},
   "outputs": [],
   "source": []
  },
  {
   "cell_type": "code",
   "execution_count": 19,
   "metadata": {},
   "outputs": [
    {
     "name": "stdout",
     "output_type": "stream",
     "text": [
      "Rand->Poli Overlap: 107\n",
      "Rand->IRA Overlap: 34\n",
      "Poli->IRA Overlap: 41\n"
     ]
    },
    {
     "data": {
      "image/png": "[encoded data removed]",
      "text/plain": [
       "<Figure size 432x288 with 1 Axes>"
      ]
     },
     "metadata": {},
     "output_type": "display_data"
    },
    {
     "data": {
      "image/png": "[encoded data removed]",
      "text/plain": [
       "<Figure size 432x288 with 1 Axes>"
      ]
     },
     "metadata": {},
     "output_type": "display_data"
    }
   ],
   "source": [
    "twitter_overlap_rand_poli = top_yt_chans_map_twitter[\"random\"].intersection(top_yt_chans_map_twitter[\"political\"])\n",
    "twitter_overlap_rand_ira = top_yt_chans_map_twitter[\"random\"].intersection(top_yt_chans_map_twitter[\"ira\"])\n",
    "twitter_overlap_poli_ira = top_yt_chans_map_twitter[\"political\"].intersection(top_yt_chans_map_twitter[\"ira\"])\n",
    "\n",
    "print(\"Rand->Poli Overlap:\", len(twitter_overlap_rand_poli))\n",
    "print(\"Rand->IRA Overlap:\", len(twitter_overlap_rand_ira))\n",
    "print(\"Poli->IRA Overlap:\", len(twitter_overlap_poli_ira))\n",
    "\n",
    "twitter_user_links_mat_rand = channels_to_norm_matrix(twitter_yt_df_rand, top_yt_chans_map_twitter[\"random\"], \"user_id\")\n",
    "twitter_user_links_mat_poli = channels_to_norm_matrix(twitter_yt_df_poli, top_yt_chans_map_twitter[\"political\"], \"user_id\")\n",
    "twitter_user_links_mat_ira = channels_to_norm_matrix(twitter_yt_df_ira, top_yt_chans_map_twitter[\"ira\"], \"user_id\")\n",
    "\n",
    "# Calculate pairwise similarity among users across populations\n",
    "t2t_rand_rand_sim = sklearn.metrics.pairwise.cosine_similarity(twitter_user_links_mat_rand, twitter_user_links_mat_rand)\n",
    "t2t_poli_poli_sim = sklearn.metrics.pairwise.cosine_similarity(twitter_user_links_mat_poli, twitter_user_links_mat_poli)\n",
    "t2t_ira_ira_sim = sklearn.metrics.pairwise.cosine_similarity(twitter_user_links_mat_ira, twitter_user_links_mat_ira)\n",
    "\n",
    "t2t_ira_rand_sim = sklearn.metrics.pairwise.cosine_similarity(\n",
    "    channels_to_norm_matrix(twitter_yt_df_ira, twitter_overlap_rand_ira, \"user_id\"), \n",
    "    channels_to_norm_matrix(twitter_yt_df_rand, twitter_overlap_rand_ira, \"user_id\"))\n",
    "t2t_ira_poli_sim = sklearn.metrics.pairwise.cosine_similarity(\n",
    "    channels_to_norm_matrix(twitter_yt_df_ira, twitter_overlap_poli_ira, \"user_id\"), \n",
    "    channels_to_norm_matrix(twitter_yt_df_poli, twitter_overlap_poli_ira, \"user_id\"))\n",
    "t2t_rand_poli_sim = sklearn.metrics.pairwise.cosine_similarity(\n",
    "    channels_to_norm_matrix(twitter_yt_df_rand, twitter_overlap_rand_poli, \"user_id\"), \n",
    "    channels_to_norm_matrix(twitter_yt_df_poli, twitter_overlap_rand_poli, \"user_id\"))\n",
    "\n",
    "# Collapse similarities down to get the mean similarity for each user on the left to all users on the right\n",
    "#. note the minus 1 and reduction of shape by 1 for the within-platform groups, which I do to remove the \n",
    "#. self-similarity effect\n",
    "t2t_rand_rand_sim_avg = (np.sum(t2t_rand_rand_sim, axis=1) - 1) / (twitter_user_links_mat_rand.shape[0] - 1)\n",
    "t2t_poli_poli_sim_avg = (np.sum(t2t_poli_poli_sim, axis=1) - 1) / (twitter_user_links_mat_poli.shape[0] - 1)\n",
    "t2t_ira_ira_sim_avg = (np.sum(t2t_ira_ira_sim, axis=1) - 1) / (twitter_user_links_mat_ira.shape[0] - 1)\n",
    "t2t_ira_rand_sim_avg = np.mean(t2t_ira_rand_sim, axis=1)\n",
    "t2t_ira_poli_sim_avg = np.mean(t2t_ira_poli_sim, axis=1)\n",
    "t2t_ira_ira_sim_avg = np.mean(t2t_ira_ira_sim, axis=1)\n",
    "t2t_rand_poli_sim_avg = np.mean(t2t_rand_poli_sim, axis=1)\n",
    "\n",
    "# Show similarity distribution within populations in this platform\n",
    "t2t_rand_rand_sim_avg_bootstrap = [sklearn.utils.resample(t2t_rand_rand_sim_avg, replace=True, n_samples=t2t_rand_rand_sim_avg.shape[0]).mean() for i in range(bootstrap_count)]\n",
    "t2t_poli_poli_sim_avg_bootstrap = [sklearn.utils.resample(t2t_poli_poli_sim_avg, replace=True, n_samples=t2t_poli_poli_sim_avg.shape[0]).mean() for i in range(bootstrap_count)]\n",
    "t2t_ira_ira_sim_avg_bootstrap = [sklearn.utils.resample(t2t_ira_ira_sim_avg, replace=True, n_samples=t2t_ira_ira_sim_avg.shape[0]).mean() for i in range(bootstrap_count)]\n",
    "\n",
    "plt.hist(t2t_rand_rand_sim_avg_bootstrap, bins=20, density=True, alpha=0.35, label=\"rand-rand\")\n",
    "plt.hist(t2t_poli_poli_sim_avg_bootstrap, bins=20, density=True, alpha=0.35, label=\"poli-poli\")\n",
    "plt.hist(t2t_ira_ira_sim_avg_bootstrap, bins=20, density=True, alpha=0.35, label=\"ira-ira\")\n",
    "\n",
    "plt.title(\"Within-Population Similarity\")\n",
    "plt.legend()\n",
    "plt.show()\n",
    "\n",
    "# Show similarity distribution across populations in this platform\n",
    "t2t_ira_rand_sim_avg_bootstrap = [sklearn.utils.resample(t2t_ira_rand_sim_avg, replace=True, n_samples=t2t_ira_rand_sim_avg.shape[0]).mean() for i in range(bootstrap_count)]\n",
    "t2t_ira_poli_sim_avg_bootstrap = [sklearn.utils.resample(t2t_ira_poli_sim_avg, replace=True, n_samples=t2t_ira_poli_sim_avg.shape[0]).mean() for i in range(bootstrap_count)]\n",
    "t2t_ira_ira_sim_avg_bootstrap = [sklearn.utils.resample(t2t_ira_ira_sim_avg, replace=True, n_samples=t2t_ira_ira_sim_avg.shape[0]).mean() for i in range(bootstrap_count)]\n",
    "\n",
    "plt.hist(t2t_ira_rand_sim_avg_bootstrap, bins=20, density=True, alpha=0.35, label=\"ira-rand\")\n",
    "plt.hist(t2t_ira_poli_sim_avg_bootstrap, bins=20, density=True, alpha=0.35, label=\"ira-poli\")\n",
    "plt.hist(t2t_ira_ira_sim_avg_bootstrap, bins=20, density=True, alpha=0.35, label=\"ira-ira\")\n",
    "\n",
    "plt.title(\"Across-Population Similarity\")\n",
    "plt.legend()\n",
    "plt.show()"
   ]
  },
  {
   "cell_type": "code",
   "execution_count": null,
   "metadata": {},
   "outputs": [],
   "source": []
  },
  {
   "cell_type": "code",
   "execution_count": 20,
   "metadata": {},
   "outputs": [
    {
     "name": "stdout",
     "output_type": "stream",
     "text": [
      "Random-Random: 0.0011968533568272896 2.958622639367535e-09\n",
      "Russian IRA-Random: 0.003090054814739976 6.247398214943342e-09\n",
      "Russian IRA-Political: 0.004145068404626064 1.802746907776989e-08\n"
     ]
    }
   ],
   "source": [
    "print(\"Random-Random:\", np.array(t2t_rand_rand_sim_avg_bootstrap).mean(), np.array(t2t_rand_rand_sim_avg_bootstrap).var())\n",
    "print(\"Russian IRA-Random:\", np.array(t2t_ira_rand_sim_avg_bootstrap).mean(), np.array(t2t_ira_rand_sim_avg_bootstrap).var())\n",
    "print(\"Russian IRA-Political:\", np.array(t2t_ira_poli_sim_avg_bootstrap).mean(), np.array(t2t_ira_poli_sim_avg_bootstrap).var())\n"
   ]
  },
  {
   "cell_type": "code",
   "execution_count": null,
   "metadata": {},
   "outputs": [],
   "source": []
  },
  {
   "cell_type": "code",
   "execution_count": 21,
   "metadata": {},
   "outputs": [
    {
     "data": {
      "image/png": "[encoded data removed]",
      "text/plain": [
       "<Figure size 432x288 with 1 Axes>"
      ]
     },
     "metadata": {},
     "output_type": "display_data"
    }
   ],
   "source": [
    "plt.hist(t2t_rand_rand_sim_avg_bootstrap, bins=20, density=True, alpha=0.35, label=\"Random-Random\")\n",
    "plt.hist(t2t_ira_rand_sim_avg_bootstrap, bins=20, density=True, alpha=0.35, label=\"Russian IRA-Random\")\n",
    "plt.hist(t2t_ira_poli_sim_avg_bootstrap, bins=20, density=True, alpha=0.35, label=\"Russian IRA-Political\")\n",
    "\n",
    "plt.title(\"Within-Twitter Similarity\")\n",
    "plt.legend()\n",
    "plt.grid()\n",
    "plt.show()"
   ]
  },
  {
   "cell_type": "code",
   "execution_count": null,
   "metadata": {},
   "outputs": [],
   "source": []
  },
  {
   "cell_type": "code",
   "execution_count": 22,
   "metadata": {},
   "outputs": [
    {
     "name": "stdout",
     "output_type": "stream",
     "text": [
      "Rand->Poli Overlap: 70\n",
      "Rand->IRA Overlap: 8\n",
      "Poli->IRA Overlap: 18\n"
     ]
    },
    {
     "data": {
      "image/png": "[encoded data removed]",
      "text/plain": [
       "<Figure size 432x288 with 1 Axes>"
      ]
     },
     "metadata": {},
     "output_type": "display_data"
    },
    {
     "data": {
      "image/png": "[encoded data removed]",
      "text/plain": [
       "<Figure size 432x288 with 1 Axes>"
      ]
     },
     "metadata": {},
     "output_type": "display_data"
    }
   ],
   "source": [
    "reddit_overlap_rand_poli = top_yt_chans_map_reddit[\"random\"].intersection(top_yt_chans_map_reddit[\"political\"])\n",
    "reddit_overlap_rand_ira = top_yt_chans_map_reddit[\"random\"].intersection(top_yt_chans_map_reddit[\"ira\"])\n",
    "reddit_overlap_poli_ira = top_yt_chans_map_reddit[\"political\"].intersection(top_yt_chans_map_reddit[\"ira\"])\n",
    "\n",
    "print(\"Rand->Poli Overlap:\", len(reddit_overlap_rand_poli))\n",
    "print(\"Rand->IRA Overlap:\", len(reddit_overlap_rand_ira))\n",
    "print(\"Poli->IRA Overlap:\", len(reddit_overlap_poli_ira))\n",
    "\n",
    "reddit_user_links_mat_rand = channels_to_norm_matrix(reddit_yt_df_rand, top_yt_chans_map_twitter[\"random\"], \"user_name\")\n",
    "reddit_user_links_mat_poli = channels_to_norm_matrix(reddit_yt_df_poli, top_yt_chans_map_twitter[\"political\"], \"user_name\")\n",
    "reddit_user_links_mat_ira = channels_to_norm_matrix(reddit_yt_df_ira, top_yt_chans_map_twitter[\"ira\"], \"user_name\")\n",
    "\n",
    "# Calculate pairwise similarity among users across populations\n",
    "r2r_rand_rand_sim = sklearn.metrics.pairwise.cosine_similarity(reddit_user_links_mat_rand, reddit_user_links_mat_rand)\n",
    "r2r_poli_poli_sim = sklearn.metrics.pairwise.cosine_similarity(reddit_user_links_mat_poli, reddit_user_links_mat_poli)\n",
    "r2r_ira_ira_sim = sklearn.metrics.pairwise.cosine_similarity(reddit_user_links_mat_ira, reddit_user_links_mat_ira)\n",
    "\n",
    "r2r_ira_rand_sim = sklearn.metrics.pairwise.cosine_similarity(\n",
    "    channels_to_norm_matrix(reddit_yt_df_ira, reddit_overlap_rand_ira, \"user_name\"), \n",
    "    channels_to_norm_matrix(reddit_yt_df_rand, reddit_overlap_rand_ira, \"user_name\"))\n",
    "r2r_ira_poli_sim = sklearn.metrics.pairwise.cosine_similarity(\n",
    "    channels_to_norm_matrix(reddit_yt_df_ira, reddit_overlap_poli_ira, \"user_name\"), \n",
    "    channels_to_norm_matrix(reddit_yt_df_poli, reddit_overlap_poli_ira, \"user_name\"))\n",
    "r2r_rand_poli_sim = sklearn.metrics.pairwise.cosine_similarity(\n",
    "    channels_to_norm_matrix(reddit_yt_df_rand, reddit_overlap_rand_poli, \"user_name\"), \n",
    "    channels_to_norm_matrix(reddit_yt_df_poli, reddit_overlap_rand_poli, \"user_name\"))\n",
    "\n",
    "# Collapse similarities down to get the mean similarity for each user on the left to all users on the right\n",
    "#. note the minus 1 and reduction of shape by 1 for the within-platform groups, which I do to remove the \n",
    "#. self-similarity effect\n",
    "r2r_rand_rand_sim_avg = (np.sum(r2r_rand_rand_sim, axis=1) - 1) / (reddit_user_links_mat_rand.shape[0] - 1)\n",
    "r2r_poli_poli_sim_avg = (np.sum(r2r_poli_poli_sim, axis=1) - 1) / (reddit_user_links_mat_poli.shape[0] - 1)\n",
    "r2r_ira_ira_sim_avg = (np.sum(r2r_ira_ira_sim, axis=1) - 1) / (reddit_user_links_mat_ira.shape[0] - 1)\n",
    "r2r_ira_rand_sim_avg = np.mean(r2r_ira_rand_sim, axis=1)\n",
    "r2r_ira_poli_sim_avg = np.mean(r2r_ira_poli_sim, axis=1)\n",
    "r2r_ira_ira_sim_avg = np.mean(r2r_ira_ira_sim, axis=1)\n",
    "r2r_rand_poli_sim_avg = np.mean(r2r_rand_poli_sim, axis=1)\n",
    "\n",
    "# Show similarity distribution within populations in this platform\n",
    "r2r_rand_rand_sim_avg_bootstrap = [sklearn.utils.resample(r2r_rand_rand_sim_avg, replace=True, n_samples=r2r_rand_rand_sim_avg.shape[0]).mean() for i in range(bootstrap_count)]\n",
    "r2r_poli_poli_sim_avg_bootstrap = [sklearn.utils.resample(r2r_poli_poli_sim_avg, replace=True, n_samples=r2r_poli_poli_sim_avg.shape[0]).mean() for i in range(bootstrap_count)]\n",
    "r2r_ira_ira_sim_avg_bootstrap = [sklearn.utils.resample(r2r_ira_ira_sim_avg, replace=True, n_samples=r2r_ira_ira_sim_avg.shape[0]).mean() for i in range(bootstrap_count)]\n",
    "\n",
    "plt.hist(r2r_rand_rand_sim_avg_bootstrap, bins=20, density=True, alpha=0.35, label=\"rand-rand\")\n",
    "plt.hist(r2r_poli_poli_sim_avg_bootstrap, bins=20, density=True, alpha=0.35, label=\"poli-poli\")\n",
    "plt.hist(r2r_ira_ira_sim_avg_bootstrap, bins=20, density=True, alpha=0.35, label=\"ira-ira\")\n",
    "\n",
    "plt.title(\"Within-Population Similarity\")\n",
    "plt.legend()\n",
    "plt.show()\n",
    "\n",
    "# Show similarity distribution across populations in this platform\n",
    "r2r_ira_rand_sim_avg_bootstrap = [sklearn.utils.resample(r2r_ira_rand_sim_avg, replace=True, n_samples=r2r_ira_rand_sim_avg.shape[0]).mean() for i in range(bootstrap_count)]\n",
    "r2r_ira_poli_sim_avg_bootstrap = [sklearn.utils.resample(r2r_ira_poli_sim_avg, replace=True, n_samples=r2r_ira_poli_sim_avg.shape[0]).mean() for i in range(bootstrap_count)]\n",
    "r2r_ira_ira_sim_avg_bootstrap = [sklearn.utils.resample(r2r_ira_ira_sim_avg, replace=True, n_samples=r2r_ira_ira_sim_avg.shape[0]).mean() for i in range(bootstrap_count)]\n",
    "\n",
    "plt.hist(r2r_ira_rand_sim_avg_bootstrap, bins=20, density=True, alpha=0.35, label=\"ira-rand\")\n",
    "plt.hist(r2r_ira_poli_sim_avg_bootstrap, bins=20, density=True, alpha=0.35, label=\"ira-poli\")\n",
    "plt.hist(r2r_ira_ira_sim_avg_bootstrap, bins=20, density=True, alpha=0.35, label=\"ira-ira\")\n",
    "\n",
    "plt.title(\"Across-Population Similarity\")\n",
    "plt.legend()\n",
    "plt.show()"
   ]
  },
  {
   "cell_type": "code",
   "execution_count": null,
   "metadata": {},
   "outputs": [],
   "source": []
  },
  {
   "cell_type": "code",
   "execution_count": 23,
   "metadata": {},
   "outputs": [
    {
     "name": "stdout",
     "output_type": "stream",
     "text": [
      "Random-Random: -0.000353297324256145 2.9763386613720753e-10\n",
      "Russian IRA-Random: 0.0004909598839556023 2.98464321336416e-08\n",
      "Russian IRA-Political: 0.0028153376998974 1.3370645454041288e-06\n"
     ]
    }
   ],
   "source": [
    "print(\"Random-Random:\", np.array(r2r_rand_rand_sim_avg_bootstrap).mean(), np.array(r2r_rand_rand_sim_avg_bootstrap).var())\n",
    "print(\"Russian IRA-Random:\", np.array(r2r_ira_rand_sim_avg_bootstrap).mean(), np.array(r2r_ira_rand_sim_avg_bootstrap).var())\n",
    "print(\"Russian IRA-Political:\", np.array(r2r_ira_poli_sim_avg_bootstrap).mean(), np.array(r2r_ira_poli_sim_avg_bootstrap).var())\n"
   ]
  },
  {
   "cell_type": "code",
   "execution_count": null,
   "metadata": {},
   "outputs": [],
   "source": []
  },
  {
   "cell_type": "code",
   "execution_count": 24,
   "metadata": {},
   "outputs": [
    {
     "data": {
      "image/png": "[encoded data removed]",
      "text/plain": [
       "<Figure size 432x288 with 1 Axes>"
      ]
     },
     "metadata": {},
     "output_type": "display_data"
    }
   ],
   "source": [
    "plt.hist(r2r_rand_rand_sim_avg_bootstrap, bins=20, density=True, alpha=0.35, label=\"Random-Random\")\n",
    "plt.hist(r2r_ira_rand_sim_avg_bootstrap, bins=20, density=True, alpha=0.35, label=\"Russian IRA-Random\")\n",
    "plt.hist(r2r_ira_poli_sim_avg_bootstrap, bins=20, density=True, alpha=0.35, label=\"Russian IRA-Political\")\n",
    "\n",
    "plt.title(\"Within-Reddit Similarity\")\n",
    "plt.legend()\n",
    "plt.grid()\n",
    "plt.show()"
   ]
  },
  {
   "cell_type": "code",
   "execution_count": 25,
   "metadata": {},
   "outputs": [
    {
     "name": "stdout",
     "output_type": "stream",
     "text": [
      "p-value for ANOVA: 0.0 29535.579092224365\n",
      "p-value for Welch's t-Test between IRA-Rand and IRA-Poli: 0.0 -140.5653164239627\n"
     ]
    }
   ],
   "source": [
    "# Test whether the within-group similarities across the three populations are equal\n",
    "f_stat, p_val = scipy.stats.f_oneway(\n",
    "    r2r_rand_rand_sim_avg_bootstrap, \n",
    "    r2r_ira_rand_sim_avg_bootstrap, \n",
    "    r2r_ira_poli_sim_avg_bootstrap)\n",
    "print(\"p-value for ANOVA:\", p_val, f_stat)\n",
    "\n",
    "t_stat, p_val = scipy.stats.ttest_ind(\n",
    "    r2r_ira_rand_sim_avg_bootstrap, \n",
    "    r2r_ira_poli_sim_avg_bootstrap, \n",
    "    axis=0, equal_var=False)\n",
    "print(\"p-value for Welch's t-Test between IRA-Rand and IRA-Poli:\", p_val, t_stat)"
   ]
  },
  {
   "cell_type": "code",
   "execution_count": null,
   "metadata": {},
   "outputs": [],
   "source": []
  },
  {
   "cell_type": "code",
   "execution_count": 26,
   "metadata": {},
   "outputs": [
    {
     "name": "stdout",
     "output_type": "stream",
     "text": [
      "Random Overlap: 73\n",
      "Political Overlap: 127\n",
      "IRA Overlap: 8\n"
     ]
    },
    {
     "data": {
      "image/png": "[encoded data removed]",
      "text/plain": [
       "<Figure size 432x288 with 1 Axes>"
      ]
     },
     "metadata": {},
     "output_type": "display_data"
    }
   ],
   "source": [
    "r2t_overlap_rand = top_yt_chans_map_reddit[\"random\"].intersection(top_yt_chans_map_twitter[\"random\"])\n",
    "r2t_overlap_poli = top_yt_chans_map_reddit[\"political\"].intersection(top_yt_chans_map_twitter[\"political\"])\n",
    "r2t_overlap_ira = top_yt_chans_map_reddit[\"ira\"].intersection(top_yt_chans_map_twitter[\"ira\"])\n",
    "\n",
    "print(\"Random Overlap:\", len(r2t_overlap_rand))\n",
    "print(\"Political Overlap:\", len(r2t_overlap_poli))\n",
    "print(\"IRA Overlap:\", len(r2t_overlap_ira))\n",
    "\n",
    "# Calculate pairwise similarity among users across platforms\n",
    "r2t_rand_sim = sklearn.metrics.pairwise.cosine_similarity(\n",
    "    channels_to_norm_matrix(reddit_yt_df_rand, r2t_overlap_rand, \"user_name\"), \n",
    "    channels_to_norm_matrix(twitter_yt_df_rand, r2t_overlap_rand, \"user_id\"))\n",
    "r2t_poli_sim = sklearn.metrics.pairwise.cosine_similarity(\n",
    "    channels_to_norm_matrix(reddit_yt_df_poli, r2t_overlap_poli, \"user_name\"), \n",
    "    channels_to_norm_matrix(twitter_yt_df_poli, r2t_overlap_poli, \"user_id\"))\n",
    "r2t_ira_sim = sklearn.metrics.pairwise.cosine_similarity(\n",
    "    channels_to_norm_matrix(reddit_yt_df_ira, r2t_overlap_ira, \"user_name\"), \n",
    "    channels_to_norm_matrix(twitter_yt_df_ira, r2t_overlap_ira, \"user_id\"))\n",
    "\n",
    "# Collapse similarities down to get the mean similarity for each user on the left to all users on the right\n",
    "r2t_rand_sim_avg = np.mean(r2t_rand_sim, axis=1)\n",
    "r2t_poli_sim_avg = np.mean(r2t_poli_sim, axis=1)\n",
    "r2t_ira_sim_avg = np.mean(r2t_ira_sim, axis=1)\n",
    "\n",
    "# Show similarity distribution within populations in this platform\n",
    "r2t_rand_sim_avg_bootstrap = [sklearn.utils.resample(r2t_rand_sim_avg, replace=True, n_samples=r2t_rand_sim_avg.shape[0]).mean() for i in range(bootstrap_count)]\n",
    "r2t_poli_sim_avg_bootstrap = [sklearn.utils.resample(r2t_poli_sim_avg, replace=True, n_samples=r2t_poli_sim_avg.shape[0]).mean() for i in range(bootstrap_count)]\n",
    "r2t_ira_sim_avg_bootstrap = [sklearn.utils.resample(r2t_ira_sim_avg, replace=True, n_samples=r2t_ira_sim_avg.shape[0]).mean() for i in range(bootstrap_count)]\n",
    "\n",
    "plt.hist(r2t_rand_sim_avg_bootstrap, bins=20, density=True, alpha=0.35, label=\"Random R2T\")\n",
    "plt.hist(r2t_poli_sim_avg_bootstrap, bins=20, density=True, alpha=0.35, label=\"Political R2T\")\n",
    "plt.hist(r2t_ira_sim_avg_bootstrap, bins=20, density=True, alpha=0.35, label=\"IRA R2T\")\n",
    "\n",
    "plt.title(\"Within-Population, Across-Platform Similarity\")\n",
    "plt.legend()\n",
    "plt.show()\n",
    "\n"
   ]
  },
  {
   "cell_type": "code",
   "execution_count": 27,
   "metadata": {},
   "outputs": [
    {
     "name": "stdout",
     "output_type": "stream",
     "text": [
      "Random-R2T: 0.0004235715895865953 1.7874722389748896e-09\n",
      "Political-R2T: 0.0021107836831806394 6.897928076259002e-09\n",
      "Russian IRA-R2T: 0.006558005491178176 8.723892914624505e-06\n"
     ]
    }
   ],
   "source": [
    "print(\"Random-R2T:\", np.array(r2t_rand_sim_avg_bootstrap).mean(), np.array(r2t_rand_sim_avg_bootstrap).var())\n",
    "print(\"Political-R2T:\", np.array(r2t_poli_sim_avg_bootstrap).mean(), np.array(r2t_poli_sim_avg_bootstrap).var())\n",
    "print(\"Russian IRA-R2T:\", np.array(r2t_ira_sim_avg_bootstrap).mean(), np.array(r2t_ira_sim_avg_bootstrap).var())\n"
   ]
  },
  {
   "cell_type": "code",
   "execution_count": null,
   "metadata": {},
   "outputs": [],
   "source": []
  },
  {
   "cell_type": "code",
   "execution_count": 28,
   "metadata": {},
   "outputs": [
    {
     "name": "stdout",
     "output_type": "stream",
     "text": [
      "Russian IRA-R2T: 0.006558005491178176 8.723892914624505e-06\n",
      "Russian IRA-RRandom: 0.0004909598839556023 2.98464321336416e-08\n",
      "Russian IRA-RPoli: 0.0028153376998974 1.3370645454041288e-06\n"
     ]
    }
   ],
   "source": [
    "print(\"Russian IRA-R2T:\", np.array(r2t_ira_sim_avg_bootstrap).mean(), np.array(r2t_ira_sim_avg_bootstrap).var())\n",
    "print(\"Russian IRA-RRandom:\", np.array(r2r_ira_rand_sim_avg_bootstrap).mean(), np.array(r2r_ira_rand_sim_avg_bootstrap).var())\n",
    "print(\"Russian IRA-RPoli:\", np.array(r2r_ira_poli_sim_avg_bootstrap).mean(), np.array(r2r_ira_poli_sim_avg_bootstrap).var())\n"
   ]
  },
  {
   "cell_type": "code",
   "execution_count": null,
   "metadata": {},
   "outputs": [],
   "source": []
  },
  {
   "cell_type": "code",
   "execution_count": 29,
   "metadata": {},
   "outputs": [
    {
     "data": {
      "image/png": "[encoded data removed]",
      "text/plain": [
       "<Figure size 432x288 with 1 Axes>"
      ]
     },
     "metadata": {},
     "output_type": "display_data"
    }
   ],
   "source": [
    "plt.hist(r2t_ira_sim_avg_bootstrap, bins=20, density=True, alpha=0.35, label=\"Russian IRA Reddit-Twitter\")\n",
    "plt.hist(r2r_ira_rand_sim_avg_bootstrap, bins=20, density=True, alpha=0.35, label=\"Russian IRA-Random\")\n",
    "plt.hist(r2r_ira_poli_sim_avg_bootstrap, bins=20, density=True, alpha=0.35, label=\"Russian IRA-Political\")\n",
    "\n",
    "plt.title(\"Reddit-to-Twitter Similarity\")\n",
    "plt.legend()\n",
    "plt.grid()\n",
    "plt.show()"
   ]
  },
  {
   "cell_type": "code",
   "execution_count": 30,
   "metadata": {},
   "outputs": [
    {
     "name": "stdout",
     "output_type": "stream",
     "text": [
      "p-value for ANOVA: 0.0 13925.573611519707\n",
      "p-value for Welch's t-Test between Twitter-Reddit and IRA-Rand: 0.0 144.98464936994742\n",
      "p-value for Welch's t-Test between Twitter-Reddit and IRA-Poli: 0.0 83.42634013641516\n"
     ]
    }
   ],
   "source": [
    "# Test whether the within-group similarities across the three populations are equal\n",
    "f_stat, p_val = scipy.stats.f_oneway(\n",
    "    r2t_ira_sim_avg_bootstrap, \n",
    "    r2r_ira_rand_sim_avg_bootstrap, \n",
    "    r2r_ira_poli_sim_avg_bootstrap)\n",
    "print(\"p-value for ANOVA:\", p_val, f_stat)\n",
    "\n",
    "t_stat, p_val = scipy.stats.ttest_ind(\n",
    "    r2t_ira_sim_avg_bootstrap, \n",
    "    r2r_ira_rand_sim_avg_bootstrap, \n",
    "    axis=0, equal_var=False)\n",
    "print(\"p-value for Welch's t-Test between Twitter-Reddit and IRA-Rand:\", p_val, t_stat)\n",
    "\n",
    "t_stat, p_val = scipy.stats.ttest_ind(\n",
    "    r2t_ira_sim_avg_bootstrap,\n",
    "    r2r_ira_poli_sim_avg_bootstrap, \n",
    "    axis=0, equal_var=False)\n",
    "print(\"p-value for Welch's t-Test between Twitter-Reddit and IRA-Poli:\", p_val, t_stat)"
   ]
  },
  {
   "cell_type": "code",
   "execution_count": null,
   "metadata": {},
   "outputs": [],
   "source": []
  },
  {
   "cell_type": "code",
   "execution_count": null,
   "metadata": {},
   "outputs": [],
   "source": []
  },
  {
   "cell_type": "code",
   "execution_count": 31,
   "metadata": {},
   "outputs": [
    {
     "data": {
      "image/png": "[encoded data removed]",
      "text/plain": [
       "<Figure size 432x288 with 1 Axes>"
      ]
     },
     "metadata": {},
     "output_type": "display_data"
    }
   ],
   "source": [
    "t2r_rand_sim = sklearn.metrics.pairwise.cosine_similarity(\n",
    "    channels_to_norm_matrix(twitter_yt_df_rand, r2t_overlap_rand, \"user_id\"), \n",
    "    channels_to_norm_matrix(reddit_yt_df_rand, r2t_overlap_rand, \"user_name\"))\n",
    "t2r_poli_sim = sklearn.metrics.pairwise.cosine_similarity(\n",
    "    channels_to_norm_matrix(twitter_yt_df_poli, r2t_overlap_poli, \"user_id\"), \n",
    "    channels_to_norm_matrix(reddit_yt_df_poli, r2t_overlap_poli, \"user_name\"))\n",
    "t2r_ira_sim = sklearn.metrics.pairwise.cosine_similarity(\n",
    "    channels_to_norm_matrix(twitter_yt_df_ira, r2t_overlap_ira, \"user_id\"), \n",
    "    channels_to_norm_matrix(reddit_yt_df_ira, r2t_overlap_ira, \"user_name\"))\n",
    "\n",
    "# Collapse similarities down to get the mean similarity for each user on the left to all users on the right\n",
    "t2r_rand_sim_avg = np.mean(t2r_rand_sim, axis=1)\n",
    "t2r_poli_sim_avg = np.mean(t2r_poli_sim, axis=1)\n",
    "t2r_ira_sim_avg = np.mean(t2r_ira_sim, axis=1)\n",
    "\n",
    "# Show similarity distribution within populations in this platform\n",
    "t2r_rand_sim_avg_bootstrap = [sklearn.utils.resample(t2r_rand_sim_avg, replace=True, n_samples=t2r_rand_sim_avg.shape[0]).mean() for i in range(bootstrap_count)]\n",
    "t2r_poli_sim_avg_bootstrap = [sklearn.utils.resample(t2r_poli_sim_avg, replace=True, n_samples=t2r_poli_sim_avg.shape[0]).mean() for i in range(bootstrap_count)]\n",
    "t2r_ira_sim_avg_bootstrap = [sklearn.utils.resample(t2r_ira_sim_avg, replace=True, n_samples=t2r_ira_sim_avg.shape[0]).mean() for i in range(bootstrap_count)]\n",
    "\n",
    "plt.hist(t2r_rand_sim_avg_bootstrap, bins=20, density=True, alpha=0.35, label=\"Random R2T\")\n",
    "plt.hist(t2r_poli_sim_avg_bootstrap, bins=20, density=True, alpha=0.35, label=\"Political R2T\")\n",
    "plt.hist(t2r_ira_sim_avg_bootstrap, bins=20, density=True, alpha=0.35, label=\"IRA R2T\")\n",
    "\n",
    "plt.title(\"Within-Population, Across-Platform Similarity\")\n",
    "plt.legend()\n",
    "plt.show()\n",
    "\n",
    "\n"
   ]
  },
  {
   "cell_type": "code",
   "execution_count": null,
   "metadata": {},
   "outputs": [],
   "source": []
  },
  {
   "cell_type": "code",
   "execution_count": 32,
   "metadata": {},
   "outputs": [
    {
     "name": "stdout",
     "output_type": "stream",
     "text": [
      "Russian IRA-T2R: 0.006565320145965732 1.447369393152545e-07\n",
      "Russian IRA-TRandom: 0.003090054814739976 6.247398214943342e-09\n",
      "Russian IRA-TPoli: 0.004145068404626064 1.802746907776989e-08\n"
     ]
    }
   ],
   "source": [
    "print(\"Russian IRA-T2R:\", np.array(t2r_ira_sim_avg_bootstrap).mean(), np.array(t2r_ira_sim_avg_bootstrap).var())\n",
    "print(\"Russian IRA-TRandom:\", np.array(t2t_ira_rand_sim_avg_bootstrap).mean(), np.array(t2t_ira_rand_sim_avg_bootstrap).var())\n",
    "print(\"Russian IRA-TPoli:\", np.array(t2t_ira_poli_sim_avg_bootstrap).mean(), np.array(t2t_ira_poli_sim_avg_bootstrap).var())\n",
    "\n"
   ]
  },
  {
   "cell_type": "code",
   "execution_count": null,
   "metadata": {},
   "outputs": [],
   "source": []
  },
  {
   "cell_type": "code",
   "execution_count": 33,
   "metadata": {},
   "outputs": [
    {
     "data": {
      "image/png": "[encoded data removed]",
      "text/plain": [
       "<Figure size 432x288 with 1 Axes>"
      ]
     },
     "metadata": {},
     "output_type": "display_data"
    }
   ],
   "source": [
    "plt.hist(t2r_ira_sim_avg_bootstrap, bins=20, density=True, alpha=0.35, label=\"Russian IRA Twitter-Reddit\")\n",
    "plt.hist(t2t_ira_rand_sim_avg_bootstrap, bins=20, density=True, alpha=0.35, label=\"Russian IRA-Random\")\n",
    "plt.hist(t2t_ira_poli_sim_avg_bootstrap, bins=20, density=True, alpha=0.35, label=\"Russian IRA-Political\")\n",
    "\n",
    "plt.title(\"Twitter-to-Reddit Similarity\")\n",
    "plt.legend()\n",
    "plt.grid()\n",
    "plt.show()"
   ]
  },
  {
   "cell_type": "code",
   "execution_count": null,
   "metadata": {},
   "outputs": [],
   "source": []
  },
  {
   "cell_type": "code",
   "execution_count": 34,
   "metadata": {},
   "outputs": [
    {
     "name": "stdout",
     "output_type": "stream",
     "text": [
      "p-value for ANOVA: 0.0 281701.2024585687\n",
      "p-value for Welch's t-Test between Twitter-Reddit and IRA-Rand: 0.0 632.3588302277733\n",
      "p-value for Welch's t-Test between Twitter-Reddit and IRA-Poli: 0.0 424.1528481971843\n"
     ]
    }
   ],
   "source": [
    "# Test whether the within-group similarities across the three populations are equal\n",
    "f_stat, p_val = scipy.stats.f_oneway(\n",
    "    t2r_ira_sim_avg_bootstrap, \n",
    "    t2t_ira_rand_sim_avg_bootstrap, \n",
    "    t2t_ira_poli_sim_avg_bootstrap)\n",
    "print(\"p-value for ANOVA:\", p_val, f_stat)\n",
    "\n",
    "t_stat, p_val = scipy.stats.ttest_ind(\n",
    "    t2r_ira_sim_avg_bootstrap, \n",
    "    t2t_ira_rand_sim_avg_bootstrap, \n",
    "    axis=0, equal_var=False)\n",
    "print(\"p-value for Welch's t-Test between Twitter-Reddit and IRA-Rand:\", p_val, t_stat)\n",
    "\n",
    "t_stat, p_val = scipy.stats.ttest_ind(\n",
    "    t2r_ira_sim_avg_bootstrap,\n",
    "    t2t_ira_poli_sim_avg_bootstrap, \n",
    "    axis=0, equal_var=False)\n",
    "print(\"p-value for Welch's t-Test between Twitter-Reddit and IRA-Poli:\", p_val, t_stat)"
   ]
  },
  {
   "cell_type": "code",
   "execution_count": null,
   "metadata": {},
   "outputs": [],
   "source": []
  },
  {
   "cell_type": "code",
   "execution_count": 35,
   "metadata": {},
   "outputs": [],
   "source": [
    "## Full Cross-Comparison\n",
    "\n",
    "### Other comparisons\n",
    "t2t_rand_poli_sim_avg_bootstrap = [sklearn.utils.resample(t2t_rand_poli_sim_avg, replace=True, n_samples=t2t_rand_poli_sim_avg.shape[0]).mean() for i in range(bootstrap_count)]\n",
    "r2r_rand_poli_sim_avg_bootstrap = [sklearn.utils.resample(r2r_rand_poli_sim_avg, replace=True, n_samples=r2r_rand_poli_sim_avg.shape[0]).mean() for i in range(bootstrap_count)]\n"
   ]
  },
  {
   "cell_type": "code",
   "execution_count": 36,
   "metadata": {},
   "outputs": [
    {
     "name": "stdout",
     "output_type": "stream",
     "text": [
      "\t Random \t\t Political \t\t IRA \t\t Other\n",
      "\t mu sigma^2 mu sigma^2 mu sigma^2 mu sigma^2\n",
      "Reddit\n",
      "Random: -0.000353297324256145 2.9763386613720753e-10 0.0005226218660067393 2.3450027896025437e-09 0.0004909598839556023 2.98464321336416e-08 0.0004235715895865953 1.7874722389748896e-09\n",
      "Political: 0.0005226218660067393 2.3450027896025437e-09 0.002055875088877557 7.2724543529363975e-09 0.0028153376998974 1.3370645454041288e-06 0.0021107836831806394 6.897928076259002e-09\n",
      "IRA: 0.0004909598839556023 2.98464321336416e-08 0.0028153376998974 1.3370645454041288e-06 0.0075370171398620525 9.848082257035323e-06 0.006558005491178176 8.723892914624505e-06\n",
      "Twitter\n",
      "Random: 0.0011968533568272896 2.958622639367535e-09 0.0021223618237638455 8.487182415858578e-09 0.003090054814739976 6.247398214943342e-09 0.00042266987266054086 2.9442562691196485e-10\n",
      "Political: 0.0021223618237638455 8.487182415858578e-09 0.0034895995484698988 8.674632424754867e-09 0.004145068404626064 1.802746907776989e-08 0.002110153790792836 3.2599860468583556e-09\n",
      "IRA: 0.003090054814739976 6.247398214943342e-09 0.004145068404626064 1.802746907776989e-08 0.06722086946997065 1.4954097167605917e-06 0.006565320145965732 1.447369393152545e-07\n"
     ]
    }
   ],
   "source": [
    "print(\"\\t\", \"Random\", \"\\t\\t\", \"Political\", \"\\t\\t\", \"IRA\", \"\\t\\t\", \"Other\")\n",
    "print(\"\\t\", \"mu\", \"sigma^2\", \"mu\", \"sigma^2\", \"mu\", \"sigma^2\", \"mu\", \"sigma^2\")\n",
    "\n",
    "print(\"Reddit\")\n",
    "print(\"Random:\", \n",
    "    np.array(r2r_rand_rand_sim_avg_bootstrap).mean(), \n",
    "    np.array(r2r_rand_rand_sim_avg_bootstrap).var(),\n",
    "    np.array(r2r_rand_poli_sim_avg_bootstrap).mean(), \n",
    "    np.array(r2r_rand_poli_sim_avg_bootstrap).var(),\n",
    "    np.array(r2r_ira_rand_sim_avg_bootstrap).mean(), \n",
    "    np.array(r2r_ira_rand_sim_avg_bootstrap).var(),\n",
    "    np.array(r2t_rand_sim_avg_bootstrap).mean(), \n",
    "    np.array(r2t_rand_sim_avg_bootstrap).var(),\n",
    ")\n",
    "\n",
    "print(\"Political:\", \n",
    "    np.array(r2r_rand_poli_sim_avg_bootstrap).mean(), \n",
    "    np.array(r2r_rand_poli_sim_avg_bootstrap).var(),\n",
    "    np.array(r2r_poli_poli_sim_avg_bootstrap).mean(), \n",
    "    np.array(r2r_poli_poli_sim_avg_bootstrap).var(),\n",
    "    np.array(r2r_ira_poli_sim_avg_bootstrap).mean(), \n",
    "    np.array(r2r_ira_poli_sim_avg_bootstrap).var(),\n",
    "    np.array(r2t_poli_sim_avg_bootstrap).mean(), \n",
    "    np.array(r2t_poli_sim_avg_bootstrap).var(),\n",
    ")\n",
    "\n",
    "print(\"IRA:\", \n",
    "    np.array(r2r_ira_rand_sim_avg_bootstrap).mean(), \n",
    "    np.array(r2r_ira_rand_sim_avg_bootstrap).var(),\n",
    "    np.array(r2r_ira_poli_sim_avg_bootstrap).mean(), \n",
    "    np.array(r2r_ira_poli_sim_avg_bootstrap).var(),\n",
    "    np.array(r2r_ira_ira_sim_avg_bootstrap).mean(), \n",
    "    np.array(r2r_ira_ira_sim_avg_bootstrap).var(),\n",
    "    np.array(r2t_ira_sim_avg_bootstrap).mean(), \n",
    "    np.array(r2t_ira_sim_avg_bootstrap).var(),\n",
    ")\n",
    "\n",
    "print(\"Twitter\")\n",
    "print(\"Random:\", \n",
    "    np.array(t2t_rand_rand_sim_avg_bootstrap).mean(), \n",
    "    np.array(t2t_rand_rand_sim_avg_bootstrap).var(),\n",
    "    np.array(t2t_rand_poli_sim_avg_bootstrap).mean(), \n",
    "    np.array(t2t_rand_poli_sim_avg_bootstrap).var(),\n",
    "    np.array(t2t_ira_rand_sim_avg_bootstrap).mean(), \n",
    "    np.array(t2t_ira_rand_sim_avg_bootstrap).var(),\n",
    "    np.array(t2r_rand_sim_avg_bootstrap).mean(), \n",
    "    np.array(t2r_rand_sim_avg_bootstrap).var(),\n",
    ")\n",
    "\n",
    "print(\"Political:\", \n",
    "    np.array(t2t_rand_poli_sim_avg_bootstrap).mean(), \n",
    "    np.array(t2t_rand_poli_sim_avg_bootstrap).var(),\n",
    "    np.array(t2t_poli_poli_sim_avg_bootstrap).mean(), \n",
    "    np.array(t2t_poli_poli_sim_avg_bootstrap).var(),\n",
    "    np.array(t2t_ira_poli_sim_avg_bootstrap).mean(), \n",
    "    np.array(t2t_ira_poli_sim_avg_bootstrap).var(),\n",
    "    np.array(t2r_poli_sim_avg_bootstrap).mean(), \n",
    "    np.array(t2r_poli_sim_avg_bootstrap).var(),\n",
    ")\n",
    "\n",
    "print(\"IRA:\", \n",
    "    np.array(t2t_ira_rand_sim_avg_bootstrap).mean(), \n",
    "    np.array(t2t_ira_rand_sim_avg_bootstrap).var(),\n",
    "    np.array(t2t_ira_poli_sim_avg_bootstrap).mean(), \n",
    "    np.array(t2t_ira_poli_sim_avg_bootstrap).var(),\n",
    "    np.array(t2t_ira_ira_sim_avg_bootstrap).mean(), \n",
    "    np.array(t2t_ira_ira_sim_avg_bootstrap).var(),\n",
    "    np.array(t2r_ira_sim_avg_bootstrap).mean(), \n",
    "    np.array(t2r_ira_sim_avg_bootstrap).var(),\n",
    ")\n",
    "\n"
   ]
  },
  {
   "cell_type": "code",
   "execution_count": null,
   "metadata": {},
   "outputs": [],
   "source": []
  },
  {
   "cell_type": "code",
   "execution_count": 37,
   "metadata": {},
   "outputs": [
    {
     "data": {
      "image/png": "[encoded data removed]",
      "text/plain": [
       "<Figure size 432x288 with 1 Axes>"
      ]
     },
     "metadata": {},
     "output_type": "display_data"
    }
   ],
   "source": [
    "plt.hist(r2r_rand_rand_sim_avg_bootstrap, bins=20, density=True, alpha=0.35, label=\"Random-Random\")\n",
    "plt.hist(r2r_ira_rand_sim_avg_bootstrap, bins=20, density=True, alpha=0.35, label=\"Russian IRA-Random\")\n",
    "plt.hist(r2r_ira_poli_sim_avg_bootstrap, bins=20, density=True, alpha=0.35, label=\"Russian IRA-Political\")\n",
    "\n",
    "plt.title(\"Within-Reddit Similarity\")\n",
    "plt.legend()\n",
    "plt.grid()\n",
    "plt.show()"
   ]
  },
  {
   "cell_type": "code",
   "execution_count": 38,
   "metadata": {},
   "outputs": [
    {
     "name": "stdout",
     "output_type": "stream",
     "text": [
      "p-value for ANOVA: 0.0 29535.579092224365\n",
      "p-value for Welch's t-Test : 0.0 -140.5653164239627\n"
     ]
    }
   ],
   "source": [
    "# Test whether the within-group similarities across the three populations are equal\n",
    "f_stat, p_val = scipy.stats.f_oneway(\n",
    "    r2r_rand_rand_sim_avg_bootstrap, \n",
    "    r2r_ira_rand_sim_avg_bootstrap, \n",
    "    r2r_ira_poli_sim_avg_bootstrap)\n",
    "print(\"p-value for ANOVA:\", p_val, f_stat)\n",
    "\n",
    "t_stat, p_val = scipy.stats.ttest_ind(\n",
    "    r2r_ira_rand_sim_avg_bootstrap, \n",
    "    r2r_ira_poli_sim_avg_bootstrap, \n",
    "    axis=0, equal_var=False)\n",
    "print(\"p-value for Welch's t-Test :\", p_val, t_stat)"
   ]
  },
  {
   "cell_type": "code",
   "execution_count": null,
   "metadata": {},
   "outputs": [],
   "source": []
  },
  {
   "cell_type": "code",
   "execution_count": 39,
   "metadata": {},
   "outputs": [
    {
     "data": {
      "image/png": "[encoded data removed]",
      "text/plain": [
       "<Figure size 432x288 with 1 Axes>"
      ]
     },
     "metadata": {},
     "output_type": "display_data"
    }
   ],
   "source": [
    "plt.hist(t2t_rand_rand_sim_avg_bootstrap, bins=20, density=True, alpha=0.35, label=\"Random-Random\")\n",
    "plt.hist(t2t_ira_rand_sim_avg_bootstrap, bins=20, density=True, alpha=0.35, label=\"Russian IRA-Random\")\n",
    "plt.hist(t2t_ira_poli_sim_avg_bootstrap, bins=20, density=True, alpha=0.35, label=\"Russian IRA-Political\")\n",
    "\n",
    "plt.title(\"Within-Twitter Similarity\")\n",
    "plt.legend()\n",
    "plt.grid()\n",
    "plt.show()"
   ]
  },
  {
   "cell_type": "code",
   "execution_count": 40,
   "metadata": {},
   "outputs": [
    {
     "name": "stdout",
     "output_type": "stream",
     "text": [
      "p-value for ANOVA: 0.0 1228869.2698823132\n",
      "p-value for Welch's t-Test : 0.0 -478.76367295543577\n"
     ]
    }
   ],
   "source": [
    "# Test whether the within-group similarities across the three populations are equal\n",
    "f_stat, p_val = scipy.stats.f_oneway(\n",
    "    t2t_rand_rand_sim_avg_bootstrap, \n",
    "    t2t_ira_rand_sim_avg_bootstrap, \n",
    "    t2t_ira_poli_sim_avg_bootstrap)\n",
    "print(\"p-value for ANOVA:\", p_val, f_stat)\n",
    "\n",
    "t_stat, p_val = scipy.stats.ttest_ind(\n",
    "    t2t_ira_rand_sim_avg_bootstrap, \n",
    "    t2t_ira_poli_sim_avg_bootstrap, \n",
    "    axis=0, equal_var=False)\n",
    "print(\"p-value for Welch's t-Test :\", p_val, t_stat)"
   ]
  },
  {
   "cell_type": "code",
   "execution_count": null,
   "metadata": {},
   "outputs": [],
   "source": []
  },
  {
   "cell_type": "code",
   "execution_count": 41,
   "metadata": {},
   "outputs": [
    {
     "data": {
      "image/png": "[encoded data removed]",
      "text/plain": [
       "<Figure size 432x288 with 1 Axes>"
      ]
     },
     "metadata": {},
     "output_type": "display_data"
    }
   ],
   "source": [
    "plt.hist(r2t_ira_sim_avg_bootstrap, bins=20, density=True, alpha=0.35, label=\"Russian IRA Reddit-Twitter\")\n",
    "plt.hist(r2r_ira_rand_sim_avg_bootstrap, bins=20, density=True, alpha=0.35, label=\"Russian IRA-Random\")\n",
    "plt.hist(r2r_ira_poli_sim_avg_bootstrap, bins=20, density=True, alpha=0.35, label=\"Russian IRA-Political\")\n",
    "\n",
    "plt.title(\"Reddit-to-Twitter Similarity\")\n",
    "plt.legend()\n",
    "plt.grid()\n",
    "plt.show()"
   ]
  },
  {
   "cell_type": "code",
   "execution_count": 42,
   "metadata": {},
   "outputs": [
    {
     "name": "stdout",
     "output_type": "stream",
     "text": [
      "p-value for ANOVA: 0.0 13925.573611519707\n",
      "p-value for Welch's t-Test : 0.0 144.98464936994742\n",
      "p-value for Welch's t-Test : 0.0 83.42634013641516\n"
     ]
    }
   ],
   "source": [
    "# Test whether the within-group similarities across the three populations are equal\n",
    "f_stat, p_val = scipy.stats.f_oneway(\n",
    "    r2t_ira_sim_avg_bootstrap, \n",
    "    r2r_ira_rand_sim_avg_bootstrap, \n",
    "    r2r_ira_poli_sim_avg_bootstrap)\n",
    "print(\"p-value for ANOVA:\", p_val, f_stat)\n",
    "\n",
    "t_stat, p_val = scipy.stats.ttest_ind(\n",
    "    r2t_ira_sim_avg_bootstrap, \n",
    "    r2r_ira_rand_sim_avg_bootstrap, \n",
    "    axis=0, equal_var=False)\n",
    "print(\"p-value for Welch's t-Test :\", p_val, t_stat)\n",
    "\n",
    "t_stat, p_val = scipy.stats.ttest_ind(\n",
    "    r2t_ira_sim_avg_bootstrap,\n",
    "    r2r_ira_poli_sim_avg_bootstrap, \n",
    "    axis=0, equal_var=False)\n",
    "print(\"p-value for Welch's t-Test :\", p_val, t_stat)"
   ]
  },
  {
   "cell_type": "code",
   "execution_count": null,
   "metadata": {},
   "outputs": [],
   "source": []
  },
  {
   "cell_type": "code",
   "execution_count": 43,
   "metadata": {},
   "outputs": [
    {
     "data": {
      "image/png": "[encoded data removed]",
      "text/plain": [
       "<Figure size 432x288 with 1 Axes>"
      ]
     },
     "metadata": {},
     "output_type": "display_data"
    }
   ],
   "source": [
    "plt.hist(t2r_ira_sim_avg_bootstrap, bins=20, density=True, alpha=0.35, label=\"Russian IRA Twitter-Reddit\")\n",
    "plt.hist(t2t_ira_rand_sim_avg_bootstrap, bins=20, density=True, alpha=0.35, label=\"Russian IRA-Random\")\n",
    "plt.hist(t2t_ira_poli_sim_avg_bootstrap, bins=20, density=True, alpha=0.35, label=\"Russian IRA-Political\")\n",
    "\n",
    "plt.title(\"Twitter-to-Reddit Similarity\")\n",
    "plt.legend()\n",
    "plt.grid()\n",
    "plt.show()"
   ]
  },
  {
   "cell_type": "code",
   "execution_count": 44,
   "metadata": {},
   "outputs": [
    {
     "name": "stdout",
     "output_type": "stream",
     "text": [
      "p-value for ANOVA: 0.0 281701.2024585687\n",
      "p-value for Welch's t-Test : 0.0 632.3588302277733\n",
      "p-value for Welch's t-Test : 0.0 424.1528481971843\n"
     ]
    }
   ],
   "source": [
    "# Test whether the within-group similarities across the three populations are equal\n",
    "f_stat, p_val = scipy.stats.f_oneway(\n",
    "    t2r_ira_sim_avg_bootstrap, \n",
    "    t2t_ira_rand_sim_avg_bootstrap, \n",
    "    t2t_ira_poli_sim_avg_bootstrap)\n",
    "print(\"p-value for ANOVA:\", p_val, f_stat)\n",
    "\n",
    "t_stat, p_val = scipy.stats.ttest_ind(\n",
    "    t2r_ira_sim_avg_bootstrap, \n",
    "    t2t_ira_rand_sim_avg_bootstrap, \n",
    "    axis=0, equal_var=False)\n",
    "print(\"p-value for Welch's t-Test :\", p_val, t_stat)\n",
    "\n",
    "t_stat, p_val = scipy.stats.ttest_ind(\n",
    "    t2r_ira_sim_avg_bootstrap,\n",
    "    t2t_ira_poli_sim_avg_bootstrap, \n",
    "    axis=0, equal_var=False)\n",
    "print(\"p-value for Welch's t-Test :\", p_val, t_stat)"
   ]
  },
  {
   "cell_type": "code",
   "execution_count": 45,
   "metadata": {
    "scrolled": true
   },
   "outputs": [
    {
     "name": "stdout",
     "output_type": "stream",
     "text": [
      "127 250\n",
      "**************************************************************************************************** \n",
      "Reddit:\n",
      "UC07E0MabO1qktuSAwLPYClA Romain Levesque\n",
      "UC0hkwSIzywVL0Unfh35aVHw Meme Militia\n",
      "UC0pjFxM6b7fLO4hWZz1XwhA redha redha\n",
      "UC16niRr50-MSBwiO3YDb3RA BBC News\n",
      "UC1yBKRuGpC1tSM73A0ZjYjQ The Young Turks\n",
      "UC2-BeLxzUBSs0uSrmzWhJuQ 20th Century Fox\n",
      "UC2FUP1CtHRzUYtsFLuQLLMg Changers\n",
      "UC2UIuUg8jvObCB69SVKim5w Amy Slack\n",
      "UC2VnwPCW63NH9YTLvZj9qKA Charles Gaba\n",
      "UC2YnEq5Fc5_zEO6bo0oNzCQ melanie martinez\n",
      "UC3HvwOPH-xwVb1aWoVg7ohg 8BitDylan\n",
      "UC49JMhfP3JaJlWoZru2hhUw Keep Up With The News\n",
      "UC4UyF8vu2-QybvSMV07ZsbQ LifeMoments247\n",
      "UC6ZFN9Tx6xh-skXCuRHCDpQ PBS NewsHour\n",
      "UC6smmr3qaBCGztOoLoM_aSQ paultyree1\n",
      "UC6xM7GvKd85duq5fw8qKBOQ Matt Orfalea\n",
      "UC6ybAZHANiMTbaQAOO-_0wQ animal lovers\n",
      "UC7TvL4GlQyMBLlUsTrN_C4Q corbettreport\n",
      "UC7v3-2K1N84V67IF-WTRG-Q Jeremy Jahns\n",
      "UC7ygjE6Dmi0PBI5NuYj0x4g dailymailofficial24x7\n",
      "UC8jD-AUseXkAQqfYW9vl8mw Super Epic Cats\n",
      "UC9obdDRxQkmn_4YpcBMTYLw Tiger FunnyWorks\n",
      "UCADX_BwgeiTFlnkg6tmevkA thedizzyedge\n",
      "UCAHARDOFHkiZT1PewcGtGCA Scottish ASMR blueberry\n",
      "UCBBuhojWdYbyKlrT0qj2o3A TheBeginning IsNear\n",
      "UCBRVveyHJVYMbbvChyiMr3A Академический Наш Район\n",
      "UCD2KmfLuiyUd1qWG0_sdc8A Way to Global Elite\n",
      "UCDOTJ1RIIAhi-LxR1IZjeYw DavidUngerMusic\n",
      "UCD_DaKNac0Ta-2PeHuoQ1uA Senator Bernie Sanders\n",
      "UCE3VoxyYmyQCReOXk2ogsVg The Cincinnati Zoo & Botanical Garden\n",
      "UCECskPQNeG6ss33AVZOrhrw Truth Be Known Revolution\n",
      "UCEhz-ichpbXRiKZJfBlIhqA Victoria Applegate\n",
      "UCFYW2x6hlPQsAjhzfX5F6ug CAIRtv\n",
      "UCGU1DpruTvs2Ln0a_dS08eA TastefullyOffensive.com\n",
      "UCIveFvW-ARp_B_RckhweNJw StevenCrowder\n",
      "UCJV2BaT7yHtK3ZdUq-7UEwA GeragosTube\n",
      "UCJnpF9oROFPvd7wWbPUDdGA KRQE\n",
      "UCKBnlTTgEnhIXv_c4LvvyMQ OWN\n",
      "UCKpBpDHhHrPp2gVV8_cy1hw FailsOnTour\n",
      "UCLe7efD6-rctGw0LpzXDNJg Steve Vitalidol\n",
      "UCMOWB-s0Kek9o9sS8xA_kZQ Press For Truth\n",
      "UCMP9KwktO3lFeMozObSgxFg GooDMooD\n",
      "UCMrYIdyM49g4SNZfS3NP1Fw Watch Me\n",
      "UCNHs9MI-DFlomrhQGrzU_PA philsonique\n",
      "UCNjNfO47CYe-8jxWL301PzA Baudolino Aulari\n",
      "UCO8LbQAXiS_-ueb9M4J0UxQ NagyBalazs\n",
      "UCOcJr1a3uXHN5iiPeh2U0bQ DudeLoveAndLight\n",
      "UCOnoQYeFSfH0nsYv0M4gYdg FlaGeorgiaLineVEVO\n",
      "UCPsYr4VqjxwVywqcuPmrRrQ Video Daily\n",
      "UCQ4OoM4tgYC6BPzNxGVbr4A sfpublicdefender\n",
      "UCQHStyd1xEH3uN-ws7T1fUQ ThisIsRadioFreedom1\n",
      "UCQqen8POnj-mkqb9NrVEJkA Juanita Lopez\n",
      "UCQsLxQLgicYocCKckZA1v2g Только Котики\n",
      "UCQtbS4YOw_pqawkNhTz22IQ Evan Countryman\n",
      "UCR6EkX4-7heiw6uJ8CZO1Yw Movie Arena\n",
      "UCRuSu8tMyGLAlw3cqhbKzwg Curtis Henderson\n",
      "UCS0Cw22NP8_dnkBdaXHVlnw Devin Null\n",
      "UCS6scxofr3K4j5q7hn6xQmQ Priorities USA\n",
      "UCS9UoonpoiYBnv1HRzJSN0g Hijinx Page\n",
      "UCSRzGYVsrEJmc5KUL-GVpIw Andrej Klemencic\n",
      "UCTP4F0wkJdsRb33GXmaJ4rQ Lunch Break Angler\n",
      "UCUMZ7gohGI9HcU9VNsr2FJQ Bloomberg\n",
      "UCU_shqimM1kH4A6YNjFV6wQ Cosy Clothes\n",
      "UCV3Nm3T-XAgVhKH9jT0ViRg AJ+\n",
      "UCV7OkYvcDhT4lWhrbS-f88Q SJW Nonsense\n",
      "UCWLfCZmMDAuAy71US6aOJUg UrbanWarfareChannel\n",
      "UCWTpkbKVQdk-bPTviAPv8VQ Barb S\n",
      "UCWmZgjXV9gnoIDwgMh6U5Rg CarCrashVideos\n",
      "UCWzjDm74d6fG2lLVlnu-YaA RonpiolSeven\n",
      "UCXMYxKMh3prxnM_4kYZuB3g PoliceActivity\n",
      "UCYCw32rQ8sQ-aghqj_DEr5w Nexar\n",
      "UC_gjqJX6J9hNx6Ojl4BBeEg Daniel Roberts\n",
      "UCaZOlsm_rEmMLl7rcGprCPQ stpete4peace\n",
      "UCb--64Gl51jIEVE-GLDAVTg C-SPAN\n",
      "UCb-qJd-XjrxU5qqMm3gNixA ghaffir\n",
      "UCb8FIZyOecP6knY83gJ-_kw Corgi TV\n",
      "UCbGif2gxFLxGDxG9CeA_fvg In the NOW\n",
      "UCbdcgq5aaicvxsrJIrptU9g chriscutezz\n",
      "UCblQw9PqFesGC51EWxHq4Tw Mocha Corgi\n",
      "UCby-X956H1uhnTMA0bqzkFg PINAC News\n",
      "UCcg9c3gXb_rwyqzeCaLuHDA TheWikiLeaksChannel\n",
      "UCctjGdm2NlMNzIlxz02IsXA Chris Ray Gun\n",
      "UCcz10qhQ0b1lnwkyl2Nt-mw Taylor Andrew\n",
      "UCczrL-2b-gYK3l4yDld4XlQ RT America\n",
      "UCd2QBrKT_GzjlsMOX4lLHOQ FUSION\n",
      "UCdAeRRjq6vjnAkxatZVxxxg RM Videos\n",
      "UCdxi8d8qRsRyUi2ERYjYb-w TheRichest\n",
      "UCeI5T6QKccTp4oKUOW3VytA Compilation King\n",
      "UCeXiBI4QBABtJbJdxfv9AvA awesomecorgis\n",
      "UCec8ciIcgzJU1kKoklAY-vw Center for Constitutional Rights\n",
      "UCf3Q-Gjzud5p_g4Roas7NXQ Beno Burgija\n",
      "UCfNExReptj4K3BJ_RVoEloQ Block Club Chicago\n",
      "UCfR7gRIYmZbGjhhrRJCwpmw Joe Goes\n",
      "UCg7eDKs01SPI87RJ_OhQAUA urWURLDnow\n",
      "UCg7lal8IC-xPyKfgH4rdUcA djvlad\n",
      "UCguB5GRW32KafeYaY8nxRrA PSON\n",
      "UCh-4c1ZoBPNP1C8c-7iVvUQ David Guetta - Topic\n",
      "UChl6CG-V7LgqhfwkvbHH67Q Waggle TV\n",
      "UCi4KH9-f_zsmXwMM3S5MKFA George Warm\n",
      "UCiJjwpAR3vwWKzAp5Cq5Ozg SonorDrumTube\n",
      "UCittVh8imKanO_5KohzDbpg Paul Joseph Watson\n",
      "UCkLUgwbsLQoH47OdyDL2A_Q Ilfat Fathullin\n",
      "UCkUmgcPVFWvqf1W33hPjigg LA Knight\n",
      "UCmBSCZOxstB5vSNltch6yGg Simon Swift\n",
      "UCmHHPP8URR_8otD1vWyuR_Q ExposeTheTPP\n",
      "UCmT7hTV8VJU6CiCGEs6hFbw The Free Thought Project\n",
      "UCmdY1pHB-KbFYxOyhwjVeQw MattyBRaps\n",
      "UCnAignIM-7Hu5hohCbpV55A World's Fuzziest Videos\n",
      "UCnLrtqd5qxC_f1lOnrybpnA UNDERGROUND WORLD NEWS\n",
      "UCnM02drQP-dF7WMgtJHR4Xw Mr. Nightmare\n",
      "UCo4HQQ2o35-boGkAvO8b9UQ Lincoln Park Zoo\n",
      "UCoHbKigbQVbt6mygvfKwgmA Real McGoy\n",
      "UCoNwapgS3bM1E7yi4uRmgMw Cops Caught On Video\n",
      "UCoPAiSlDTyJvDh68fDkwiKQ Mmovies21\n",
      "UCphMT_KiWPldbcREdgNW7DQ Heber Brown, III\n",
      "UCplwPnjH1AAB1He_7rMkHgQ Michael McCrudden\n",
      "UCpngHCFbfBmnr30Jc77plHg Police State USA\n",
      "UCpwvZwUam-URkxB7g4USKpg RT\n",
      "UCqjlrGnr73tQHqzcoCILnfw DaPhoneyRapperz\n",
      "UCreVs7yIJ97M5s_GyE_NVDw vadrum\n",
      "UCt7MwacpZA8BaAulT1WUBIQ EliAndrewsVEVO\n",
      "UCthFby2RZtU08_0VltfRJZw InternationalBoss\n",
      "UCupvZG-5ko_eiXAupbDfxWw CNN\n",
      "UCvZNxpAT6iFy1rLYu-sIT2Q Election News 2016\n",
      "UCyW_T7T4hU-MjZkssJVwBaQ Татиана Теси\n",
      "UCzUV5283-l5c0oKRtyenj6Q Mark Dice\n",
      "UCzuqE7-t13O4NIDYJfakrhw Democracy Now!\n",
      "**************************************************************************************************** \n",
      "Twitter:\n",
      "UC-716wgP94vhil91RVJwaIQ JonLajoie\n",
      "UC-8Q-hLdECwQmaWNwXitYDw KatyPerryVEVO\n",
      "UC-VNJ2JBOkyUdx5xGcAIKOA Dopeboy Boogs\n",
      "UC02xtPEHJswV8s576woOoaA Elpaiza3030\n",
      "UC04jtpw4ovgGnTHwvrmwnAA Cindy Lou Willson\n",
      "UC0C-w0YjGpqDXGB8IHb662A Ed Sheeran\n",
      "UC0RJJ_Wm7jyOU9eY10LgcwA AdamKokesh\n",
      "UC0VOyT2OCBKdQhF3BAbZ-1g ArianaGrandeVevo\n",
      "UC0YvTCy1I4_a-3pn47_5DBA SaraBeautyCorner - DIY, Comedy, Makeup, Nail Art\n",
      "UC1IZMhcOmwUVBBDmgWKiTNg LuckyStrikeMetallica\n",
      "UC1KPy3cAAj0i0RIFC_SzjMg VitalyzdTv\n",
      "UC1n1lMpvqU3VMbKLMhZJbNA ap3116171\n",
      "UC1yBKRuGpC1tSM73A0ZjYjQ The Young Turks\n",
      "UC21yq4sq8uxTcfgIxxyE9VQ Carli Bybel\n",
      "UC27mFz8e4kgh31Zh8k64Qyg DieAntwoordVEVO\n",
      "UC2rJLq19N0dGrxfib80M_fg HollywoodLife\n",
      "UC30uHiJEP-oYN1MjGOxarSA PunkNomadTV\n",
      "UC38gp5k_icdzDekIJt6XDDg 1989rickman\n",
      "UC3Pa0DVzVkqEN_CwsNMapqg SamSmithWorldVEVO\n",
      "UC52X5wxOL_s5yw0dQk7NtgA Associated Press\n",
      "UC5aeU5hk31cLzq_sAExLVWg Ruptly\n",
      "UC5sCXjXaFuahAxOz0wBg0MA havafordwnachevy\n",
      "UC6BkU8gAqoXYjL3d-LIDQbQ Matt Bedard\n",
      "UC6DicDItkLQ7N4ag1JS5mqg Die Antwoord\n",
      "UC6KdWFMY4KKI8NJflzm2DDQ Mythicbells\n",
      "UC6R4CEgGQajrGa5SXO8Fx5w vampireserena\n",
      "UC6RpxdTJe0GXzsJHmh_VwjQ Jocko\n",
      "UC6Ud1qTyoNaU4LhTLg-TGRw BloodhoundGangVEVO\n",
      "UC6kbNBZ769smgbTh5Vkn1Fw IUIC Documentaries\n",
      "UC7LSrRnB3_4JsvixyR9D3fw TODAYonline\n",
      "UC7gHHtlv-Oyll1jbsJh8qJA JessGreenberg1\n",
      "UC8-Th83bH_thdKZDJCrn88g The Tonight Show Starring Jimmy Fallon\n",
      "UC8zb_4l-v3ZRslAgpR1AB7g cairo4448\n",
      "UC9BkUHi-fRSWlSi7vdYjnBQ boynamedfuture\n",
      "UC9TreTE-iXwfwQl72DzDurA Kandee Johnson\n",
      "UC9Wyvncs_8YMConVDYX3yug MrSonic955\n",
      "UC9zX2xZIJ4cnwRsgBpHGvMg BeyoncéVEVO\n",
      "UCANLZYMidaCbLQFWXBC95Jg TaylorSwiftVEVO\n",
      "UCAP9oKGhwwsQfMjn2mbBGpA tim23vicious\n",
      "UCAffunffoFqeiVn7Lt4gVSA Alexandros S\n",
      "UCAlx1qNei1iF7WevURE_amg Female Fitness Motivation\n",
      "UCBDR4TSiuXpWFNSA4cxPp6g womenbeauty1\n",
      "UCBLI-D8_4kI2zHJXIJ1ToEw Anton Avdeyev\n",
      "UCBgZ_xSnU1y-5P5GAIC9VGA Ava Madison\n",
      "UCBi2mrWuNuyYy4gbM6fU18Q ABC News\n",
      "UCC3L8QaxqEGUiBC252GHy3w Stefan Molyneux\n",
      "UCC7tqA6lA2QRw4BdrAEKFxg Maymo\n",
      "UCCHcEUksSVKsRDH86j77Ntg thelonelyisland\n",
      "UCCLFxVP-PFDk7yZj208aAgg MashupZone\n",
      "UCCscpBTHpuhClhZ3FBi0UzA iheartny2001\n",
      "UCDB5XReUyyqt-FTNdkzFN-A H. A. Goodman\n",
      "UCDiPds0v60wueil5B8w3fPQ FOX\n",
      "UCE-GLhKd7iMzDeR1_Wyt6Nw StormShadowCrew\n",
      "UCE0ikSo6LIH-lAoaq2a4lEA HDBroadcaster .com\n",
      "UCE3rluAF03l4EIA_ET5tRhQ MissSadieSue\n",
      "UCEN4s5jx9B4HXt_HrGmovfA NEXT HERO\n",
      "UCEmCXnbNYz-MOtXi3lZ7W1Q The Key of Awesome\n",
      "UCFYbLvz0iXSzQjxr5UD9CxQ eFit30\n",
      "UCGWbjzTUjQKnIyhelv5PwsQ MetallicaVEVO\n",
      "UCGwruZaVBlp2AwbdUdNaLPQ SteveKardynal\n",
      "UCGy6uV7yqGWDeUWTZzT3ZEg Rebel Media\n",
      "UCHHZCN53hIjn_BYvGD4reiQ The Ad Show\n",
      "UCHpw8xwDNhU9gdohEcJu4aA The Guardian\n",
      "UCHqC-yWZ1kri4YzwRSt6RGQ Right Side Broadcasting Network\n",
      "UCHz-XTGhseEF4U4kQ7oFI9g dancewithdonnadotcom\n",
      "UCI5tGbwiVHy4BsZUXcSWvwQ chicagomusicexchange\n",
      "UCI9FHeJpZEYSgoODEr8qKlA SpacemanaceLive\n",
      "UCI9xKGaOZXF0yjTnCR4xd9w HypeNsight\n",
      "UCIJwWYOfsCfz6PjxbONYXSg blogilates\n",
      "UCITSK9AMCm0rtXaQxYqLmPw Jay Blue\n",
      "UCITtis6-2E91zer7IRZghCw The Voice Australia\n",
      "UCIveFvW-ARp_B_RckhweNJw StevenCrowder\n",
      "UCIyOSUaOPA_0L5y_oN2Jeqw Lion King Community\n",
      "UCJ5v_MCY6GNUBTO8-D3XoAg WWE\n",
      "UCJEOrDlIWz2A-YGddjPJcbg StellaLunora\n",
      "UCJKj0Z7x8E7c58OUsaTeHFQ FunnyFuse\n",
      "UCJP0vqEupuk8BUYwrkfNZxw Uriel Velasco Gonzalez\n",
      "UCJqcphJAnsD5YDXcRFzTsOw Luxy Hair\n",
      "UCK8-T3jJb0dmjGB2828mHJQ OldManEpic\n",
      "UCKHi7M_11VJmLZSq4WNHSkg communitychannel\n",
      "UCKIrzR0N23B3GoKfh_eTDrg AxwellIngrossoVEVO\n",
      "UCKvCRat8Bff9EMzfQ802yyQ Max Funke\n",
      "UCKy3MG7_If9KlVuvw3rPMfw Tiger Productions\n",
      "UCL1s50TaDI3f4buB66DhDAw ICON Motosports\n",
      "UCLi6DTUnJdDOUkWu0szfI0g ScHoolBoyQVEVO\n",
      "UCLj4rCo1KUd-shFONtLCKKQ Организация Объединенных Наций\n",
      "UCLmTeicFM1Io__figEKxEqQ DisneyBluRay411\n",
      "UCLoNQH9RCndfUGOb2f7E1Ew The Next News Network\n",
      "UCMxQl5cLytrNanBEpo8yIag lilyMAClover\n",
      "UCN7Q4H7AoWG_EROce1cMtOQ NScherzingerVEVO\n",
      "UCNEZ7cqaZzYLeyWfTkelkEA TAOFLEDERMAUS\n",
      "UCNMfDuRS4FBhHnefb4qgRMw jayrandall22011\n",
      "UCNPyQKl5FVqFcuWPiKI1yWw ash7252\n",
      "UCNyAJpvzT2UsmizHybrAc8g Joe Lee\n",
      "UCNye-wNBqNL5ZzHSJj3l8Bg Al Jazeera English\n",
      "UCOUX_HEu7ufkt6C4hfrM5uw American Right Now\n",
      "UCOp8wkVqdrWbFYHjDv946QQ IMPACT Wrestling\n",
      "UCOpcACMWblDls9Z6GERVi1A Screen Junkies\n",
      "UCPDXXXJj9nax0fr0Wfc048g CollegeHumor\n",
      "UCPIvT-zcQl2H0vabdXJGcpg The Pet Collective\n",
      "UCPNU3MEqDrlJuCXRh40WBjQ firaflystudios\n",
      "UCPyI3iLPfmSvri8YDZgIYfg lulusparky\n",
      "UCQ-FEQdGiUY5fHHfRyMl-ew Christine Salus\n",
      "UCQ0PtEMAWsovTO_U2dINyIQ Sandra Cyrus\n",
      "UCQB85uLKD5Crs5GPhyZsoPw Paul Tortora\n",
      "UCQCRyQTw4Lv-6WdTqkCb_4w epichater\n",
      "UCQMYWynQkK-Q-sd0u2_rF0A MadRam11\n",
      "UCQcPBLsq9rRc5TxDqSz_Dog Your Black World\n",
      "UCQjh-JVPNWfY-KsZS3RgRHw Clevver News\n",
      "UCRDy1zVuogK8Fl4svi9ZTyw MarilynMansonVEVO\n",
      "UCS7uYPfjrthIeJI6fIayjcQ VidKing2013\n",
      "UCSP83kLuC54Rz5EOr_a-Q1Q Primecutpro\n",
      "UCSYaDbd2FhZ2fNR_-Uml9-w labnamedbailey\n",
      "UCSkL7eDNPM4zYqyyxWOTqjw Rhaea Estelle\n",
      "UCTMCRv1MmnXet72z29E9dsw Max Amphetamine\n",
      "UCTOxD0ZyeLkBM9okQWNE80A Hubert Schien\n",
      "UCTaFxo-4LDCI2EVvi6PEIdA Julio Altamirano\n",
      "UCU3oAyhHDXjgbxazqOEG2UA blameitonjorge\n",
      "UCUDR5r3ow3goI1iZgGlnoyw The Voice Kids Australia\n",
      "UCUKi4zY5ETSqrKAjTBgjM-g sWooZie\n",
      "UCUQYeJ6D3qDlQkMboh-8-xw MediocreFilms\n",
      "UCUXqss2FROM40B9MycIITsg robbiewilliamsvevo\n",
      "UCUsN5ZwHx2kILm84-jPDeXw Comedy Central\n",
      "UCV3iHQsE2h3CH-LehgPRkMg FilmCow\n",
      "UCVUdHi-tdW5AKdzMiTPG97Q funnyplox\n",
      "UCVWA4btXTFru9qM06FceSag PitbullVEVO\n",
      "UCW3T8dQVEynwj6-_DArcM7w Rumble Viral\n",
      "UCW6MKQtz-vrqpC7D7qJ3Baw Kayleigh Noelle\n",
      "UCX8yrFFOQ5PkdEeeX1MAgsA Iara Rafael\n",
      "UCXIJgqnII2ZOINSWNOGFThA Fox News\n",
      "UCXWY-FG0IvCKrj_lqQdGLOQ TheArkive\n",
      "UCY15z0whwdlwrNmJFNxMEJg D DARK\n",
      "UCYjk_zY-iYR8YNfJmuzd70A Epic Meal Time\n",
      "UCYv8VkKxvmfYIRbowQALwCw Ellie and Jared\n",
      "UCZDHjoHcWHR9pi0Jh8iG1sw SlickRickVEVO\n",
      "UCZSUvJTxnp7ay48TUJAf4RQ mihaifrancu\n",
      "UCZVf26QGcTI_lpFUd3OD7LQ RedCowHillsTV\n",
      "UCZijND2e2tPp2AQL8Go2YSg BritneySpearsVEVO\n",
      "UCZxCS2--ogfrQNrJOOyRvIg Adam J Duncan\n",
      "UC_976xMxPgzIa290Hqtk-9g Walt Disney Animation Studios\n",
      "UC_Wcj6o3TXP0kO7aI6mBACw Simrat Kaur\n",
      "UC_eQfAQjj6mYj92l3SBmIdg Harlem Fetty\n",
      "UCaFxVc4xHOea6s5CO0eBxIA PressTV\n",
      "UCaWd5_7JhbQBe4dknZhsHJg WatchMojo.com\n",
      "UCahLmPHXf5Q4lLGS1tNIE4Q Namrata7495909697\n",
      "UCaimRMbg1TJV2h0XiZGqHMQ Glamour Magazine UK\n",
      "UCay_OLhWtf9iklq8zg_or0g As/Is\n",
      "UCb91Zl2MxLmUwriNocKeYnQ Catsbook\n",
      "UCbW18JZRgko_mOGm5er8Yzg OneDirectionVEVO\n",
      "UCbqgDzBvusOKtSWvoePrjLA Shemaroo Good Health 24/7\n",
      "UCc6W7efUSkd9YYoxOnctlFg Bethany Mota\n",
      "UCcdOEjqjiVAnUtEFZIRTlHg iggyazaleamusicVEVO\n",
      "UCcejiYJqF7gRtl9bg6JINCw RyanGoslingAddicted\n",
      "UCcox27Gc-NGbb2-X9hdLaMw Fightmaster Yoga\n",
      "UCczrL-2b-gYK3l4yDld4XlQ RT America\n",
      "UCd6jcmRWxepkXlnKY-VTxLg Rosa A. Hurtado\n",
      "UCdE9oG10HGAL_UzMX5EiRwQ Spikeleader\n",
      "UCdHFqTua5PKpJGe3bOX1BEw FCaminha Garage\n",
      "UCdZwMpK-iWqCos46xPscDeg SA Wardega\n",
      "UCdcemy56JtVTrsFIOoqvV8g ANDREW HUANG\n",
      "UCdn-M_vxWEK07X3t19ximDQ Washington Free Beacon\n",
      "UCdnvdoL2Vyg_cbCguUi191A bannedcommercials\n",
      "UCdrKuOS3tBgI-kwq-QPkGtw Charlie Parra del Riego\n",
      "UCdxi8d8qRsRyUi2ERYjYb-w TheRichest\n",
      "UCe-4xQosMQGkIA8mT4sR98Q CNN Business\n",
      "UCe3I9BAVCzf9oACYU1EtrxA FallOutBoyVEVO\n",
      "UCe8sIC_x3QTSicY0sJFjePA Felix Müller\n",
      "UCeZwkPI7O0LfrxWQhuN9Y2w kimberlyb3499\n",
      "UCelmrlgNuOk6H1slK9yMbfg Brian Ortner\n",
      "UCf3cbfAXgPFL6OywH7JwOzA MeghanTrainorVEVO\n",
      "UCfDGIMgaDNROKsb9nBZyrHQ Jamboolio\n",
      "UCfg0tMqC1TKIWe6h07GQglg DisneyFanattic\n",
      "UCgF0OC_3MlW2KEyhhAgIQjA That Racing Channel\n",
      "UCgNYBlThN2CR0e5wUHISwsA ibzz107\n",
      "UCh1ZLwaFzcs1I23cxyG9quA easyNeon\n",
      "UChDKyKQ59fYz3JO2fl0Z6sg TODAY\n",
      "UCi76vtVEdTj_BhPkL_kornQ Failure Collection\n",
      "UCiP6wD_tYlYLYh3agzbByWQ FitnessBlender\n",
      "UCiXXnwX8kXCbCg5Lpt7JhKw Ege Anıl Efe\n",
      "UCiZiSRGUHko0Nfx8jN-WuYQ LoLo Love\n",
      "UCittVh8imKanO_5KohzDbpg Paul Joseph Watson\n",
      "UCix2j_RBOExLTtuYjnTsFQQ Rincon Util\n",
      "UCj2nuye21p6fT8e7goJUpsA Edgar Rodriguez\n",
      "UCj3tp0EPn3v4qMX4UEbLbyw Vmax Magasin\n",
      "UCjAQvDZFGKoAW6UaTeN9GGg Ronny Loomis\n",
      "UCjOl2AUblVmg2rA_cRgZkFg Top Gear\n",
      "UCjRXO-HSl5XpuF-cWvtMV_g TBTV\n",
      "UCja5HAHWLpwPNWe93jBqTDg Making Movies Jealous\n",
      "UCjwmbv6NE4mOh8Z8VhPUx1Q Rosanna Pansino\n",
      "UCko9JqUqwAou7iLlEAOaDhQ kool2045\n",
      "UClUww2bIva4OvJj4gSJqeEw bookofdays974\n",
      "UClesqLjeKJd-dG8xLfzJyCQ 5SOSVEVO\n",
      "UCmKdSrwf1e8coqAzUsrVHZw SiaVEVO\n",
      "UCmLvszOrcpkhGJLU9B5mYlA Drew Cole\n",
      "UCmPt18AWNee5amlMJI6sYAw Karo Swen\n",
      "UCmPuJ2BltKsGE2966jLgCnw acdcVEVO\n",
      "UCmSIwuk48zWJqpEOwn5fhVQ BeautyTakenIn\n",
      "UCm_-RXkpt2HGayR27IRMUXA Catalina Denisa Tanase\n",
      "UCnXFE5Fnk-nAZ10-qSHLTSg hummpy\n",
      "UCnv-pv3U6mdFDMOYZCalrJw L4HV4CZ\n",
      "UCnznU5eCkK8lv7WFuQW5Kgg Lawrence Cozma\n",
      "UCo6jphLv6XIs6MPrQU11XtQ pillybarbie\n",
      "UCo6mguVXRIjp_5kv6oCVzew AnimalistToo\n",
      "UComP_epzeKzvBX156r6pm1Q AdeleVEVO\n",
      "UCp0hYYBW6IMayGgR-WeoCvQ TheEllenShow\n",
      "UCpko_-a4wgz2u_DgDgd9fqA BuzzFeedVideo\n",
      "UCpwvZwUam-URkxB7g4USKpg RT\n",
      "UCqSHAXN5sqtyE93A-w-8Ddw DizastaMusic\n",
      "UCqTwKvjbTENZDGbz2si47ag GRM Daily\n",
      "UCqd5J6Qm18xXh19L2r6kVMQ Jett Capital\n",
      "UCqpvHYdGIEk3SEVpAWsLGCg Delay In Block Productions\n",
      "UCqsjRipOhfRhv3_JRAsYQgQ THELIFEOFPRICE\n",
      "UCqtc118chzxCUJExjeWbeEA Zennie62 Oakland Latest News Today Commentary Vlog\n",
      "UCr3VViOPv1bGa0EPkYjJwHg Wyldfantasies\n",
      "UCrmm_7RDZJeQzq2-wvmjueg The Real News Network\n",
      "UCrqsNpKuDQZreGaxBL_a5Jg Deji\n",
      "UCrzPrpjorAwT_dOyXzWH1mQ Games Edge\n",
      "UCsAegdhiYLEoaFGuJFVrqFQ MotorTrend Channel\n",
      "UCsD-LiP_w8UEJz2BOKStruQ JacobAndTheMule\n",
      "UCsEukrAd64fqA7FjwkmZ_Dw GQ\n",
      "UCsFCC9X3aTfaMfyDcQh_quA HECTOR ARCADIO FRANCO ALEJANDRE\n",
      "UCsKQLakuQKvr4LG4VLOpWDQ 2M Media\n",
      "UCsLPGBsfhgzeTgXG4oWk33g KOR Creative\n",
      "UCsXfDf1CDgU3SCt0gxJNXGg justintimberlakeVEVO\n",
      "UCshx7NPA7o8boQJuzOKilGQ Alain Leroux\n",
      "UCt3LAdQxplLdrwgZGf4FP3w ZubovMedia\n",
      "UCtIbNdzSZ-mSqiTyIYsWiQA BruBearBaby\n",
      "UCtTe50qnHuWrCSB8DO0EQOg Сергей Калабушкин\n",
      "UCtinbF-Q-fVthA0qrFQTgXQ CaseyNeistat\n",
      "UCuFFtHWoLl5fauMMD5Ww2jA CBC News\n",
      "UCuMo0RRtnNDuMB8DV5stEag Rebel HQ\n",
      "UCuTNcnGVHRlEJ7uq-X8mfTQ ツJPCMHD\n",
      "UCuX1g4_W-DPZZNTRMx_MucA generosity4u\n",
      "UCuYx81nzzz4OFQrhbKDzTng Michelle Phan\n",
      "UCupvZG-5ko_eiXAupbDfxWw CNN\n",
      "UCvB3solmhqtgDeLpD-yTtfg hickok45\n",
      "UCvC4D8onUfXzvjTOM-dBfEA Marvel Entertainment\n",
      "UCwTOmY5u8fWkwhRvHf77bpA ENVIKCIANDO\n",
      "UCwbPw2nw-GPTR6OyOKjXiqA Sam Welty\n",
      "UCwn0jaGbgMkYioOWBzMog1Q Gumbal\n",
      "UCx1f1u4XlFFr0YgqF3wB4lQ JenniferLopezVEVO\n",
      "UCxawwblSs_N4xsqeEOjyeNg Britney Spears (HD)\n",
      "UCyGq8IpCzBL8BgYI91X8Fwg Arrested Development\n",
      "UCyNRDwTUKsFDYkc0Q5pNcQg Rock e Metal HD\n",
      "UCyjTUNqX_vasRG4AAaM34jA Animation Domination High-Def\n",
      "UCz1hQ68G3XPVYEBoFDgSjcQ Channel 4\n",
      "UCz7h6Eshwht37ryP7up2NmQ Link Up TV\n",
      "UCzMQMhq7Id0Y_wSDA_CJdGg Ted Cruz\n",
      "UCzUV5283-l5c0oKRtyenj6Q Mark Dice\n",
      "UCzyPMQkpd3yTddYZYm-pbwg GAYTIMEvideo\n"
     ]
    }
   ],
   "source": [
    "channel_map_reddit = {row[\"channel_id\"]:row[\"channel_title\"] for _, row in reddit_yt_meta_df.iterrows()}\n",
    "channel_map_twitter = {row[\"channel_id\"]:row[\"channel_title\"] for _, row in twitter_yt_meta_df.iterrows()}\n",
    "\n",
    "print(len(top_yt_chans_map_reddit[\"ira\"]), len(top_yt_chans_map_twitter[\"ira\"]))\n",
    "print(\"*\"*100, \"\\nReddit:\")\n",
    "for x in sorted(top_yt_chans_map_reddit[\"ira\"]):\n",
    "    print(x, channel_map_reddit[x])\n",
    "    \n",
    "print(\"*\"*100, \"\\nTwitter:\")\n",
    "for x in sorted(top_yt_chans_map_twitter[\"ira\"]):\n",
    "    print(x, channel_map_twitter[x])"
   ]
  },
  {
   "cell_type": "code",
   "execution_count": null,
   "metadata": {},
   "outputs": [],
   "source": []
  },
  {
   "cell_type": "markdown",
   "metadata": {},
   "source": [
    "## Compare Identically Named Users"
   ]
  },
  {
   "cell_type": "code",
   "execution_count": 46,
   "metadata": {},
   "outputs": [],
   "source": [
    "reddit_troll_names = pd.read_csv(\"../data/reddit_troll_accounts_20190206.csv\")\n",
    "twitter_troll_names = pd.read_csv(\"../data/twitter_russian_troll_accounts.csv\")"
   ]
  },
  {
   "cell_type": "code",
   "execution_count": 47,
   "metadata": {},
   "outputs": [
    {
     "name": "stdout",
     "output_type": "stream",
     "text": [
      "User count with the same ID: 19\n",
      "southlonestar\n",
      "matevidence\n",
      "markhudson89\n",
      "blacktolive\n",
      "jenn_abrams\n",
      "fuuncake\n",
      "ten_gop\n",
      "tebepizdec\n",
      "wadeharriot\n",
      "rebekahbennet\n",
      "stephenbag\n",
      "leecory\n",
      "hyddrox\n",
      "dorothiebell\n",
      "1488reasons\n",
      "deusxyx\n",
      "toneporter\n",
      "mr_clampin\n",
      "bleepthepolice\n"
     ]
    }
   ],
   "source": [
    "cross_platform_users = set(twitter_troll_names[\"handle\"].apply(str.lower))\\\n",
    "    .intersection(set(reddit_troll_names[\"username\"].apply(str.lower)))\n",
    "\n",
    "print(\"User count with the same ID:\", len(cross_platform_users))\n",
    "for u in cross_platform_users:\n",
    "    print(u)"
   ]
  },
  {
   "cell_type": "code",
   "execution_count": 48,
   "metadata": {},
   "outputs": [],
   "source": [
    "deanon_df = pd.read_csv(\"../data/deanon_v2.csv\")"
   ]
  },
  {
   "cell_type": "code",
   "execution_count": 49,
   "metadata": {},
   "outputs": [],
   "source": [
    "deanon_map = {row[\"screen_name\"].lower():row[\"userid\"] for _, row in deanon_df.iterrows()}"
   ]
  },
  {
   "cell_type": "code",
   "execution_count": 50,
   "metadata": {},
   "outputs": [
    {
     "name": "stdout",
     "output_type": "stream",
     "text": [
      "southlonestar None\n",
      "matevidence None\n",
      "markhudson89 None\n",
      "blacktolive None\n",
      "jenn_abrams None\n",
      "fuuncake None\n",
      "ten_gop None\n",
      "tebepizdec None\n",
      "wadeharriot 349144213c3141c70f1021f47d801f6e7bb56dd7faa3302b023b0e82c0f70869\n",
      "rebekahbennet None\n",
      "stephenbag None\n",
      "leecory None\n",
      "hyddrox 396b0b6914e425ca53c49b7f1d6cfe9757eb7368c04c657a09d83b19a8f1251e\n",
      "dorothiebell dfcf2c9017b25c825fa444e17e429f3a6e739bc44ca7db41645470fe4410ad25\n",
      "1488reasons None\n",
      "deusxyx 99299a75c967aa491b27d86a60c2ffe0a6156d1b0dcb4487917f48e7e1c7ef78\n",
      "toneporter cd2f120a1666c87fac2ab045e1ff01b06be0814481d4e96234a13041b3a1a295\n",
      "mr_clampin b61d47c22efd69b47675c296d5c54e2675da8977504225327611713990b4e784\n",
      "bleepthepolice None\n"
     ]
    }
   ],
   "source": [
    "for u in cross_platform_users:\n",
    "    print(u, deanon_map.get(u))\n",
    "    "
   ]
  },
  {
   "cell_type": "code",
   "execution_count": null,
   "metadata": {},
   "outputs": [],
   "source": []
  },
  {
   "cell_type": "code",
   "execution_count": 51,
   "metadata": {},
   "outputs": [
    {
     "name": "stdout",
     "output_type": "stream",
     "text": [
      "southlonestar None\n",
      "matevidence None\n",
      "markhudson89 None\n",
      "blacktolive None\n",
      "jenn_abrams None\n",
      "fuuncake None\n",
      "ten_gop None\n",
      "tebepizdec None\n",
      "wadeharriot 349144213c3141c70f1021f47d801f6e7bb56dd7faa3302b023b0e82c0f70869\n",
      "\t Twitter Chans: 57 Reddit Chans: 1\n",
      "\t Chans in Common: 0\n",
      "rebekahbennet None\n",
      "stephenbag None\n",
      "leecory None\n",
      "hyddrox 396b0b6914e425ca53c49b7f1d6cfe9757eb7368c04c657a09d83b19a8f1251e\n",
      "\t Twitter Chans: 175 Reddit Chans: 0\n",
      "\t Chans in Common: 0\n",
      "dorothiebell dfcf2c9017b25c825fa444e17e429f3a6e739bc44ca7db41645470fe4410ad25\n",
      "\t Twitter Chans: 65 Reddit Chans: 0\n",
      "\t Chans in Common: 0\n",
      "1488reasons None\n",
      "deusxyx 99299a75c967aa491b27d86a60c2ffe0a6156d1b0dcb4487917f48e7e1c7ef78\n",
      "\t Twitter Chans: 49 Reddit Chans: 0\n",
      "\t Chans in Common: 0\n",
      "toneporter cd2f120a1666c87fac2ab045e1ff01b06be0814481d4e96234a13041b3a1a295\n",
      "\t Twitter Chans: 42 Reddit Chans: 0\n",
      "\t Chans in Common: 0\n",
      "mr_clampin b61d47c22efd69b47675c296d5c54e2675da8977504225327611713990b4e784\n",
      "\t Twitter Chans: 23 Reddit Chans: 0\n",
      "\t Chans in Common: 0\n",
      "bleepthepolice None\n"
     ]
    }
   ],
   "source": [
    "for u in cross_platform_users:\n",
    "    hashed_u = deanon_map.get(u)\n",
    "    print(u, deanon_map.get(u))\n",
    "    \n",
    "    if ( hashed_u is None ):\n",
    "        continue\n",
    "    \n",
    "    local_reddit_df = reddit_yt_df_ira[reddit_yt_df_ira[\"user_name\"] == u]\n",
    "    local_twitter_df = twitter_yt_df_ira[twitter_yt_df_ira[\"user_id\"] == hashed_u]\n",
    "\n",
    "    local_reddit_tld = set(local_reddit_df[\"channel_id\"].value_counts().index)\n",
    "    local_twitter_tld = set(local_twitter_df[\"channel_id\"].value_counts().index)\n",
    "\n",
    "    common_tlds = set(local_twitter_tld).intersection(local_reddit_tld)\n",
    "    print(\"\\t\", \"Twitter Chans:\", len(local_twitter_tld), \"Reddit Chans:\", len(local_reddit_tld))\n",
    "    print(\"\\t\", \"Chans in Common:\", len(common_tlds))\n",
    "\n",
    "    if ( len(common_tlds) == 0 ):\n",
    "        continue\n",
    "        \n",
    "    local_sim = sklearn.metrics.pairwise.cosine_similarity(\n",
    "        links_to_norm_matrix(local_reddit_df, common_tlds, \"user_name\"), \n",
    "        links_to_norm_matrix(local_twitter_df, common_tlds, \"user_id\"))\n",
    "    print(\"\\t\", \"Local Similarity:\", local_sim)"
   ]
  },
  {
   "cell_type": "code",
   "execution_count": 52,
   "metadata": {},
   "outputs": [
    {
     "name": "stdout",
     "output_type": "stream",
     "text": [
      "wadeharriot & 1 & 57 & 0 & 0.000000 \\\\\n",
      "hyddrox & 0 & 175 & 0 & 0.000000 \\\\\n",
      "dorothiebell & 0 & 65 & 0 & 0.000000 \\\\\n",
      "deusxyx & 0 & 49 & 0 & 0.000000 \\\\\n",
      "toneporter & 0 & 42 & 0 & 0.000000 \\\\\n",
      "mr_clampin & 0 & 23 & 0 & 0.000000 \\\\\n"
     ]
    }
   ],
   "source": [
    "for u in cross_platform_users:\n",
    "    hashed_u = deanon_map.get(u)\n",
    "    \n",
    "    if ( hashed_u is None ):\n",
    "        continue\n",
    "    \n",
    "    local_reddit_df = reddit_yt_df_ira[reddit_yt_df_ira[\"user_name\"] == u]\n",
    "    local_twitter_df = twitter_yt_df_ira[twitter_yt_df_ira[\"user_id\"] == hashed_u]\n",
    "\n",
    "    local_reddit_tld = set(local_reddit_df[\"channel_id\"].value_counts().index)\n",
    "    local_twitter_tld = set(local_twitter_df[\"channel_id\"].value_counts().index)\n",
    "\n",
    "    common_tlds = set(local_twitter_tld).intersection(local_reddit_tld)\n",
    "\n",
    "    sim = 0.0\n",
    "    if ( len(common_tlds) > 0 ):\n",
    "        local_sim = sklearn.metrics.pairwise.cosine_similarity(\n",
    "            links_to_norm_matrix(local_reddit_df, common_tlds, \"user_name\"), \n",
    "            links_to_norm_matrix(local_twitter_df, common_tlds, \"user_id\"))\n",
    "        sim = local_sim[0]\n",
    "        \n",
    "    print(\"%s & %d & %d & %d & %f \\\\\\\\\" % (u, len(local_reddit_tld), len(local_twitter_tld), len(common_tlds), sim))\n",
    "    "
   ]
  },
  {
   "cell_type": "code",
   "execution_count": null,
   "metadata": {},
   "outputs": [],
   "source": []
  }
 ],
 "metadata": {
  "kernelspec": {
   "display_name": "Python 3",
   "language": "python",
   "name": "python3"
  },
  "language_info": {
   "codemirror_mode": {
    "name": "ipython",
    "version": 3
   },
   "file_extension": ".py",
   "mimetype": "text/x-python",
   "name": "python",
   "nbconvert_exporter": "python",
   "pygments_lexer": "ipython3",
   "version": "3.6.5"
  }
 },
 "nbformat": 4,
 "nbformat_minor": 2
}
