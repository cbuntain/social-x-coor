{
 "cells": [
  {
   "cell_type": "markdown",
   "metadata": {},
   "source": [
    "# Compare Twitter and Reddit Populations\n",
    "\n",
    "## Restricted to YouTube\n",
    "\n",
    "This script evaluates how similar subsets of Twitter and Reddit populations are within platform and across platform.\n",
    "The populations we test are:\n",
    "- Random US Twitter users active in 2015-2018\n",
    "    - Must have tweeted >= 100 times in this time frame\n",
    "- Politically engaged US Twitter users active in 2015-2018\n",
    "    - Must have tweeted >= 100 times in this time frame\n",
    "    - Must follow at least 5 politicians\n",
    "- IRA Twitter accounts identified by Twitter\n",
    "- Random Reddit accounts  active in 2015-2018\n",
    "    - Must have posted/commented >= 100 times in this time frame\n",
    "- Politically engaged Redditors  active in 2015-2018\n",
    "    - Must have posted/commented >= 100 times in subreddits /r/politics identifies as US-political in this time frame\n",
    "- IRA Reddit accounts identified by Reddit"
   ]
  },
  {
   "cell_type": "code",
   "execution_count": 10,
   "metadata": {},
   "outputs": [],
   "source": [
    "%matplotlib inline"
   ]
  },
  {
   "cell_type": "code",
   "execution_count": 11,
   "metadata": {},
   "outputs": [],
   "source": [
    "import json\n",
    "import time\n",
    "import string\n",
    "import datetime\n",
    "import matplotlib\n",
    "\n",
    "import scipy.stats\n",
    "\n",
    "import numpy as np\n",
    "import pandas as pd\n",
    "import statsmodels.api as sm\n",
    "\n",
    "import matplotlib.pyplot as plt"
   ]
  },
  {
   "cell_type": "code",
   "execution_count": 12,
   "metadata": {},
   "outputs": [],
   "source": [
    "import sklearn.preprocessing\n",
    "import sklearn.metrics"
   ]
  },
  {
   "cell_type": "code",
   "execution_count": 13,
   "metadata": {},
   "outputs": [],
   "source": [
    "from utils.youtube import strip_video_id_from_url"
   ]
  },
  {
   "cell_type": "code",
   "execution_count": null,
   "metadata": {},
   "outputs": [],
   "source": []
  },
  {
   "cell_type": "code",
   "execution_count": 14,
   "metadata": {},
   "outputs": [],
   "source": [
    "def convert_date(date):\n",
    "    return datetime.datetime.strptime(date, \"%a %b %d %H:%M:%S +0000 %Y\")\n",
    "\n",
    "def convert_time(timestamp):\n",
    "    created_time = timestamp\n",
    "    if ( isinstance(created_time, str) ):\n",
    "        created_time = float(created_time)\n",
    "        \n",
    "    d = datetime.datetime.utcfromtimestamp(created_time)\n",
    "    return d\n",
    "\n",
    "def get_top_tlds(links_df, user_id_field, top_n=100):\n",
    "    tld_user_counts = {}\n",
    "    for tld, group in links_df.groupby(\"tld\"):\n",
    "        local_users = set(group[user_id_field])\n",
    "        tld_user_counts[tld] = len(local_users)\n",
    "\n",
    "    return sorted(tld_user_counts, key=tld_user_counts.get, reverse=True)[:top_n]\n",
    "\n",
    "def links_df_to_shares(links_df, domains, user_id_field):\n",
    "    user_shares = []\n",
    "\n",
    "    for user,user_posts in links_df.groupby(user_id_field):\n",
    "        local_tld_counts = dict(user_posts[\"tld\"].value_counts().items())\n",
    "        local_vector = [local_tld_counts.get(x, 0) for x in domains]\n",
    "        user_shares.append([user] + local_vector)\n",
    "\n",
    "    return pd.DataFrame(user_shares, columns=[user_id_field] + domains)\n",
    "\n",
    "def links_to_norm_matrix(links_df, domains, user_id_field):\n",
    "    if ( type(domains) == set ):\n",
    "        domains = list(domains)\n",
    "        \n",
    "    shares_df = links_df_to_shares(links_df, domains, user_id_field)\n",
    "    return sklearn.preprocessing.normalize(shares_df[domains], norm=\"l2\", axis=1)\n",
    "\n",
    "def get_top_channels(yt_df, user_id_field, top_n=100):\n",
    "    channel_user_counts = {}\n",
    "    for channel, group in yt_df.groupby(\"channel_id\"):\n",
    "        local_users = set(group[user_id_field])\n",
    "        channel_user_counts[channel] = len(local_users)\n",
    "\n",
    "    return sorted(channel_user_counts, key=channel_user_counts.get, reverse=True)[:top_n]\n",
    "\n",
    "def channels_df_to_shares(links_df, channels, user_id_field):\n",
    "    user_shares = []\n",
    "\n",
    "    for user,user_posts in links_df.groupby(user_id_field):\n",
    "        local_chan_counts = dict(user_posts[\"channel_id\"].value_counts().items())\n",
    "        local_vector = [local_chan_counts.get(x, 0) for x in channels]\n",
    "        user_shares.append([user] + local_vector)\n",
    "\n",
    "    return pd.DataFrame(user_shares, columns=[user_id_field] + channels)\n",
    "\n",
    "def channels_to_norm_matrix(links_df, channels, user_id_field):\n",
    "    if ( type(channels) == set ):\n",
    "        channels = list(channels)\n",
    "        \n",
    "    shares_df = channels_df_to_shares(links_df, channels, user_id_field)\n",
    "    return sklearn.preprocessing.normalize(shares_df[channels], norm=\"l2\", axis=1)\n"
   ]
  },
  {
   "cell_type": "code",
   "execution_count": null,
   "metadata": {},
   "outputs": [],
   "source": []
  },
  {
   "cell_type": "code",
   "execution_count": 15,
   "metadata": {},
   "outputs": [],
   "source": [
    "# similarity_function = sklearn.metrics.pairwise.cosine_similarity\n",
    "similarity_function = sklearn.metrics.pairwise.cosine_distances\n",
    "# similarity_function = sklearn.metrics.pairwise.euclidean_distances"
   ]
  },
  {
   "cell_type": "code",
   "execution_count": null,
   "metadata": {},
   "outputs": [],
   "source": []
  },
  {
   "cell_type": "code",
   "execution_count": 16,
   "metadata": {},
   "outputs": [],
   "source": [
    "top_n_channels = 250\n",
    "\n",
    "sample_count = 1000\n",
    "bootstrap_count = 5000"
   ]
  },
  {
   "cell_type": "code",
   "execution_count": null,
   "metadata": {},
   "outputs": [],
   "source": []
  },
  {
   "cell_type": "code",
   "execution_count": 17,
   "metadata": {},
   "outputs": [],
   "source": [
    "short_domain_map = {\n",
    "    \"abcn.ws\": \"abcnews.go.com\",\n",
    "    \"amzn.to\": \"amazon.com\",\n",
    "    \"apne.ws\": \"apnews.com\",\n",
    "    \"apple.co\": \"apple.com\",\n",
    "    \"bbc.in\": \"bbc.com\",\n",
    "    \"ble.ac\": \"bleacherreport.com\",\n",
    "    \"bloom.bg\": \"bloomberg.com\",\n",
    "    \"bzfd.it\": \"buzzfeed.com\",\n",
    "    \"cbsloc.al\": \"cbslocal.com\",\n",
    "    \"cnb.cx\": \"cnbc.com\",\n",
    "    \"cnn.it\": \"cnn.com\",\n",
    "    \"cnn.it\": \"cnn.com\",\n",
    "    \"dailym.ai\" : \"dailymail.co.uk\",\n",
    "    \"econ.st\": \"economist.com\",\n",
    "    \"es.pn\": \"espn.com\",\n",
    "    \"fxn.ws\": \"foxnews.com\",\n",
    "    \"hill.cm\": \"thehill.com\",\n",
    "    \"huff.to\" : \"huffingtonpost.com\",\n",
    "    \"lat.ms\": \"latimes.com\",\n",
    "    \"lnkd.in\": \"linkedin.com\",\n",
    "    \"n.pr\": \"npr.org\",\n",
    "    \"nbcnews.to\": \"nbcnews.com\",\n",
    "    \"nydn.us\": \"nydailynews.com\",\n",
    "    \"nyp.st\": \"nypost.com\",\n",
    "    \"nyti.ms\": \"nytimes.com\",\n",
    "    \"on.rt.com\": \"rt.com\",\n",
    "    \"on.wsj.com\": \"wsj.com\",\n",
    "    \"politi.co\": \"politico.com\",\n",
    "    \"redd.it\": \"reddit.com\",\n",
    "    \"reut.rs\": \"reuters.com\",\n",
    "    \"thebea.st\": \"thedailybeast.com\",\n",
    "    \"ti.me\": \"time.com\",\n",
    "    \"tmblr.co\": \"tumblr.com\",\n",
    "    \"usat.ly\": \"usatoday.com\",\n",
    "    \"wapo.st\": \"washingtonpost.com\",\n",
    "    \"wp.me\": \"wordpress.com\",\n",
    "    \"wpo.st\": \"washingtonpost.com\",\n",
    "    \"yhoo.it\": \"yahoo.com\",\n",
    "    \"youtu.be\": \"youtube.com\",\n",
    "}"
   ]
  },
  {
   "cell_type": "code",
   "execution_count": null,
   "metadata": {},
   "outputs": [],
   "source": []
  },
  {
   "cell_type": "code",
   "execution_count": 18,
   "metadata": {},
   "outputs": [],
   "source": [
    "twitter_links_df_rand = pd.read_csv(\"twitter_random_us_sample_links.csv\",\n",
    "    converters={\"created_at\": convert_date})\n",
    "twitter_links_df_poli = pd.read_csv(\"twitter_political_us_sample_links.csv\",\n",
    "    converters={\"created_at\": convert_date})\n",
    "twitter_links_df_ira = pd.read_csv(\n",
    "    \"twitter_ira_links.csv\",\n",
    "    converters={\"created_at\": lambda x: datetime.datetime.strptime(x, \"%Y-%m-%d %H:%M:%S\")}\n",
    ")"
   ]
  },
  {
   "cell_type": "code",
   "execution_count": 19,
   "metadata": {},
   "outputs": [],
   "source": [
    "twitter_links_df_rand[\"tld\"] = twitter_links_df_rand[\"tld\"].apply(lambda x: short_domain_map.get(x, x))\n",
    "twitter_links_df_poli[\"tld\"] = twitter_links_df_poli[\"tld\"].apply(lambda x: short_domain_map.get(x, x))\n",
    "twitter_links_df_ira[\"tld\"] = twitter_links_df_ira[\"tld\"].apply(lambda x: short_domain_map.get(x, x))"
   ]
  },
  {
   "cell_type": "code",
   "execution_count": null,
   "metadata": {},
   "outputs": [],
   "source": []
  },
  {
   "cell_type": "code",
   "execution_count": null,
   "metadata": {},
   "outputs": [],
   "source": []
  },
  {
   "cell_type": "code",
   "execution_count": 20,
   "metadata": {},
   "outputs": [],
   "source": [
    "reddit_links_df_rand = pd.read_csv(\"reddit_random_links.csv\",\n",
    "    converters={\"created_at\": convert_time})\n",
    "reddit_links_df_poli = pd.read_csv(\"reddit_political_links.csv\",\n",
    "    converters={\"created_at\": convert_time})\n",
    "reddit_links_df_ira = pd.read_csv(\"reddit_troll_links.csv\",\n",
    "    converters={\"created_at\": convert_time}\n",
    ")"
   ]
  },
  {
   "cell_type": "code",
   "execution_count": 21,
   "metadata": {},
   "outputs": [],
   "source": [
    "reddit_links_df_rand[\"tld\"] = reddit_links_df_rand[\"tld\"].apply(lambda x: short_domain_map.get(x, x))\n",
    "reddit_links_df_poli[\"tld\"] = reddit_links_df_poli[\"tld\"].apply(lambda x: short_domain_map.get(x, x))\n",
    "reddit_links_df_ira[\"tld\"] = reddit_links_df_ira[\"tld\"].apply(lambda x: short_domain_map.get(x, x))"
   ]
  },
  {
   "cell_type": "code",
   "execution_count": null,
   "metadata": {},
   "outputs": [],
   "source": []
  },
  {
   "cell_type": "markdown",
   "metadata": {},
   "source": [
    "# YouTube Channel Distributions\n",
    "\n",
    "We've checked the differences in top-level domain sharing, but we know YouTube was very popular as well. Now, we turn to the distributions of YouTube channels."
   ]
  },
  {
   "cell_type": "code",
   "execution_count": 22,
   "metadata": {},
   "outputs": [],
   "source": [
    "twitter_yt_df_rand = twitter_links_df_rand[twitter_links_df_rand.tld == \"youtube.com\"].copy()\n",
    "twitter_yt_df_poli = twitter_links_df_poli[twitter_links_df_poli.tld == \"youtube.com\"].copy()\n",
    "twitter_yt_df_ira = twitter_links_df_ira[twitter_links_df_ira.tld == \"youtube.com\"].copy()\n",
    "\n",
    "twitter_yt_df_rand[\"video_id\"] = twitter_yt_df_rand.link.apply(strip_video_id_from_url)\n",
    "twitter_yt_df_poli[\"video_id\"] = twitter_yt_df_poli.link.apply(strip_video_id_from_url)\n",
    "twitter_yt_df_ira[\"video_id\"] = twitter_yt_df_ira.link.apply(strip_video_id_from_url)\n",
    "\n",
    "twitter_yt_df_rand = twitter_yt_df_rand.dropna(subset=[\"video_id\"])\n",
    "twitter_yt_df_poli = twitter_yt_df_poli.dropna(subset=[\"video_id\"])\n",
    "twitter_yt_df_ira = twitter_yt_df_ira.dropna(subset=[\"video_id\"])\n"
   ]
  },
  {
   "cell_type": "code",
   "execution_count": 23,
   "metadata": {},
   "outputs": [
    {
     "name": "stdout",
     "output_type": "stream",
     "text": [
      "Unique YT Videos: 154835\n"
     ]
    }
   ],
   "source": [
    "twitter_video_ids = set(twitter_yt_df_rand[\"video_id\"]).union(set(twitter_yt_df_poli[\"video_id\"])).union(set(twitter_yt_df_ira[\"video_id\"]))\n",
    "print(\"Unique YT Videos:\", len(twitter_video_ids))\n",
    "\n",
    "with open(\"twitter_all_video_ids.csv\", \"w\") as out_file:\n",
    "    out_file.write(\"video_id\\n\")\n",
    "    for video_id in twitter_video_ids:\n",
    "        if ( len(video_id.strip()) == 0 ):\n",
    "            continue\n",
    "        out_file.write(\"%s\\n\" % video_id)"
   ]
  },
  {
   "cell_type": "code",
   "execution_count": null,
   "metadata": {},
   "outputs": [],
   "source": []
  },
  {
   "cell_type": "code",
   "execution_count": 24,
   "metadata": {},
   "outputs": [],
   "source": [
    "reddit_yt_df_rand = reddit_links_df_rand[reddit_links_df_rand.tld == \"youtube.com\"].copy()\n",
    "reddit_yt_df_poli = reddit_links_df_poli[reddit_links_df_poli.tld == \"youtube.com\"].copy()\n",
    "reddit_yt_df_ira = reddit_links_df_ira[reddit_links_df_ira.tld == \"youtube.com\"].copy()\n",
    "\n",
    "reddit_yt_df_rand[\"video_id\"] = reddit_yt_df_rand.link.apply(strip_video_id_from_url)\n",
    "reddit_yt_df_poli[\"video_id\"] = reddit_yt_df_poli.link.apply(strip_video_id_from_url)\n",
    "reddit_yt_df_ira[\"video_id\"] = reddit_yt_df_ira.link.apply(strip_video_id_from_url)\n",
    "\n",
    "reddit_yt_df_rand = reddit_yt_df_rand.dropna(subset=[\"video_id\"])\n",
    "reddit_yt_df_poli = reddit_yt_df_poli.dropna(subset=[\"video_id\"])\n",
    "reddit_yt_df_ira = reddit_yt_df_ira.dropna(subset=[\"video_id\"])\n"
   ]
  },
  {
   "cell_type": "code",
   "execution_count": 25,
   "metadata": {},
   "outputs": [
    {
     "name": "stdout",
     "output_type": "stream",
     "text": [
      "Unique YT Videos: 32681\n"
     ]
    }
   ],
   "source": [
    "reddit_video_ids = set(reddit_yt_df_rand[\"video_id\"]).union(set(reddit_yt_df_poli[\"video_id\"])).union(set(reddit_yt_df_ira[\"video_id\"]))\n",
    "print(\"Unique YT Videos:\", len(reddit_video_ids))\n",
    "\n",
    "with open(\"reddit_all_video_ids.csv\", \"w\", encoding=\"utf-8\") as out_file:\n",
    "    out_file.write(\"video_id\\n\")\n",
    "    for video_id in reddit_video_ids:\n",
    "        if ( len(video_id.strip()) == 0 ):\n",
    "            continue\n",
    "        video_id = video_id.replace(\"%\", \"\")\n",
    "        out_file.write(\"%s\\n\" % video_id)"
   ]
  },
  {
   "cell_type": "code",
   "execution_count": 26,
   "metadata": {},
   "outputs": [
    {
     "name": "stdout",
     "output_type": "stream",
     "text": [
      "Merged YT Videos: 185643\n"
     ]
    }
   ],
   "source": [
    "all_video_ids = reddit_video_ids.union(twitter_video_ids)\n",
    "print(\"Merged YT Videos:\", len(all_video_ids))\n",
    "\n",
    "with open(\"twitter+reddit_all_video_ids.csv\", \"w\", encoding=\"utf-8\") as out_file:\n",
    "    out_file.write(\"video_id\\n\")\n",
    "    for video_id in all_video_ids:\n",
    "        if ( len(video_id.strip()) == 0 ):\n",
    "            continue\n",
    "        out_file.write(\"%s\\n\" % video_id)"
   ]
  },
  {
   "cell_type": "code",
   "execution_count": null,
   "metadata": {},
   "outputs": [],
   "source": []
  },
  {
   "cell_type": "code",
   "execution_count": 27,
   "metadata": {},
   "outputs": [
    {
     "name": "stdout",
     "output_type": "stream",
     "text": [
      "random : 250\n",
      "political : 250\n",
      "ira : 250\n"
     ]
    }
   ],
   "source": [
    "twitter_yt_meta_df = pd.read_csv(\"twitter_video_metadata.csv\")\n",
    "twitter_yt_vid2chan_map = {row[\"video_id\"]:row[\"channel_id\"] for idx, row in twitter_yt_meta_df.iterrows()}\n",
    "\n",
    "twitter_yt_df_rand[\"channel_id\"] = twitter_yt_df_rand[\"video_id\"].apply(twitter_yt_vid2chan_map.get)\n",
    "twitter_yt_df_poli[\"channel_id\"] = twitter_yt_df_poli[\"video_id\"].apply(twitter_yt_vid2chan_map.get)\n",
    "twitter_yt_df_ira[\"channel_id\"] = twitter_yt_df_ira[\"video_id\"].apply(twitter_yt_vid2chan_map.get)\n",
    "\n",
    "twitter_top_yt_chans_rand = get_top_channels(twitter_yt_df_rand, user_id_field=\"user_id\", top_n=top_n_channels)\n",
    "twitter_top_yt_chans_poli = get_top_channels(twitter_yt_df_poli, user_id_field=\"user_id\", top_n=top_n_channels)\n",
    "twitter_top_yt_chans_ira = get_top_channels(twitter_yt_df_ira, user_id_field=\"user_id\", top_n=top_n_channels)\n",
    "\n",
    "top_yt_chans_map_twitter = {\n",
    "    \"random\": set(twitter_top_yt_chans_rand),\n",
    "    \"political\": set(twitter_top_yt_chans_poli),\n",
    "    \"ira\": set(twitter_top_yt_chans_ira),\n",
    "}\n",
    "\n",
    "for population, tlds in top_yt_chans_map_twitter.items():\n",
    "    print(population, \":\", len(tlds))\n"
   ]
  },
  {
   "cell_type": "code",
   "execution_count": 28,
   "metadata": {},
   "outputs": [
    {
     "name": "stdout",
     "output_type": "stream",
     "text": [
      "random : 250\n",
      "political : 250\n",
      "ira : 125\n"
     ]
    }
   ],
   "source": [
    "reddit_yt_meta_df = pd.read_csv(\"reddit_all_video_metadata.csv\")\n",
    "reddit_yt_vid2chan_map = {row[\"video_id\"]:row[\"channel_id\"] for idx, row in reddit_yt_meta_df.iterrows()}\n",
    "\n",
    "reddit_yt_df_rand[\"channel_id\"] = reddit_yt_df_rand[\"video_id\"].apply(reddit_yt_vid2chan_map.get)\n",
    "reddit_yt_df_poli[\"channel_id\"] = reddit_yt_df_poli[\"video_id\"].apply(reddit_yt_vid2chan_map.get)\n",
    "reddit_yt_df_ira[\"channel_id\"] = reddit_yt_df_ira[\"video_id\"].apply(reddit_yt_vid2chan_map.get)\n",
    "\n",
    "reddit_top_yt_chans_rand = get_top_channels(reddit_yt_df_rand, user_id_field=\"user_name\", top_n=top_n_channels)\n",
    "reddit_top_yt_chans_poli = get_top_channels(reddit_yt_df_poli, user_id_field=\"user_name\", top_n=top_n_channels)\n",
    "reddit_top_yt_chans_ira = get_top_channels(reddit_yt_df_ira, user_id_field=\"user_name\", top_n=top_n_channels)\n",
    "\n",
    "top_yt_chans_map_reddit = {\n",
    "    \"random\": set(reddit_top_yt_chans_rand),\n",
    "    \"political\": set(reddit_top_yt_chans_poli),\n",
    "    \"ira\": set(reddit_top_yt_chans_ira),\n",
    "}\n",
    "\n",
    "for population, tlds in top_yt_chans_map_reddit.items():\n",
    "    print(population, \":\", len(tlds))\n"
   ]
  },
  {
   "cell_type": "code",
   "execution_count": null,
   "metadata": {},
   "outputs": [],
   "source": []
  },
  {
   "cell_type": "code",
   "execution_count": null,
   "metadata": {},
   "outputs": [],
   "source": []
  },
  {
   "cell_type": "code",
   "execution_count": 29,
   "metadata": {},
   "outputs": [
    {
     "name": "stdout",
     "output_type": "stream",
     "text": [
      "Rand->Poli Overlap: 107\n",
      "Rand->IRA Overlap: 34\n",
      "Poli->IRA Overlap: 41\n"
     ]
    },
    {
     "data": {
      "image/png": "[encoded data removed]",
      "text/plain": [
       "<Figure size 432x288 with 1 Axes>"
      ]
     },
     "metadata": {},
     "output_type": "display_data"
    },
    {
     "data": {
      "image/png": "[encoded data removed]",
      "text/plain": [
       "<Figure size 432x288 with 1 Axes>"
      ]
     },
     "metadata": {},
     "output_type": "display_data"
    }
   ],
   "source": [
    "twitter_overlap_rand_poli = top_yt_chans_map_twitter[\"random\"].intersection(top_yt_chans_map_twitter[\"political\"])\n",
    "twitter_overlap_rand_ira = top_yt_chans_map_twitter[\"random\"].intersection(top_yt_chans_map_twitter[\"ira\"])\n",
    "twitter_overlap_poli_ira = top_yt_chans_map_twitter[\"political\"].intersection(top_yt_chans_map_twitter[\"ira\"])\n",
    "\n",
    "print(\"Rand->Poli Overlap:\", len(twitter_overlap_rand_poli))\n",
    "print(\"Rand->IRA Overlap:\", len(twitter_overlap_rand_ira))\n",
    "print(\"Poli->IRA Overlap:\", len(twitter_overlap_poli_ira))\n",
    "\n",
    "twitter_user_links_mat_rand = channels_to_norm_matrix(twitter_yt_df_rand, top_yt_chans_map_twitter[\"random\"], \"user_id\")\n",
    "twitter_user_links_mat_poli = channels_to_norm_matrix(twitter_yt_df_poli, top_yt_chans_map_twitter[\"political\"], \"user_id\")\n",
    "twitter_user_links_mat_ira = channels_to_norm_matrix(twitter_yt_df_ira, top_yt_chans_map_twitter[\"ira\"], \"user_id\")\n",
    "\n",
    "# Calculate pairwise similarity among users across populations\n",
    "t2t_rand_rand_sim = similarity_function(twitter_user_links_mat_rand, twitter_user_links_mat_rand)\n",
    "t2t_poli_poli_sim = similarity_function(twitter_user_links_mat_poli, twitter_user_links_mat_poli)\n",
    "t2t_ira_ira_sim = similarity_function(twitter_user_links_mat_ira, twitter_user_links_mat_ira)\n",
    "\n",
    "t2t_ira_rand_sim = similarity_function(\n",
    "    channels_to_norm_matrix(twitter_yt_df_ira, twitter_overlap_rand_ira, \"user_id\"), \n",
    "    channels_to_norm_matrix(twitter_yt_df_rand, twitter_overlap_rand_ira, \"user_id\"))\n",
    "t2t_ira_poli_sim = similarity_function(\n",
    "    channels_to_norm_matrix(twitter_yt_df_ira, twitter_overlap_poli_ira, \"user_id\"), \n",
    "    channels_to_norm_matrix(twitter_yt_df_poli, twitter_overlap_poli_ira, \"user_id\"))\n",
    "t2t_rand_poli_sim = similarity_function(\n",
    "    channels_to_norm_matrix(twitter_yt_df_rand, twitter_overlap_rand_poli, \"user_id\"), \n",
    "    channels_to_norm_matrix(twitter_yt_df_poli, twitter_overlap_rand_poli, \"user_id\"))\n",
    "\n",
    "# # Collapse similarities down to get the mean similarity for each user on the left to all users on the right\n",
    "# #. note the minus 1 and reduction of shape by 1 for the within-platform groups, which I do to remove the \n",
    "# #. self-similarity effect\n",
    "# t2t_rand_rand_sim_avg = (np.sum(t2t_rand_rand_sim, axis=1) - 1) / (twitter_user_links_mat_rand.shape[0] - 1)\n",
    "# t2t_poli_poli_sim_avg = (np.sum(t2t_poli_poli_sim, axis=1) - 1) / (twitter_user_links_mat_poli.shape[0] - 1)\n",
    "# t2t_ira_ira_sim_avg = (np.sum(t2t_ira_ira_sim, axis=1) - 1) / (twitter_user_links_mat_ira.shape[0] - 1)\n",
    "# t2t_ira_rand_sim_avg = np.mean(t2t_ira_rand_sim, axis=1)\n",
    "# t2t_ira_poli_sim_avg = np.mean(t2t_ira_poli_sim, axis=1)\n",
    "# t2t_ira_ira_sim_avg = np.mean(t2t_ira_ira_sim, axis=1)\n",
    "# t2t_rand_poli_sim_avg = np.mean(t2t_rand_poli_sim, axis=1)\n",
    "\n",
    "t2t_rand_rand_sim_flat = t2t_rand_rand_sim.flatten()\n",
    "t2t_poli_poli_sim_flat = t2t_poli_poli_sim.flatten()\n",
    "t2t_ira_ira_sim_flat = t2t_ira_ira_sim.flatten()\n",
    "t2t_ira_rand_sim_flat = t2t_ira_rand_sim.flatten()\n",
    "t2t_ira_poli_sim_flat = t2t_ira_poli_sim.flatten()\n",
    "\n",
    "# Show similarity distribution within populations in this platform\n",
    "t2t_rand_rand_sim_avg_bootstrap = [\n",
    "    sklearn.utils.resample(\n",
    "        t2t_rand_rand_sim_flat, replace=True, n_samples=sample_count\n",
    "    ).mean() \n",
    "    for i in range(bootstrap_count)\n",
    "]\n",
    "t2t_poli_poli_sim_avg_bootstrap = [\n",
    "    sklearn.utils.resample(\n",
    "        t2t_poli_poli_sim_flat, replace=True, n_samples=sample_count\n",
    "    ).mean() \n",
    "    for i in range(bootstrap_count)\n",
    "]\n",
    "t2t_ira_ira_sim_avg_bootstrap = [\n",
    "    sklearn.utils.resample(\n",
    "        t2t_ira_ira_sim_flat, replace=True, n_samples=sample_count\n",
    "    ).mean() \n",
    "    for i in range(bootstrap_count)\n",
    "]\n",
    "\n",
    "plt.hist(t2t_rand_rand_sim_avg_bootstrap, bins=20, density=True, alpha=0.35, label=\"rand-rand\")\n",
    "plt.hist(t2t_poli_poli_sim_avg_bootstrap, bins=20, density=True, alpha=0.35, label=\"poli-poli\")\n",
    "plt.hist(t2t_ira_ira_sim_avg_bootstrap, bins=20, density=True, alpha=0.35, label=\"ira-ira\")\n",
    "\n",
    "plt.title(\"Within-Population Similarity\")\n",
    "plt.legend()\n",
    "plt.show()\n",
    "\n",
    "# Show similarity distribution across populations in this platform\n",
    "t2t_ira_rand_sim_avg_bootstrap = [\n",
    "    sklearn.utils.resample(\n",
    "        t2t_ira_rand_sim_flat, replace=True, n_samples=sample_count\n",
    "    ).mean() \n",
    "    for i in range(bootstrap_count)\n",
    "]\n",
    "t2t_ira_poli_sim_avg_bootstrap = [\n",
    "    sklearn.utils.resample(\n",
    "        t2t_ira_poli_sim_flat, replace=True, n_samples=sample_count\n",
    "    ).mean() \n",
    "    for i in range(bootstrap_count)\n",
    "]\n",
    "\n",
    "plt.hist(t2t_ira_rand_sim_avg_bootstrap, bins=20, density=True, alpha=0.35, label=\"ira-rand\")\n",
    "plt.hist(t2t_ira_poli_sim_avg_bootstrap, bins=20, density=True, alpha=0.35, label=\"ira-poli\")\n",
    "plt.hist(t2t_ira_ira_sim_avg_bootstrap, bins=20, density=True, alpha=0.35, label=\"ira-ira\")\n",
    "\n",
    "plt.title(\"Across-Population Similarity\")\n",
    "plt.legend()\n",
    "plt.show()"
   ]
  },
  {
   "cell_type": "code",
   "execution_count": null,
   "metadata": {},
   "outputs": [],
   "source": []
  },
  {
   "cell_type": "code",
   "execution_count": 30,
   "metadata": {},
   "outputs": [
    {
     "name": "stdout",
     "output_type": "stream",
     "text": [
      "Random-Random: 0.9982915725702227 1.223718487605474e-06\n",
      "Russian IRA-Random: 0.9969092314384134 1.660818441765527e-06\n",
      "Russian IRA-Political: 0.9958363482936399 2.3940342780070714e-06\n"
     ]
    }
   ],
   "source": [
    "print(\"Random-Random:\", np.array(t2t_rand_rand_sim_avg_bootstrap).mean(), np.array(t2t_rand_rand_sim_avg_bootstrap).var())\n",
    "print(\"Russian IRA-Random:\", np.array(t2t_ira_rand_sim_avg_bootstrap).mean(), np.array(t2t_ira_rand_sim_avg_bootstrap).var())\n",
    "print(\"Russian IRA-Political:\", np.array(t2t_ira_poli_sim_avg_bootstrap).mean(), np.array(t2t_ira_poli_sim_avg_bootstrap).var())\n"
   ]
  },
  {
   "cell_type": "code",
   "execution_count": null,
   "metadata": {},
   "outputs": [],
   "source": []
  },
  {
   "cell_type": "code",
   "execution_count": 31,
   "metadata": {},
   "outputs": [
    {
     "data": {
      "image/png": "[encoded data removed]",
      "text/plain": [
       "<Figure size 432x288 with 1 Axes>"
      ]
     },
     "metadata": {},
     "output_type": "display_data"
    }
   ],
   "source": [
    "plt.hist(t2t_poli_poli_sim_avg_bootstrap, bins=20, density=True, alpha=0.35, label=\"Political-Political\", color=\"blue\")\n",
    "plt.hist(t2t_rand_rand_sim_avg_bootstrap, bins=20, density=True, alpha=0.35, label=\"Random-Random\", color=\"orange\")\n",
    "\n",
    "plt.hist(t2t_ira_poli_sim_avg_bootstrap, bins=20, density=True, alpha=0.35, label=\"Russian IRA-Political\", color=\"green\")\n",
    "\n",
    "plt.hist(t2t_ira_rand_sim_avg_bootstrap, bins=20, density=True, alpha=0.35, label=\"Russian IRA-Random\", color=\"red\")\n",
    "\n",
    "plt.hist(t2t_ira_ira_sim_avg_bootstrap, bins=20, density=True, alpha=0.35, label=\"Russian IRA-Russian IRA\", color=\"gray\")\n",
    "\n",
    "# plt.title(\"Within-Twitter Similarity\")\n",
    "\n",
    "plt.xlabel(\"Distance\")\n",
    "plt.ylabel(\"Frequency\")\n",
    "\n",
    "plt.legend()\n",
    "plt.grid()\n",
    "\n",
    "plt.savefig(\"across_group_youtube_twitter.pdf\", format=\"pdf\")\n",
    "plt.show()"
   ]
  },
  {
   "cell_type": "code",
   "execution_count": null,
   "metadata": {},
   "outputs": [],
   "source": []
  },
  {
   "cell_type": "code",
   "execution_count": 32,
   "metadata": {},
   "outputs": [
    {
     "name": "stdout",
     "output_type": "stream",
     "text": [
      "Rand->Poli Overlap: 50\n",
      "Rand->IRA Overlap: 4\n",
      "Poli->IRA Overlap: 17\n"
     ]
    },
    {
     "data": {
      "image/png": "[encoded data removed]",
      "text/plain": [
       "<Figure size 432x288 with 1 Axes>"
      ]
     },
     "metadata": {},
     "output_type": "display_data"
    },
    {
     "data": {
      "image/png": "[encoded data removed]",
      "text/plain": [
       "<Figure size 432x288 with 1 Axes>"
      ]
     },
     "metadata": {},
     "output_type": "display_data"
    }
   ],
   "source": [
    "reddit_overlap_rand_poli = top_yt_chans_map_reddit[\"random\"].intersection(top_yt_chans_map_reddit[\"political\"])\n",
    "reddit_overlap_rand_ira = top_yt_chans_map_reddit[\"random\"].intersection(top_yt_chans_map_reddit[\"ira\"])\n",
    "reddit_overlap_poli_ira = top_yt_chans_map_reddit[\"political\"].intersection(top_yt_chans_map_reddit[\"ira\"])\n",
    "\n",
    "print(\"Rand->Poli Overlap:\", len(reddit_overlap_rand_poli))\n",
    "print(\"Rand->IRA Overlap:\", len(reddit_overlap_rand_ira))\n",
    "print(\"Poli->IRA Overlap:\", len(reddit_overlap_poli_ira))\n",
    "\n",
    "reddit_user_links_mat_rand = channels_to_norm_matrix(reddit_yt_df_rand, top_yt_chans_map_twitter[\"random\"], \"user_name\")\n",
    "reddit_user_links_mat_poli = channels_to_norm_matrix(reddit_yt_df_poli, top_yt_chans_map_twitter[\"political\"], \"user_name\")\n",
    "reddit_user_links_mat_ira = channels_to_norm_matrix(reddit_yt_df_ira, top_yt_chans_map_twitter[\"ira\"], \"user_name\")\n",
    "\n",
    "# Calculate pairwise similarity among users across populations\n",
    "r2r_rand_rand_sim = similarity_function(reddit_user_links_mat_rand, reddit_user_links_mat_rand)\n",
    "r2r_poli_poli_sim = similarity_function(reddit_user_links_mat_poli, reddit_user_links_mat_poli)\n",
    "r2r_ira_ira_sim = similarity_function(reddit_user_links_mat_ira, reddit_user_links_mat_ira)\n",
    "\n",
    "r2r_ira_rand_sim = similarity_function(\n",
    "    channels_to_norm_matrix(reddit_yt_df_ira, reddit_overlap_rand_ira, \"user_name\"), \n",
    "    channels_to_norm_matrix(reddit_yt_df_rand, reddit_overlap_rand_ira, \"user_name\"))\n",
    "r2r_ira_poli_sim = similarity_function(\n",
    "    channels_to_norm_matrix(reddit_yt_df_ira, reddit_overlap_poli_ira, \"user_name\"), \n",
    "    channels_to_norm_matrix(reddit_yt_df_poli, reddit_overlap_poli_ira, \"user_name\"))\n",
    "r2r_rand_poli_sim = similarity_function(\n",
    "    channels_to_norm_matrix(reddit_yt_df_rand, reddit_overlap_rand_poli, \"user_name\"), \n",
    "    channels_to_norm_matrix(reddit_yt_df_poli, reddit_overlap_rand_poli, \"user_name\"))\n",
    "\n",
    "# # Collapse similarities down to get the mean similarity for each user on the left to all users on the right\n",
    "# #. note the minus 1 and reduction of shape by 1 for the within-platform groups, which I do to remove the \n",
    "# #. self-similarity effect\n",
    "# r2r_rand_rand_sim_avg = (np.sum(r2r_rand_rand_sim, axis=1) - 1) / (reddit_user_links_mat_rand.shape[0] - 1)\n",
    "# r2r_poli_poli_sim_avg = (np.sum(r2r_poli_poli_sim, axis=1) - 1) / (reddit_user_links_mat_poli.shape[0] - 1)\n",
    "# r2r_ira_ira_sim_avg = (np.sum(r2r_ira_ira_sim, axis=1) - 1) / (reddit_user_links_mat_ira.shape[0] - 1)\n",
    "# r2r_ira_rand_sim_avg = np.mean(r2r_ira_rand_sim, axis=1)\n",
    "# r2r_ira_poli_sim_avg = np.mean(r2r_ira_poli_sim, axis=1)\n",
    "# r2r_ira_ira_sim_avg = np.mean(r2r_ira_ira_sim, axis=1)\n",
    "# r2r_rand_poli_sim_avg = np.mean(r2r_rand_poli_sim, axis=1)\n",
    "\n",
    "r2r_rand_rand_sim_flat = r2r_rand_rand_sim.flatten()\n",
    "r2r_poli_poli_sim_flat = r2r_poli_poli_sim.flatten()\n",
    "r2r_ira_ira_sim_flat = r2r_ira_ira_sim.flatten()\n",
    "r2r_ira_rand_sim_flat = r2r_ira_rand_sim.flatten()\n",
    "r2r_ira_poli_sim_flat = r2r_ira_poli_sim.flatten()\n",
    "\n",
    "# Show similarity distribution within populations in this platform\n",
    "r2r_rand_rand_sim_avg_bootstrap = [\n",
    "    sklearn.utils.resample(\n",
    "        r2r_rand_rand_sim_flat, replace=True, n_samples=sample_count\n",
    "    ).mean() \n",
    "    for i in range(bootstrap_count)\n",
    "]\n",
    "r2r_poli_poli_sim_avg_bootstrap = [\n",
    "    sklearn.utils.resample(\n",
    "        r2r_poli_poli_sim_flat, replace=True, n_samples=sample_count\n",
    "    ).mean() \n",
    "    for i in range(bootstrap_count)\n",
    "]\n",
    "r2r_ira_ira_sim_avg_bootstrap = [\n",
    "    sklearn.utils.resample(\n",
    "        r2r_ira_ira_sim_flat, replace=True, n_samples=sample_count\n",
    "    ).mean() \n",
    "    for i in range(bootstrap_count)\n",
    "]\n",
    "\n",
    "plt.hist(r2r_rand_rand_sim_avg_bootstrap, bins=20, density=True, alpha=0.35, label=\"rand-rand\")\n",
    "plt.hist(r2r_poli_poli_sim_avg_bootstrap, bins=20, density=True, alpha=0.35, label=\"poli-poli\")\n",
    "plt.hist(r2r_ira_ira_sim_avg_bootstrap, bins=20, density=True, alpha=0.35, label=\"ira-ira\")\n",
    "\n",
    "plt.title(\"Within-Population Similarity\")\n",
    "plt.legend()\n",
    "plt.show()\n",
    "\n",
    "# Show similarity distribution across populations in this platform\n",
    "r2r_ira_rand_sim_avg_bootstrap = [\n",
    "    sklearn.utils.resample(\n",
    "        r2r_ira_rand_sim_flat, replace=True, n_samples=sample_count\n",
    "    ).mean() \n",
    "    for i in range(bootstrap_count)\n",
    "]\n",
    "r2r_ira_poli_sim_avg_bootstrap = [\n",
    "    sklearn.utils.resample(\n",
    "        r2r_ira_poli_sim_flat, replace=True, n_samples=sample_count\n",
    "    ).mean() \n",
    "    for i in range(bootstrap_count)\n",
    "]\n",
    "\n",
    "plt.hist(r2r_ira_rand_sim_avg_bootstrap, bins=20, density=True, alpha=0.35, label=\"ira-rand\")\n",
    "plt.hist(r2r_ira_poli_sim_avg_bootstrap, bins=20, density=True, alpha=0.35, label=\"ira-poli\")\n",
    "plt.hist(r2r_ira_ira_sim_avg_bootstrap, bins=20, density=True, alpha=0.35, label=\"ira-ira\")\n",
    "\n",
    "plt.title(\"Across-Population Similarity\")\n",
    "plt.legend()\n",
    "plt.show()"
   ]
  },
  {
   "cell_type": "code",
   "execution_count": null,
   "metadata": {},
   "outputs": [],
   "source": []
  },
  {
   "cell_type": "code",
   "execution_count": 33,
   "metadata": {},
   "outputs": [
    {
     "name": "stdout",
     "output_type": "stream",
     "text": [
      "Random-Random: 0.9991410762652951 8.409295154574954e-07\n",
      "Russian IRA-Random: 0.9996700132363677 3.010832564737079e-07\n",
      "Russian IRA-Political: 0.9976250807707929 1.4145626996782685e-06\n"
     ]
    }
   ],
   "source": [
    "print(\"Random-Random:\", np.array(r2r_rand_rand_sim_avg_bootstrap).mean(), np.array(r2r_rand_rand_sim_avg_bootstrap).var())\n",
    "print(\"Russian IRA-Random:\", np.array(r2r_ira_rand_sim_avg_bootstrap).mean(), np.array(r2r_ira_rand_sim_avg_bootstrap).var())\n",
    "print(\"Russian IRA-Political:\", np.array(r2r_ira_poli_sim_avg_bootstrap).mean(), np.array(r2r_ira_poli_sim_avg_bootstrap).var())\n"
   ]
  },
  {
   "cell_type": "code",
   "execution_count": null,
   "metadata": {},
   "outputs": [],
   "source": []
  },
  {
   "cell_type": "code",
   "execution_count": 34,
   "metadata": {},
   "outputs": [
    {
     "data": {
      "image/png": "[encoded data removed]",
      "text/plain": [
       "<Figure size 432x288 with 1 Axes>"
      ]
     },
     "metadata": {},
     "output_type": "display_data"
    }
   ],
   "source": [
    "plt.hist(r2r_poli_poli_sim_avg_bootstrap, bins=20, density=True, alpha=0.35, label=\"Political-Political\", color=\"blue\")\n",
    "plt.hist(r2r_rand_rand_sim_avg_bootstrap, bins=20, density=True, alpha=0.35, label=\"Random-Random\", color=\"orange\")\n",
    "\n",
    "plt.hist(r2r_ira_poli_sim_avg_bootstrap, bins=20, density=True, alpha=0.35, label=\"Russian IRA-Political\", color=\"green\")\n",
    "\n",
    "plt.hist(r2r_ira_rand_sim_avg_bootstrap, bins=20, density=True, alpha=0.35, label=\"Russian IRA-Random\", color=\"red\")\n",
    "\n",
    "plt.hist(r2r_ira_ira_sim_avg_bootstrap, bins=20, density=True, alpha=0.35, label=\"Russian IRA-Russian IRA\", color=\"gray\")\n",
    "\n",
    "# plt.title(\"Within-Reddit Similarity\")\n",
    "\n",
    "plt.xlabel(\"Distance\")\n",
    "plt.ylabel(\"Frequency\")\n",
    "\n",
    "plt.legend()\n",
    "plt.grid()\n",
    "\n",
    "plt.savefig(\"across_group_youtube_reddit.pdf\", format=\"pdf\")\n",
    "plt.show()"
   ]
  },
  {
   "cell_type": "code",
   "execution_count": 35,
   "metadata": {},
   "outputs": [
    {
     "name": "stdout",
     "output_type": "stream",
     "text": [
      "p-value for ANOVA: 0.0 6608.85388427057\n",
      "p-value for Welch's t-Test between IRA-Rand and IRA-Poli: 0.0 110.38414619526606\n"
     ]
    }
   ],
   "source": [
    "# Test whether the within-group similarities across the three populations are equal\n",
    "f_stat, p_val = scipy.stats.f_oneway(\n",
    "    r2r_rand_rand_sim_avg_bootstrap, \n",
    "    r2r_ira_rand_sim_avg_bootstrap, \n",
    "    r2r_ira_poli_sim_avg_bootstrap)\n",
    "print(\"p-value for ANOVA:\", p_val, f_stat)\n",
    "\n",
    "t_stat, p_val = scipy.stats.ttest_ind(\n",
    "    r2r_ira_rand_sim_avg_bootstrap, \n",
    "    r2r_ira_poli_sim_avg_bootstrap, \n",
    "    axis=0, equal_var=False)\n",
    "print(\"p-value for Welch's t-Test between IRA-Rand and IRA-Poli:\", p_val, t_stat)"
   ]
  },
  {
   "cell_type": "code",
   "execution_count": null,
   "metadata": {},
   "outputs": [],
   "source": []
  },
  {
   "cell_type": "code",
   "execution_count": 36,
   "metadata": {},
   "outputs": [
    {
     "name": "stdout",
     "output_type": "stream",
     "text": [
      "Random Overlap: 58\n",
      "Political Overlap: 123\n",
      "IRA Overlap: 8\n"
     ]
    },
    {
     "data": {
      "image/png": "[encoded data removed]",
      "text/plain": [
       "<Figure size 432x288 with 1 Axes>"
      ]
     },
     "metadata": {},
     "output_type": "display_data"
    }
   ],
   "source": [
    "r2t_overlap_rand = top_yt_chans_map_reddit[\"random\"].intersection(top_yt_chans_map_twitter[\"random\"])\n",
    "r2t_overlap_poli = top_yt_chans_map_reddit[\"political\"].intersection(top_yt_chans_map_twitter[\"political\"])\n",
    "r2t_overlap_ira = top_yt_chans_map_reddit[\"ira\"].intersection(top_yt_chans_map_twitter[\"ira\"])\n",
    "\n",
    "print(\"Random Overlap:\", len(r2t_overlap_rand))\n",
    "print(\"Political Overlap:\", len(r2t_overlap_poli))\n",
    "print(\"IRA Overlap:\", len(r2t_overlap_ira))\n",
    "\n",
    "# Calculate pairwise similarity among users across platforms\n",
    "r2t_rand_sim = similarity_function(\n",
    "    channels_to_norm_matrix(reddit_yt_df_rand, r2t_overlap_rand, \"user_name\"), \n",
    "    channels_to_norm_matrix(twitter_yt_df_rand, r2t_overlap_rand, \"user_id\"))\n",
    "r2t_poli_sim = similarity_function(\n",
    "    channels_to_norm_matrix(reddit_yt_df_poli, r2t_overlap_poli, \"user_name\"), \n",
    "    channels_to_norm_matrix(twitter_yt_df_poli, r2t_overlap_poli, \"user_id\"))\n",
    "r2t_ira_sim = similarity_function(\n",
    "    channels_to_norm_matrix(reddit_yt_df_ira, r2t_overlap_ira, \"user_name\"), \n",
    "    channels_to_norm_matrix(twitter_yt_df_ira, r2t_overlap_ira, \"user_id\"))\n",
    "\n",
    "r2t_rand_sim_flat = r2t_rand_sim.flatten()\n",
    "r2t_poli_sim_flat = r2t_poli_sim.flatten()\n",
    "r2t_ira_sim_flat = r2t_ira_sim.flatten()\n",
    "\n",
    "# Show similarity distribution within populations in this platform\n",
    "r2t_rand_sim_avg_bootstrap = [\n",
    "    sklearn.utils.resample(\n",
    "        r2t_rand_sim_flat, replace=True, n_samples=sample_count\n",
    "    ).mean() \n",
    "    for i in range(bootstrap_count)\n",
    "]\n",
    "r2t_poli_sim_avg_bootstrap = [\n",
    "    sklearn.utils.resample(\n",
    "        r2t_poli_sim_flat, replace=True, n_samples=sample_count\n",
    "    ).mean() \n",
    "    for i in range(bootstrap_count)\n",
    "]\n",
    "r2t_ira_sim_avg_bootstrap = [\n",
    "    sklearn.utils.resample(\n",
    "        r2t_ira_sim_flat, replace=True, n_samples=sample_count\n",
    "    ).mean() \n",
    "    for i in range(bootstrap_count)\n",
    "]\n",
    "\n",
    "plt.hist(r2t_rand_sim_avg_bootstrap, bins=20, density=True, alpha=0.35, label=\"Random R2T\")\n",
    "plt.hist(r2t_poli_sim_avg_bootstrap, bins=20, density=True, alpha=0.35, label=\"Political R2T\")\n",
    "plt.hist(r2t_ira_sim_avg_bootstrap, bins=20, density=True, alpha=0.35, label=\"IRA R2T\")\n",
    "\n",
    "plt.title(\"Within-Population, Across-Platform Similarity\")\n",
    "plt.legend()\n",
    "plt.show()\n"
   ]
  },
  {
   "cell_type": "code",
   "execution_count": 37,
   "metadata": {},
   "outputs": [
    {
     "name": "stdout",
     "output_type": "stream",
     "text": [
      "Random-R2T: 0.9996142176203419 2.941040629252523e-07\n",
      "Political-R2T: 0.9980834013225096 1.172686907031181e-06\n",
      "Russian IRA-R2T: 0.9931984430747758 4.8743236498374765e-06\n"
     ]
    }
   ],
   "source": [
    "print(\"Random-R2T:\", np.array(r2t_rand_sim_avg_bootstrap).mean(), np.array(r2t_rand_sim_avg_bootstrap).var())\n",
    "print(\"Political-R2T:\", np.array(r2t_poli_sim_avg_bootstrap).mean(), np.array(r2t_poli_sim_avg_bootstrap).var())\n",
    "print(\"Russian IRA-R2T:\", np.array(r2t_ira_sim_avg_bootstrap).mean(), np.array(r2t_ira_sim_avg_bootstrap).var())\n"
   ]
  },
  {
   "cell_type": "code",
   "execution_count": null,
   "metadata": {},
   "outputs": [],
   "source": []
  },
  {
   "cell_type": "code",
   "execution_count": 38,
   "metadata": {},
   "outputs": [
    {
     "name": "stdout",
     "output_type": "stream",
     "text": [
      "Russian IRA-R2T: 0.9931984430747758 4.8743236498374765e-06\n",
      "Russian IRA-RRandom: 0.9996700132363677 3.010832564737079e-07\n",
      "Russian IRA-RPoli: 0.9976250807707929 1.4145626996782685e-06\n"
     ]
    }
   ],
   "source": [
    "print(\"Russian IRA-R2T:\", np.array(r2t_ira_sim_avg_bootstrap).mean(), np.array(r2t_ira_sim_avg_bootstrap).var())\n",
    "print(\"Russian IRA-RRandom:\", np.array(r2r_ira_rand_sim_avg_bootstrap).mean(), np.array(r2r_ira_rand_sim_avg_bootstrap).var())\n",
    "print(\"Russian IRA-RPoli:\", np.array(r2r_ira_poli_sim_avg_bootstrap).mean(), np.array(r2r_ira_poli_sim_avg_bootstrap).var())\n"
   ]
  },
  {
   "cell_type": "code",
   "execution_count": null,
   "metadata": {},
   "outputs": [],
   "source": []
  },
  {
   "cell_type": "code",
   "execution_count": 39,
   "metadata": {},
   "outputs": [
    {
     "data": {
      "image/png": "[encoded data removed]",
      "text/plain": [
       "<Figure size 432x288 with 1 Axes>"
      ]
     },
     "metadata": {},
     "output_type": "display_data"
    }
   ],
   "source": [
    "plt.hist(r2t_ira_sim_avg_bootstrap, bins=20, density=True, alpha=0.35, label=\"Russian IRA-Russian IRA (R2T)\")\n",
    "plt.hist(r2r_ira_rand_sim_avg_bootstrap, bins=20, density=True, alpha=0.35, label=\"Russian IRA-Random (R2R)\", color=\"red\")\n",
    "plt.hist(r2r_ira_poli_sim_avg_bootstrap, bins=20, density=True, alpha=0.35, label=\"Russian IRA-Political (R2R)\", color=\"green\")\n",
    "\n",
    "# plt.title(\"Reddit-to-Twitter Similarity\")\n",
    "\n",
    "plt.xlabel(\"Distance\")\n",
    "plt.ylabel(\"Frequency\")\n",
    "\n",
    "plt.legend()\n",
    "plt.grid()\n",
    "\n",
    "plt.savefig(\"across_platform_youtube_reddit.pdf\", format=\"pdf\")\n",
    "plt.show()"
   ]
  },
  {
   "cell_type": "code",
   "execution_count": 40,
   "metadata": {},
   "outputs": [
    {
     "name": "stdout",
     "output_type": "stream",
     "text": [
      "p-value for ANOVA: 0.0 24903.36175420989\n",
      "p-value for Welch's t-Test between Twitter-Reddit and IRA-Rand: 0.0 -201.1309856120389\n",
      "p-value for Welch's t-Test between Twitter-Reddit and IRA-Poli: 0.0 -124.80404839208221\n"
     ]
    }
   ],
   "source": [
    "# Test whether the within-group similarities across the three populations are equal\n",
    "f_stat, p_val = scipy.stats.f_oneway(\n",
    "    r2t_ira_sim_avg_bootstrap, \n",
    "    r2r_ira_rand_sim_avg_bootstrap, \n",
    "    r2r_ira_poli_sim_avg_bootstrap)\n",
    "print(\"p-value for ANOVA:\", p_val, f_stat)\n",
    "\n",
    "t_stat, p_val = scipy.stats.ttest_ind(\n",
    "    r2t_ira_sim_avg_bootstrap, \n",
    "    r2r_ira_rand_sim_avg_bootstrap, \n",
    "    axis=0, equal_var=False)\n",
    "print(\"p-value for Welch's t-Test between Twitter-Reddit and IRA-Rand:\", p_val, t_stat)\n",
    "\n",
    "t_stat, p_val = scipy.stats.ttest_ind(\n",
    "    r2t_ira_sim_avg_bootstrap,\n",
    "    r2r_ira_poli_sim_avg_bootstrap, \n",
    "    axis=0, equal_var=False)\n",
    "print(\"p-value for Welch's t-Test between Twitter-Reddit and IRA-Poli:\", p_val, t_stat)"
   ]
  },
  {
   "cell_type": "code",
   "execution_count": null,
   "metadata": {},
   "outputs": [],
   "source": []
  },
  {
   "cell_type": "code",
   "execution_count": null,
   "metadata": {},
   "outputs": [],
   "source": []
  },
  {
   "cell_type": "code",
   "execution_count": 41,
   "metadata": {},
   "outputs": [
    {
     "data": {
      "image/png": "[encoded data removed]",
      "text/plain": [
       "<Figure size 432x288 with 1 Axes>"
      ]
     },
     "metadata": {},
     "output_type": "display_data"
    }
   ],
   "source": [
    "t2r_rand_sim = similarity_function(\n",
    "    channels_to_norm_matrix(twitter_yt_df_rand, r2t_overlap_rand, \"user_id\"), \n",
    "    channels_to_norm_matrix(reddit_yt_df_rand, r2t_overlap_rand, \"user_name\"))\n",
    "t2r_poli_sim = similarity_function(\n",
    "    channels_to_norm_matrix(twitter_yt_df_poli, r2t_overlap_poli, \"user_id\"), \n",
    "    channels_to_norm_matrix(reddit_yt_df_poli, r2t_overlap_poli, \"user_name\"))\n",
    "t2r_ira_sim = similarity_function(\n",
    "    channels_to_norm_matrix(twitter_yt_df_ira, r2t_overlap_ira, \"user_id\"), \n",
    "    channels_to_norm_matrix(reddit_yt_df_ira, r2t_overlap_ira, \"user_name\"))\n",
    "\n",
    "t2r_rand_sim_flat = t2r_rand_sim.flatten()\n",
    "t2r_poli_sim_flat = t2r_poli_sim.flatten()\n",
    "t2r_ira_sim_flat = t2r_ira_sim.flatten()\n",
    "\n",
    "# Show similarity distribution within populations in this platform\n",
    "t2r_rand_sim_avg_bootstrap = [\n",
    "    sklearn.utils.resample(\n",
    "        t2r_rand_sim_flat, replace=True, n_samples=sample_count\n",
    "    ).mean() \n",
    "    for i in range(bootstrap_count)\n",
    "]\n",
    "t2r_poli_sim_avg_bootstrap = [\n",
    "    sklearn.utils.resample(\n",
    "        t2r_poli_sim_flat, replace=True, n_samples=sample_count\n",
    "    ).mean() \n",
    "    for i in range(bootstrap_count)\n",
    "]\n",
    "t2r_ira_sim_avg_bootstrap = [\n",
    "    sklearn.utils.resample(\n",
    "        t2r_ira_sim_flat, replace=True, n_samples=sample_count\n",
    "    ).mean() \n",
    "    for i in range(bootstrap_count)\n",
    "]\n",
    "\n",
    "plt.hist(t2r_rand_sim_avg_bootstrap, bins=20, density=True, alpha=0.35, label=\"Random R2T\")\n",
    "plt.hist(t2r_poli_sim_avg_bootstrap, bins=20, density=True, alpha=0.35, label=\"Political R2T\")\n",
    "plt.hist(t2r_ira_sim_avg_bootstrap, bins=20, density=True, alpha=0.35, label=\"IRA R2T\")\n",
    "\n",
    "plt.title(\"Within-Population, Across-Platform Similarity\")\n",
    "plt.legend()\n",
    "plt.show()\n"
   ]
  },
  {
   "cell_type": "code",
   "execution_count": null,
   "metadata": {},
   "outputs": [],
   "source": []
  },
  {
   "cell_type": "code",
   "execution_count": 42,
   "metadata": {},
   "outputs": [
    {
     "name": "stdout",
     "output_type": "stream",
     "text": [
      "Russian IRA-T2R: 0.9931948193951575 4.890449081256114e-06\n",
      "Russian IRA-TRandom: 0.9969092314384134 1.660818441765527e-06\n",
      "Russian IRA-TPoli: 0.9958363482936399 2.3940342780070714e-06\n"
     ]
    }
   ],
   "source": [
    "print(\"Russian IRA-T2R:\", np.array(t2r_ira_sim_avg_bootstrap).mean(), np.array(t2r_ira_sim_avg_bootstrap).var())\n",
    "print(\"Russian IRA-TRandom:\", np.array(t2t_ira_rand_sim_avg_bootstrap).mean(), np.array(t2t_ira_rand_sim_avg_bootstrap).var())\n",
    "print(\"Russian IRA-TPoli:\", np.array(t2t_ira_poli_sim_avg_bootstrap).mean(), np.array(t2t_ira_poli_sim_avg_bootstrap).var())\n",
    "\n"
   ]
  },
  {
   "cell_type": "code",
   "execution_count": null,
   "metadata": {},
   "outputs": [],
   "source": []
  },
  {
   "cell_type": "code",
   "execution_count": 43,
   "metadata": {},
   "outputs": [
    {
     "data": {
      "image/png": "[encoded data removed]",
      "text/plain": [
       "<Figure size 432x288 with 1 Axes>"
      ]
     },
     "metadata": {},
     "output_type": "display_data"
    }
   ],
   "source": [
    "plt.hist(t2r_ira_sim_avg_bootstrap, bins=20, density=True, alpha=0.35, label=\"Russian IRA-Russian IRA (T2R)\")\n",
    "plt.hist(t2t_ira_rand_sim_avg_bootstrap, bins=20, density=True, alpha=0.35, label=\"Russian IRA-Random (T2T)\", color=\"red\")\n",
    "plt.hist(t2t_ira_poli_sim_avg_bootstrap, bins=20, density=True, alpha=0.35, label=\"Russian IRA-Political (T2T)\", color=\"green\")\n",
    "\n",
    "# plt.title(\"Twitter-to-Reddit Similarity\")\n",
    "\n",
    "plt.xlabel(\"Distance\")\n",
    "plt.ylabel(\"Frequency\")\n",
    "\n",
    "plt.legend()\n",
    "plt.grid()\n",
    "\n",
    "plt.savefig(\"across_platform_youtube_twitter.pdf\", format=\"pdf\")\n",
    "plt.show()"
   ]
  },
  {
   "cell_type": "code",
   "execution_count": null,
   "metadata": {},
   "outputs": [],
   "source": []
  },
  {
   "cell_type": "code",
   "execution_count": 44,
   "metadata": {},
   "outputs": [
    {
     "name": "stdout",
     "output_type": "stream",
     "text": [
      "p-value for ANOVA: 0.0 6126.46318607736\n",
      "p-value for Welch's t-Test between Twitter-Reddit and IRA-Rand: 0.0 -102.60510756111407\n",
      "p-value for Welch's t-Test between Twitter-Reddit and IRA-Poli: 0.0 -69.19863964319461\n"
     ]
    }
   ],
   "source": [
    "# Test whether the within-group similarities across the three populations are equal\n",
    "f_stat, p_val = scipy.stats.f_oneway(\n",
    "    t2r_ira_sim_avg_bootstrap, \n",
    "    t2t_ira_rand_sim_avg_bootstrap, \n",
    "    t2t_ira_poli_sim_avg_bootstrap)\n",
    "print(\"p-value for ANOVA:\", p_val, f_stat)\n",
    "\n",
    "t_stat, p_val = scipy.stats.ttest_ind(\n",
    "    t2r_ira_sim_avg_bootstrap, \n",
    "    t2t_ira_rand_sim_avg_bootstrap, \n",
    "    axis=0, equal_var=False)\n",
    "print(\"p-value for Welch's t-Test between Twitter-Reddit and IRA-Rand:\", p_val, t_stat)\n",
    "\n",
    "t_stat, p_val = scipy.stats.ttest_ind(\n",
    "    t2r_ira_sim_avg_bootstrap,\n",
    "    t2t_ira_poli_sim_avg_bootstrap, \n",
    "    axis=0, equal_var=False)\n",
    "print(\"p-value for Welch's t-Test between Twitter-Reddit and IRA-Poli:\", p_val, t_stat)"
   ]
  },
  {
   "cell_type": "code",
   "execution_count": null,
   "metadata": {},
   "outputs": [],
   "source": []
  },
  {
   "cell_type": "code",
   "execution_count": 45,
   "metadata": {},
   "outputs": [],
   "source": [
    "## Full Cross-Comparison\n",
    "\n",
    "### Other comparisons\n",
    "t2t_rand_poli_sim_flat = t2t_rand_poli_sim.flatten()\n",
    "r2r_rand_poli_sim_flat = r2r_rand_poli_sim.flatten()\n",
    "\n",
    "t2t_rand_poli_sim_avg_bootstrap = [\n",
    "    sklearn.utils.resample(\n",
    "        t2t_rand_poli_sim_flat, replace=True, n_samples=sample_count\n",
    "    ).mean() \n",
    "    for i in range(bootstrap_count)\n",
    "]\n",
    "r2r_rand_poli_sim_avg_bootstrap = [\n",
    "    sklearn.utils.resample(\n",
    "        r2r_rand_poli_sim_flat, replace=True, n_samples=sample_count\n",
    "    ).mean() \n",
    "    for i in range(bootstrap_count)\n",
    "]\n"
   ]
  },
  {
   "cell_type": "code",
   "execution_count": 46,
   "metadata": {},
   "outputs": [
    {
     "name": "stdout",
     "output_type": "stream",
     "text": [
      "\t Random \t\t Political \t\t IRA \t\t Other\n",
      "\t mu sigma^2 mu sigma^2 mu sigma^2 mu sigma^2\n",
      "Reddit\n",
      "Random: 0.9991410762652951 8.409295154574954e-07 0.9995659110045552 3.518603593376193e-07 0.9996700132363677 3.010832564737079e-07 0.9996142176203419 2.941040629252523e-07\n",
      "Political: 0.9995659110045552 3.518603593376193e-07 0.9975927671819552 1.623331104833671e-06 0.9976250807707929 1.4145626996782685e-06 0.9980834013225096 1.172686907031181e-06\n",
      "IRA: 0.9996700132363677 3.010832564737079e-07 0.9976250807707929 1.4145626996782685e-06 0.9634414420278287 3.453934958068436e-05 0.9931984430747758 4.8743236498374765e-06\n",
      "Twitter\n",
      "Random: 0.9982915725702227 1.223718487605474e-06 0.9978641504181259 1.4342349719478147e-06 0.9969092314384134 1.660818441765527e-06 0.9996176902022109 3.0343093949484764e-07\n",
      "Political: 0.9978641504181259 1.4342349719478147e-06 0.9961275474635087 2.4485301021964787e-06 0.9958363482936399 2.3940342780070714e-06 0.9980927223739658 1.1487615754615567e-06\n",
      "IRA: 0.9969092314384134 1.660818441765527e-06 0.9958363482936399 2.3940342780070714e-06 0.9325525859663106 2.066743721524354e-05 0.9931948193951575 4.890449081256114e-06\n"
     ]
    }
   ],
   "source": [
    "print(\"\\t\", \"Random\", \"\\t\\t\", \"Political\", \"\\t\\t\", \"IRA\", \"\\t\\t\", \"Other\")\n",
    "print(\"\\t\", \"mu\", \"sigma^2\", \"mu\", \"sigma^2\", \"mu\", \"sigma^2\", \"mu\", \"sigma^2\")\n",
    "\n",
    "print(\"Reddit\")\n",
    "print(\"Random:\", \n",
    "    np.array(r2r_rand_rand_sim_avg_bootstrap).mean(), \n",
    "    np.array(r2r_rand_rand_sim_avg_bootstrap).var(),\n",
    "    np.array(r2r_rand_poli_sim_avg_bootstrap).mean(), \n",
    "    np.array(r2r_rand_poli_sim_avg_bootstrap).var(),\n",
    "    np.array(r2r_ira_rand_sim_avg_bootstrap).mean(), \n",
    "    np.array(r2r_ira_rand_sim_avg_bootstrap).var(),\n",
    "    np.array(r2t_rand_sim_avg_bootstrap).mean(), \n",
    "    np.array(r2t_rand_sim_avg_bootstrap).var(),\n",
    ")\n",
    "\n",
    "print(\"Political:\", \n",
    "    np.array(r2r_rand_poli_sim_avg_bootstrap).mean(), \n",
    "    np.array(r2r_rand_poli_sim_avg_bootstrap).var(),\n",
    "    np.array(r2r_poli_poli_sim_avg_bootstrap).mean(), \n",
    "    np.array(r2r_poli_poli_sim_avg_bootstrap).var(),\n",
    "    np.array(r2r_ira_poli_sim_avg_bootstrap).mean(), \n",
    "    np.array(r2r_ira_poli_sim_avg_bootstrap).var(),\n",
    "    np.array(r2t_poli_sim_avg_bootstrap).mean(), \n",
    "    np.array(r2t_poli_sim_avg_bootstrap).var(),\n",
    ")\n",
    "\n",
    "print(\"IRA:\", \n",
    "    np.array(r2r_ira_rand_sim_avg_bootstrap).mean(), \n",
    "    np.array(r2r_ira_rand_sim_avg_bootstrap).var(),\n",
    "    np.array(r2r_ira_poli_sim_avg_bootstrap).mean(), \n",
    "    np.array(r2r_ira_poli_sim_avg_bootstrap).var(),\n",
    "    np.array(r2r_ira_ira_sim_avg_bootstrap).mean(), \n",
    "    np.array(r2r_ira_ira_sim_avg_bootstrap).var(),\n",
    "    np.array(r2t_ira_sim_avg_bootstrap).mean(), \n",
    "    np.array(r2t_ira_sim_avg_bootstrap).var(),\n",
    ")\n",
    "\n",
    "print(\"Twitter\")\n",
    "print(\"Random:\", \n",
    "    np.array(t2t_rand_rand_sim_avg_bootstrap).mean(), \n",
    "    np.array(t2t_rand_rand_sim_avg_bootstrap).var(),\n",
    "    np.array(t2t_rand_poli_sim_avg_bootstrap).mean(), \n",
    "    np.array(t2t_rand_poli_sim_avg_bootstrap).var(),\n",
    "    np.array(t2t_ira_rand_sim_avg_bootstrap).mean(), \n",
    "    np.array(t2t_ira_rand_sim_avg_bootstrap).var(),\n",
    "    np.array(t2r_rand_sim_avg_bootstrap).mean(), \n",
    "    np.array(t2r_rand_sim_avg_bootstrap).var(),\n",
    ")\n",
    "\n",
    "print(\"Political:\", \n",
    "    np.array(t2t_rand_poli_sim_avg_bootstrap).mean(), \n",
    "    np.array(t2t_rand_poli_sim_avg_bootstrap).var(),\n",
    "    np.array(t2t_poli_poli_sim_avg_bootstrap).mean(), \n",
    "    np.array(t2t_poli_poli_sim_avg_bootstrap).var(),\n",
    "    np.array(t2t_ira_poli_sim_avg_bootstrap).mean(), \n",
    "    np.array(t2t_ira_poli_sim_avg_bootstrap).var(),\n",
    "    np.array(t2r_poli_sim_avg_bootstrap).mean(), \n",
    "    np.array(t2r_poli_sim_avg_bootstrap).var(),\n",
    ")\n",
    "\n",
    "print(\"IRA:\", \n",
    "    np.array(t2t_ira_rand_sim_avg_bootstrap).mean(), \n",
    "    np.array(t2t_ira_rand_sim_avg_bootstrap).var(),\n",
    "    np.array(t2t_ira_poli_sim_avg_bootstrap).mean(), \n",
    "    np.array(t2t_ira_poli_sim_avg_bootstrap).var(),\n",
    "    np.array(t2t_ira_ira_sim_avg_bootstrap).mean(), \n",
    "    np.array(t2t_ira_ira_sim_avg_bootstrap).var(),\n",
    "    np.array(t2r_ira_sim_avg_bootstrap).mean(), \n",
    "    np.array(t2r_ira_sim_avg_bootstrap).var(),\n",
    ")\n",
    "\n"
   ]
  },
  {
   "cell_type": "code",
   "execution_count": null,
   "metadata": {},
   "outputs": [],
   "source": []
  },
  {
   "cell_type": "code",
   "execution_count": null,
   "metadata": {},
   "outputs": [],
   "source": [
    "plt.hist(r2r_rand_rand_sim_avg_bootstrap, bins=20, density=True, alpha=0.35, label=\"Random-Random\")\n",
    "plt.hist(r2r_ira_rand_sim_avg_bootstrap, bins=20, density=True, alpha=0.35, label=\"Russian IRA-Random\")\n",
    "plt.hist(r2r_ira_poli_sim_avg_bootstrap, bins=20, density=True, alpha=0.35, label=\"Russian IRA-Political\")\n",
    "\n",
    "plt.title(\"Within-Reddit Similarity\")\n",
    "plt.legend()\n",
    "plt.grid()\n",
    "plt.show()"
   ]
  },
  {
   "cell_type": "code",
   "execution_count": null,
   "metadata": {},
   "outputs": [],
   "source": [
    "# Test whether the within-group similarities across the three populations are equal\n",
    "f_stat, p_val = scipy.stats.f_oneway(\n",
    "    r2r_rand_rand_sim_avg_bootstrap, \n",
    "    r2r_ira_rand_sim_avg_bootstrap, \n",
    "    r2r_ira_poli_sim_avg_bootstrap)\n",
    "print(\"p-value for ANOVA:\", p_val, f_stat)\n",
    "\n",
    "t_stat, p_val = scipy.stats.ttest_ind(\n",
    "    r2r_ira_rand_sim_avg_bootstrap, \n",
    "    r2r_ira_poli_sim_avg_bootstrap, \n",
    "    axis=0, equal_var=False)\n",
    "print(\"p-value for Welch's t-Test :\", p_val, t_stat)"
   ]
  },
  {
   "cell_type": "code",
   "execution_count": null,
   "metadata": {},
   "outputs": [],
   "source": []
  },
  {
   "cell_type": "code",
   "execution_count": null,
   "metadata": {},
   "outputs": [],
   "source": [
    "plt.hist(t2t_rand_rand_sim_avg_bootstrap, bins=20, density=True, alpha=0.35, label=\"Random-Random\")\n",
    "plt.hist(t2t_ira_rand_sim_avg_bootstrap, bins=20, density=True, alpha=0.35, label=\"Russian IRA-Random\")\n",
    "plt.hist(t2t_ira_poli_sim_avg_bootstrap, bins=20, density=True, alpha=0.35, label=\"Russian IRA-Political\")\n",
    "\n",
    "plt.title(\"Within-Twitter Similarity\")\n",
    "plt.legend()\n",
    "plt.grid()\n",
    "plt.show()"
   ]
  },
  {
   "cell_type": "code",
   "execution_count": null,
   "metadata": {},
   "outputs": [],
   "source": [
    "# Test whether the within-group similarities across the three populations are equal\n",
    "f_stat, p_val = scipy.stats.f_oneway(\n",
    "    t2t_rand_rand_sim_avg_bootstrap, \n",
    "    t2t_ira_rand_sim_avg_bootstrap, \n",
    "    t2t_ira_poli_sim_avg_bootstrap)\n",
    "print(\"p-value for ANOVA:\", p_val, f_stat)\n",
    "\n",
    "t_stat, p_val = scipy.stats.ttest_ind(\n",
    "    t2t_ira_rand_sim_avg_bootstrap, \n",
    "    t2t_ira_poli_sim_avg_bootstrap, \n",
    "    axis=0, equal_var=False)\n",
    "print(\"p-value for Welch's t-Test :\", p_val, t_stat)"
   ]
  },
  {
   "cell_type": "code",
   "execution_count": null,
   "metadata": {},
   "outputs": [],
   "source": []
  },
  {
   "cell_type": "code",
   "execution_count": null,
   "metadata": {},
   "outputs": [],
   "source": [
    "plt.hist(r2t_ira_sim_avg_bootstrap, bins=20, density=True, alpha=0.35, label=\"Russian IRA-Russian IRA (R2T)\")\n",
    "plt.hist(r2r_ira_rand_sim_avg_bootstrap, bins=20, density=True, alpha=0.35, label=\"Russian IRA-Random (R2R)\", color=\"red\")\n",
    "plt.hist(r2r_ira_poli_sim_avg_bootstrap, bins=20, density=True, alpha=0.35, label=\"Russian IRA-Political (R2R)\", color=\"green\")\n",
    "\n",
    "# plt.title(\"Reddit-to-Twitter Similarity\")\n",
    "\n",
    "plt.xlabel(\"Distance\")\n",
    "plt.ylabel(\"Frequency\")\n",
    "\n",
    "plt.legend()\n",
    "plt.grid()\n",
    "\n",
    "plt.savefig(\"across_platform_youtube_reddit.pdf\", format=\"pdf\")\n",
    "plt.show()"
   ]
  },
  {
   "cell_type": "code",
   "execution_count": null,
   "metadata": {},
   "outputs": [],
   "source": [
    "# Test whether the within-group similarities across the three populations are equal\n",
    "f_stat, p_val = scipy.stats.f_oneway(\n",
    "    r2t_ira_sim_avg_bootstrap, \n",
    "    r2r_ira_rand_sim_avg_bootstrap, \n",
    "    r2r_ira_poli_sim_avg_bootstrap)\n",
    "print(\"p-value for ANOVA:\", p_val, f_stat)\n",
    "\n",
    "t_stat, p_val = scipy.stats.ttest_ind(\n",
    "    r2t_ira_sim_avg_bootstrap, \n",
    "    r2r_ira_rand_sim_avg_bootstrap, \n",
    "    axis=0, equal_var=False)\n",
    "print(\"p-value for Welch's t-Test :\", p_val, t_stat)\n",
    "\n",
    "t_stat, p_val = scipy.stats.ttest_ind(\n",
    "    r2t_ira_sim_avg_bootstrap,\n",
    "    r2r_ira_poli_sim_avg_bootstrap, \n",
    "    axis=0, equal_var=False)\n",
    "print(\"p-value for Welch's t-Test :\", p_val, t_stat)"
   ]
  },
  {
   "cell_type": "code",
   "execution_count": null,
   "metadata": {},
   "outputs": [],
   "source": []
  },
  {
   "cell_type": "code",
   "execution_count": null,
   "metadata": {},
   "outputs": [],
   "source": [
    "plt.hist(t2r_ira_sim_avg_bootstrap, bins=20, density=True, alpha=0.35, label=\"Russian IRA-Russian IRA (T2R)\")\n",
    "plt.hist(t2t_ira_rand_sim_avg_bootstrap, bins=20, density=True, alpha=0.35, label=\"Russian IRA-Random (T2T)\", color=\"red\")\n",
    "plt.hist(t2t_ira_poli_sim_avg_bootstrap, bins=20, density=True, alpha=0.35, label=\"Russian IRA-Political (T2T)\", color=\"green\")\n",
    "\n",
    "# plt.title(\"Twitter-to-Reddit Similarity\")\n",
    "\n",
    "plt.xlabel(\"Distance\")\n",
    "plt.ylabel(\"Frequency\")\n",
    "\n",
    "plt.legend()\n",
    "plt.grid()\n",
    "\n",
    "plt.savefig(\"across_platform_youtube_twitter.pdf\", format=\"pdf\")\n",
    "plt.show()"
   ]
  },
  {
   "cell_type": "code",
   "execution_count": null,
   "metadata": {},
   "outputs": [],
   "source": [
    "# Test whether the within-group similarities across the three populations are equal\n",
    "f_stat, p_val = scipy.stats.f_oneway(\n",
    "    t2r_ira_sim_avg_bootstrap, \n",
    "    t2t_ira_rand_sim_avg_bootstrap, \n",
    "    t2t_ira_poli_sim_avg_bootstrap)\n",
    "print(\"p-value for ANOVA:\", p_val, f_stat)\n",
    "\n",
    "t_stat, p_val = scipy.stats.ttest_ind(\n",
    "    t2r_ira_sim_avg_bootstrap, \n",
    "    t2t_ira_rand_sim_avg_bootstrap, \n",
    "    axis=0, equal_var=False)\n",
    "print(\"p-value for Welch's t-Test :\", p_val, t_stat)\n",
    "\n",
    "t_stat, p_val = scipy.stats.ttest_ind(\n",
    "    t2r_ira_sim_avg_bootstrap,\n",
    "    t2t_ira_poli_sim_avg_bootstrap, \n",
    "    axis=0, equal_var=False)\n",
    "print(\"p-value for Welch's t-Test :\", p_val, t_stat)"
   ]
  },
  {
   "cell_type": "code",
   "execution_count": null,
   "metadata": {
    "scrolled": true
   },
   "outputs": [],
   "source": [
    "channel_map_reddit = {row[\"channel_id\"]:row[\"channel_title\"] for _, row in reddit_yt_meta_df.iterrows()}\n",
    "channel_map_twitter = {row[\"channel_id\"]:row[\"channel_title\"] for _, row in twitter_yt_meta_df.iterrows()}\n",
    "\n",
    "print(len(top_yt_chans_map_reddit[\"ira\"]), len(top_yt_chans_map_twitter[\"ira\"]))\n",
    "print(\"*\"*100, \"\\nReddit:\")\n",
    "for x in sorted(top_yt_chans_map_reddit[\"ira\"]):\n",
    "    print(x, channel_map_reddit[x])\n",
    "    \n",
    "print(\"*\"*100, \"\\nTwitter:\")\n",
    "for x in sorted(top_yt_chans_map_twitter[\"ira\"]):\n",
    "    print(x, channel_map_twitter[x])"
   ]
  },
  {
   "cell_type": "code",
   "execution_count": null,
   "metadata": {},
   "outputs": [],
   "source": []
  },
  {
   "cell_type": "markdown",
   "metadata": {},
   "source": [
    "## Compare Identically Named Users"
   ]
  },
  {
   "cell_type": "code",
   "execution_count": null,
   "metadata": {},
   "outputs": [],
   "source": [
    "reddit_troll_names = pd.read_csv(\"../data/reddit_troll_accounts_20190206.csv\")\n",
    "twitter_troll_names = pd.read_csv(\"../data/twitter_russian_troll_accounts.csv\")"
   ]
  },
  {
   "cell_type": "code",
   "execution_count": null,
   "metadata": {},
   "outputs": [],
   "source": [
    "cross_platform_users = set(twitter_troll_names[\"handle\"].apply(str.lower))\\\n",
    "    .intersection(set(reddit_troll_names[\"username\"].apply(str.lower)))\n",
    "\n",
    "print(\"User count with the same ID:\", len(cross_platform_users))\n",
    "for u in cross_platform_users:\n",
    "    print(u)"
   ]
  },
  {
   "cell_type": "code",
   "execution_count": null,
   "metadata": {},
   "outputs": [],
   "source": [
    "deanon_df = pd.read_csv(\"../data/deanon_v2.csv\")"
   ]
  },
  {
   "cell_type": "code",
   "execution_count": null,
   "metadata": {},
   "outputs": [],
   "source": [
    "deanon_map = {row[\"screen_name\"].lower():row[\"userid\"] for _, row in deanon_df.iterrows()}"
   ]
  },
  {
   "cell_type": "code",
   "execution_count": null,
   "metadata": {},
   "outputs": [],
   "source": [
    "for u in cross_platform_users:\n",
    "    print(u, deanon_map.get(u))\n",
    "    "
   ]
  },
  {
   "cell_type": "code",
   "execution_count": null,
   "metadata": {},
   "outputs": [],
   "source": []
  },
  {
   "cell_type": "code",
   "execution_count": null,
   "metadata": {},
   "outputs": [],
   "source": [
    "for u in cross_platform_users:\n",
    "    hashed_u = deanon_map.get(u)\n",
    "    print(u, deanon_map.get(u))\n",
    "    \n",
    "    if ( hashed_u is None ):\n",
    "        continue\n",
    "    \n",
    "    local_reddit_df = reddit_yt_df_ira[reddit_yt_df_ira[\"user_name\"] == u]\n",
    "    local_twitter_df = twitter_yt_df_ira[twitter_yt_df_ira[\"user_id\"] == hashed_u]\n",
    "\n",
    "    local_reddit_tld = set(local_reddit_df[\"channel_id\"].value_counts().index)\n",
    "    local_twitter_tld = set(local_twitter_df[\"channel_id\"].value_counts().index)\n",
    "\n",
    "    common_tlds = set(local_twitter_tld).intersection(local_reddit_tld)\n",
    "    print(\"\\t\", \"Twitter Chans:\", len(local_twitter_tld), \"Reddit Chans:\", len(local_reddit_tld))\n",
    "    print(\"\\t\", \"Chans in Common:\", len(common_tlds))\n",
    "\n",
    "    if ( len(common_tlds) == 0 ):\n",
    "        continue\n",
    "        \n",
    "    local_sim = similarity_function(\n",
    "        links_to_norm_matrix(local_reddit_df, common_tlds, \"user_name\"), \n",
    "        links_to_norm_matrix(local_twitter_df, common_tlds, \"user_id\"))\n",
    "    print(\"\\t\", \"Local Similarity:\", local_sim)"
   ]
  },
  {
   "cell_type": "code",
   "execution_count": null,
   "metadata": {},
   "outputs": [],
   "source": [
    "for u in cross_platform_users:\n",
    "    hashed_u = deanon_map.get(u)\n",
    "    \n",
    "    if ( hashed_u is None ):\n",
    "        continue\n",
    "    \n",
    "    local_reddit_df = reddit_yt_df_ira[reddit_yt_df_ira[\"user_name\"] == u]\n",
    "    local_twitter_df = twitter_yt_df_ira[twitter_yt_df_ira[\"user_id\"] == hashed_u]\n",
    "\n",
    "    local_reddit_tld = set(local_reddit_df[\"channel_id\"].value_counts().index)\n",
    "    local_twitter_tld = set(local_twitter_df[\"channel_id\"].value_counts().index)\n",
    "\n",
    "    common_tlds = set(local_twitter_tld).intersection(local_reddit_tld)\n",
    "\n",
    "    sim = 0.0\n",
    "    if ( len(common_tlds) > 0 ):\n",
    "        local_sim = sklearn.metrics.pairwise.cosine_similarity(\n",
    "            links_to_norm_matrix(local_reddit_df, common_tlds, \"user_name\"), \n",
    "            links_to_norm_matrix(local_twitter_df, common_tlds, \"user_id\"))\n",
    "        sim = local_sim[0]\n",
    "        \n",
    "    print(\"%s & %d & %d & %d & %f \\\\\\\\\" % (u, len(local_reddit_tld), len(local_twitter_tld), len(common_tlds), sim))\n",
    "    "
   ]
  },
  {
   "cell_type": "code",
   "execution_count": null,
   "metadata": {},
   "outputs": [],
   "source": []
  }
 ],
 "metadata": {
  "kernelspec": {
   "display_name": "Python 3",
   "language": "python",
   "name": "python3"
  },
  "language_info": {
   "codemirror_mode": {
    "name": "ipython",
    "version": 3
   },
   "file_extension": ".py",
   "mimetype": "text/x-python",
   "name": "python",
   "nbconvert_exporter": "python",
   "pygments_lexer": "ipython3",
   "version": "3.6.5"
  }
 },
 "nbformat": 4,
 "nbformat_minor": 2
}
