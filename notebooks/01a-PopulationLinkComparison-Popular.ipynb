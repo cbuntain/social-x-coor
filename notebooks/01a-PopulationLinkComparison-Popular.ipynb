{
 "cells": [
  {
   "cell_type": "markdown",
   "metadata": {},
   "source": [
    "# Compare Twitter and Reddit Populations\n",
    "\n",
    "## Analyis of Popularly Shared Domains\n",
    "\n",
    "This script evaluates how similar subsets of Twitter and Reddit populations are within platform and across platform.\n",
    "The populations we test are:\n",
    "- Random US Twitter users active in 2015-2018\n",
    "    - Must have tweeted >= 100 times in this time frame\n",
    "- Politically engaged US Twitter users active in 2015-2018\n",
    "    - Must have tweeted >= 100 times in this time frame\n",
    "    - Must follow at least 5 politicians\n",
    "- IRA Twitter accounts identified by Twitter\n",
    "- Random Reddit accounts  active in 2015-2018\n",
    "    - Must have posted/commented >= 100 times in this time frame\n",
    "- Politically engaged Redditors  active in 2015-2018\n",
    "    - Must have posted/commented >= 100 times in subreddits /r/politics identifies as US-political in this time frame\n",
    "- IRA Reddit accounts identified by Reddit"
   ]
  },
  {
   "cell_type": "code",
   "execution_count": 1,
   "metadata": {},
   "outputs": [],
   "source": [
    "%matplotlib inline"
   ]
  },
  {
   "cell_type": "code",
   "execution_count": 2,
   "metadata": {},
   "outputs": [],
   "source": [
    "import json\n",
    "import time\n",
    "import string\n",
    "import datetime\n",
    "import matplotlib\n",
    "\n",
    "import scipy.stats\n",
    "\n",
    "import numpy as np\n",
    "import pandas as pd\n",
    "import statsmodels.api as sm\n",
    "\n",
    "import matplotlib.pyplot as plt"
   ]
  },
  {
   "cell_type": "code",
   "execution_count": 3,
   "metadata": {},
   "outputs": [],
   "source": [
    "import sklearn.preprocessing\n",
    "import sklearn.metrics"
   ]
  },
  {
   "cell_type": "code",
   "execution_count": 4,
   "metadata": {},
   "outputs": [],
   "source": [
    "from utils.youtube import strip_video_id_from_url"
   ]
  },
  {
   "cell_type": "code",
   "execution_count": null,
   "metadata": {},
   "outputs": [],
   "source": []
  },
  {
   "cell_type": "code",
   "execution_count": 5,
   "metadata": {},
   "outputs": [],
   "source": [
    "def convert_date(date):\n",
    "    return datetime.datetime.strptime(date, \"%a %b %d %H:%M:%S +0000 %Y\")\n",
    "\n",
    "def convert_time(timestamp):\n",
    "    created_time = timestamp\n",
    "    if ( isinstance(created_time, str) ):\n",
    "        created_time = float(created_time)\n",
    "        \n",
    "    d = datetime.datetime.utcfromtimestamp(created_time)\n",
    "    return d\n",
    "\n",
    "def get_top_tlds(links_df, user_id_field, top_n=100):\n",
    "    tld_user_counts = {}\n",
    "    for tld, group in links_df.groupby(\"tld\"):\n",
    "        local_users = set(group[user_id_field])\n",
    "        tld_user_counts[tld] = len(local_users)\n",
    "\n",
    "    return sorted(tld_user_counts, key=tld_user_counts.get, reverse=True)[:top_n]\n",
    "\n",
    "def links_df_to_shares(links_df, domains, user_id_field):\n",
    "    user_shares = []\n",
    "\n",
    "    for user,user_posts in links_df.groupby(user_id_field):\n",
    "        local_tld_counts = dict(user_posts[\"tld\"].value_counts().items())\n",
    "        local_vector = [local_tld_counts.get(x, 0) for x in domains]\n",
    "        user_shares.append([user] + local_vector)\n",
    "\n",
    "    return pd.DataFrame(user_shares, columns=[user_id_field] + domains)\n",
    "\n",
    "def links_to_norm_matrix(links_df, domains, user_id_field):\n",
    "    if ( type(domains) == set ):\n",
    "        domains = list(domains)\n",
    "        \n",
    "    shares_df = links_df_to_shares(links_df, domains, user_id_field)\n",
    "    return sklearn.preprocessing.normalize(shares_df[domains], norm=\"l2\", axis=1)\n",
    "\n",
    "def get_top_channels(yt_df, user_id_field, top_n=100):\n",
    "    channel_user_counts = {}\n",
    "    for channel, group in yt_df.groupby(\"channel_id\"):\n",
    "        local_users = set(group[user_id_field])\n",
    "        channel_user_counts[channel] = len(local_users)\n",
    "\n",
    "    return sorted(channel_user_counts, key=channel_user_counts.get, reverse=True)[:top_n]\n",
    "\n",
    "def channels_df_to_shares(links_df, channels, user_id_field):\n",
    "    user_shares = []\n",
    "\n",
    "    for user,user_posts in links_df.groupby(user_id_field):\n",
    "        local_chan_counts = dict(user_posts[\"channel_id\"].value_counts().items())\n",
    "        local_vector = [local_chan_counts.get(x, 0) for x in channels]\n",
    "        user_shares.append([user] + local_vector)\n",
    "\n",
    "    return pd.DataFrame(user_shares, columns=[user_id_field] + channels)\n",
    "\n",
    "def channels_to_norm_matrix(links_df, channels, user_id_field):\n",
    "    if ( type(channels) == set ):\n",
    "        channels = list(channels)\n",
    "        \n",
    "    shares_df = channels_df_to_shares(links_df, channels, user_id_field)\n",
    "    return sklearn.preprocessing.normalize(shares_df[channels], norm=\"l2\", axis=1)\n"
   ]
  },
  {
   "cell_type": "code",
   "execution_count": null,
   "metadata": {},
   "outputs": [],
   "source": []
  },
  {
   "cell_type": "code",
   "execution_count": 6,
   "metadata": {},
   "outputs": [],
   "source": [
    "# similarity_function = sklearn.metrics.pairwise.cosine_similarity\n",
    "similarity_function = sklearn.metrics.pairwise.cosine_distances\n",
    "# similarity_function = sklearn.metrics.pairwise.euclidean_distances"
   ]
  },
  {
   "cell_type": "code",
   "execution_count": null,
   "metadata": {},
   "outputs": [],
   "source": []
  },
  {
   "cell_type": "code",
   "execution_count": 7,
   "metadata": {},
   "outputs": [],
   "source": [
    "top_n_domains = 150\n",
    "top_n_channels = 250\n",
    "\n",
    "sample_count = 1000\n",
    "bootstrap_count = 5000"
   ]
  },
  {
   "cell_type": "code",
   "execution_count": null,
   "metadata": {},
   "outputs": [],
   "source": []
  },
  {
   "cell_type": "code",
   "execution_count": 8,
   "metadata": {},
   "outputs": [],
   "source": [
    "short_domain_map = {\n",
    "    \"abcn.ws\": \"abcnews.go.com\",\n",
    "    \"amzn.to\": \"amazon.com\",\n",
    "    \"apne.ws\": \"apnews.com\",\n",
    "    \"apple.co\": \"apple.com\",\n",
    "    \"bbc.in\": \"bbc.com\",\n",
    "    \"ble.ac\": \"bleacherreport.com\",\n",
    "    \"bloom.bg\": \"bloomberg.com\",\n",
    "    \"bzfd.it\": \"buzzfeed.com\",\n",
    "    \"cbsloc.al\": \"cbslocal.com\",\n",
    "    \"cnb.cx\": \"cnbc.com\",\n",
    "    \"cnn.it\": \"cnn.com\",\n",
    "    \"cnn.it\": \"cnn.com\",\n",
    "    \"dailym.ai\" : \"dailymail.co.uk\",\n",
    "    \"econ.st\": \"economist.com\",\n",
    "    \"es.pn\": \"espn.com\",\n",
    "    \"fxn.ws\": \"foxnews.com\",\n",
    "    \"hill.cm\": \"thehill.com\",\n",
    "    \"huff.to\" : \"huffingtonpost.com\",\n",
    "    \"lat.ms\": \"latimes.com\",\n",
    "    \"lnkd.in\": \"linkedin.com\",\n",
    "    \"n.pr\": \"npr.org\",\n",
    "    \"nbcnews.to\": \"nbcnews.com\",\n",
    "    \"nydn.us\": \"nydailynews.com\",\n",
    "    \"nyp.st\": \"nypost.com\",\n",
    "    \"nyti.ms\": \"nytimes.com\",\n",
    "    \"on.rt.com\": \"rt.com\",\n",
    "    \"on.wsj.com\": \"wsj.com\",\n",
    "    \"politi.co\": \"politico.com\",\n",
    "    \"redd.it\": \"reddit.com\",\n",
    "    \"reut.rs\": \"reuters.com\",\n",
    "    \"thebea.st\": \"thedailybeast.com\",\n",
    "    \"ti.me\": \"time.com\",\n",
    "    \"tmblr.co\": \"tumblr.com\",\n",
    "    \"usat.ly\": \"usatoday.com\",\n",
    "    \"wapo.st\": \"washingtonpost.com\",\n",
    "    \"wp.me\": \"wordpress.com\",\n",
    "    \"wpo.st\": \"washingtonpost.com\",\n",
    "    \"yhoo.it\": \"yahoo.com\",\n",
    "    \"youtu.be\": \"youtube.com\",\n",
    "}"
   ]
  },
  {
   "cell_type": "code",
   "execution_count": null,
   "metadata": {},
   "outputs": [],
   "source": []
  },
  {
   "cell_type": "code",
   "execution_count": 9,
   "metadata": {},
   "outputs": [],
   "source": [
    "twitter_links_df_rand = pd.read_csv(\"twitter_random_us_sample_links.csv\",\n",
    "    converters={\"created_at\": convert_date})\n",
    "twitter_links_df_poli = pd.read_csv(\"twitter_political_us_sample_links.csv\",\n",
    "    converters={\"created_at\": convert_date})\n",
    "twitter_links_df_ira = pd.read_csv(\n",
    "    \"twitter_ira_links.csv\",\n",
    "    converters={\"created_at\": lambda x: datetime.datetime.strptime(x, \"%Y-%m-%d %H:%M:%S\")}\n",
    ")"
   ]
  },
  {
   "cell_type": "code",
   "execution_count": 10,
   "metadata": {},
   "outputs": [],
   "source": [
    "twitter_links_df_rand[\"tld\"] = twitter_links_df_rand[\"tld\"].apply(lambda x: short_domain_map.get(x, x))\n",
    "twitter_links_df_poli[\"tld\"] = twitter_links_df_poli[\"tld\"].apply(lambda x: short_domain_map.get(x, x))\n",
    "twitter_links_df_ira[\"tld\"] = twitter_links_df_ira[\"tld\"].apply(lambda x: short_domain_map.get(x, x))"
   ]
  },
  {
   "cell_type": "code",
   "execution_count": null,
   "metadata": {},
   "outputs": [],
   "source": []
  },
  {
   "cell_type": "code",
   "execution_count": 11,
   "metadata": {},
   "outputs": [
    {
     "name": "stdout",
     "output_type": "stream",
     "text": [
      "random : 150\n",
      "political : 150\n",
      "ira : 150\n"
     ]
    }
   ],
   "source": [
    "twitter_top_tlds_rand = get_top_tlds(twitter_links_df_rand, user_id_field=\"user_id\", top_n=top_n_domains)\n",
    "twitter_top_tlds_poli = get_top_tlds(twitter_links_df_poli, user_id_field=\"user_id\", top_n=top_n_domains)\n",
    "twitter_top_tlds_ira = get_top_tlds(twitter_links_df_ira, user_id_field=\"user_id\", top_n=top_n_domains)\n",
    "\n",
    "top_tld_map_twitter = {\n",
    "    \"random\": set(twitter_top_tlds_rand),\n",
    "    \"political\": set(twitter_top_tlds_poli),\n",
    "    \"ira\": set(twitter_top_tlds_ira),\n",
    "}\n",
    "\n",
    "for population, tlds in top_tld_map_twitter.items():\n",
    "    print(population, \":\", len(tlds))\n"
   ]
  },
  {
   "cell_type": "code",
   "execution_count": null,
   "metadata": {},
   "outputs": [],
   "source": []
  },
  {
   "cell_type": "code",
   "execution_count": 12,
   "metadata": {},
   "outputs": [],
   "source": [
    "reddit_links_df_rand = pd.read_csv(\"reddit_random_links.csv\",\n",
    "    converters={\"created_at\": convert_time})\n",
    "reddit_links_df_poli = pd.read_csv(\"reddit_political_links.csv\",\n",
    "    converters={\"created_at\": convert_time})\n",
    "reddit_links_df_ira = pd.read_csv(\"reddit_troll_links.csv\",\n",
    "    converters={\"created_at\": convert_time}\n",
    ")"
   ]
  },
  {
   "cell_type": "code",
   "execution_count": 13,
   "metadata": {},
   "outputs": [],
   "source": [
    "reddit_links_df_rand[\"tld\"] = reddit_links_df_rand[\"tld\"].apply(lambda x: short_domain_map.get(x, x))\n",
    "reddit_links_df_poli[\"tld\"] = reddit_links_df_poli[\"tld\"].apply(lambda x: short_domain_map.get(x, x))\n",
    "reddit_links_df_ira[\"tld\"] = reddit_links_df_ira[\"tld\"].apply(lambda x: short_domain_map.get(x, x))"
   ]
  },
  {
   "cell_type": "code",
   "execution_count": null,
   "metadata": {},
   "outputs": [],
   "source": []
  },
  {
   "cell_type": "code",
   "execution_count": 14,
   "metadata": {},
   "outputs": [
    {
     "name": "stdout",
     "output_type": "stream",
     "text": [
      "random : 150\n",
      "political : 150\n",
      "ira : 150\n"
     ]
    }
   ],
   "source": [
    "reddit_top_tlds_rand = get_top_tlds(reddit_links_df_rand, user_id_field=\"user_name\", top_n=top_n_domains)\n",
    "reddit_top_tlds_poli = get_top_tlds(reddit_links_df_poli, user_id_field=\"user_name\", top_n=top_n_domains)\n",
    "reddit_top_tlds_ira = get_top_tlds(reddit_links_df_ira, user_id_field=\"user_name\", top_n=top_n_domains)\n",
    "\n",
    "top_tld_map_reddit = {\n",
    "    \"random\": set(reddit_top_tlds_rand),\n",
    "    \"political\": set(reddit_top_tlds_poli),\n",
    "    \"ira\": set(reddit_top_tlds_ira),\n",
    "}\n",
    "\n",
    "for population, tlds in top_tld_map_reddit.items():\n",
    "    print(population, \":\", len(tlds))\n"
   ]
  },
  {
   "cell_type": "code",
   "execution_count": null,
   "metadata": {},
   "outputs": [],
   "source": []
  },
  {
   "cell_type": "code",
   "execution_count": 15,
   "metadata": {},
   "outputs": [
    {
     "data": {
      "image/png": "[encoded data removed]",
      "text/plain": [
       "<Figure size 432x288 with 1 Axes>"
      ]
     },
     "metadata": {},
     "output_type": "display_data"
    },
    {
     "data": {
      "image/png": "[encoded data removed]",
      "text/plain": [
       "<Figure size 432x288 with 1 Axes>"
      ]
     },
     "metadata": {},
     "output_type": "display_data"
    }
   ],
   "source": [
    "twitter_overlap_rand_poli = top_tld_map_twitter[\"random\"].intersection(top_tld_map_twitter[\"political\"])\n",
    "twitter_overlap_rand_ira = top_tld_map_twitter[\"random\"].intersection(top_tld_map_twitter[\"ira\"])\n",
    "twitter_overlap_poli_ira = top_tld_map_twitter[\"political\"].intersection(top_tld_map_twitter[\"ira\"])\n",
    "\n",
    "twitter_user_links_mat_rand = links_to_norm_matrix(twitter_links_df_rand, top_tld_map_twitter[\"random\"], \"user_id\")\n",
    "twitter_user_links_mat_poli = links_to_norm_matrix(twitter_links_df_poli, top_tld_map_twitter[\"political\"], \"user_id\")\n",
    "twitter_user_links_mat_ira = links_to_norm_matrix(twitter_links_df_ira, top_tld_map_twitter[\"ira\"], \"user_id\")\n",
    "\n",
    "# Calculate pairwise similarity among users across populations\n",
    "t2t_rand_rand_sim = similarity_function(twitter_user_links_mat_rand, twitter_user_links_mat_rand)\n",
    "t2t_poli_poli_sim = similarity_function(twitter_user_links_mat_poli, twitter_user_links_mat_poli)\n",
    "t2t_ira_ira_sim = similarity_function(twitter_user_links_mat_ira, twitter_user_links_mat_ira)\n",
    "\n",
    "t2t_ira_rand_sim = similarity_function(\n",
    "    links_to_norm_matrix(twitter_links_df_ira, twitter_overlap_rand_ira, \"user_id\"), \n",
    "    links_to_norm_matrix(twitter_links_df_rand, twitter_overlap_rand_ira, \"user_id\"))\n",
    "t2t_ira_poli_sim = similarity_function(\n",
    "    links_to_norm_matrix(twitter_links_df_ira, twitter_overlap_poli_ira, \"user_id\"), \n",
    "    links_to_norm_matrix(twitter_links_df_poli, twitter_overlap_poli_ira, \"user_id\"))\n",
    "t2t_rand_poli_sim = similarity_function(\n",
    "    links_to_norm_matrix(twitter_links_df_rand, twitter_overlap_rand_poli, \"user_id\"), \n",
    "    links_to_norm_matrix(twitter_links_df_poli, twitter_overlap_rand_poli, \"user_id\"))\n",
    "\n",
    "# # Collapse similarities down to get the mean similarity for each user on the left to all users on the right\n",
    "# #. note the minus 1 and reduction of shape by 1 for the within-platform groups, which I do to remove the \n",
    "# #. self-similarity effect\n",
    "# t2t_rand_rand_sim_avg = (np.sum(t2t_rand_rand_sim, axis=1) - 1) / (twitter_user_links_mat_rand.shape[0] - 1)\n",
    "# t2t_poli_poli_sim_avg = (np.sum(t2t_poli_poli_sim, axis=1) - 1) / (twitter_user_links_mat_poli.shape[0] - 1)\n",
    "# t2t_ira_ira_sim_avg = (np.sum(t2t_ira_ira_sim, axis=1) - 1) / (twitter_user_links_mat_ira.shape[0] - 1)\n",
    "# t2t_ira_rand_sim_avg = np.mean(t2t_ira_rand_sim, axis=1)\n",
    "# t2t_ira_poli_sim_avg = np.mean(t2t_ira_poli_sim, axis=1)\n",
    "# t2t_ira_ira_sim_avg = np.mean(t2t_ira_ira_sim, axis=1)\n",
    "# t2t_rand_poli_sim_avg = np.mean(t2t_rand_poli_sim, axis=1)\n",
    "\n",
    "t2t_rand_rand_sim_flat = t2t_rand_rand_sim.flatten()\n",
    "t2t_poli_poli_sim_flat = t2t_poli_poli_sim.flatten()\n",
    "t2t_ira_ira_sim_flat = t2t_ira_ira_sim.flatten()\n",
    "t2t_ira_rand_sim_flat = t2t_ira_rand_sim.flatten()\n",
    "t2t_ira_poli_sim_flat = t2t_ira_poli_sim.flatten()\n",
    "\n",
    "# Show similarity distribution within populations in this platform\n",
    "t2t_rand_rand_sim_avg_bootstrap = [\n",
    "    sklearn.utils.resample(\n",
    "        t2t_rand_rand_sim_flat, replace=True, n_samples=sample_count\n",
    "    ).mean() \n",
    "    for i in range(bootstrap_count)\n",
    "]\n",
    "t2t_poli_poli_sim_avg_bootstrap = [\n",
    "    sklearn.utils.resample(\n",
    "        t2t_poli_poli_sim_flat, replace=True, n_samples=sample_count\n",
    "    ).mean() \n",
    "    for i in range(bootstrap_count)\n",
    "]\n",
    "t2t_ira_ira_sim_avg_bootstrap = [\n",
    "    sklearn.utils.resample(\n",
    "        t2t_ira_ira_sim_flat, replace=True, n_samples=sample_count\n",
    "    ).mean() \n",
    "    for i in range(bootstrap_count)\n",
    "]\n",
    "\n",
    "plt.hist(t2t_rand_rand_sim_avg_bootstrap, bins=20, density=True, alpha=0.35, label=\"rand-rand\")\n",
    "plt.hist(t2t_poli_poli_sim_avg_bootstrap, bins=20, density=True, alpha=0.35, label=\"poli-poli\")\n",
    "plt.hist(t2t_ira_ira_sim_avg_bootstrap, bins=20, density=True, alpha=0.35, label=\"ira-ira\")\n",
    "\n",
    "plt.title(\"Within-Population Similarity\")\n",
    "plt.legend()\n",
    "plt.show()\n",
    "\n",
    "# Show similarity distribution across populations in this platform\n",
    "t2t_ira_rand_sim_avg_bootstrap = [\n",
    "    sklearn.utils.resample(\n",
    "        t2t_ira_rand_sim_flat, replace=True, n_samples=sample_count\n",
    "    ).mean() \n",
    "    for i in range(bootstrap_count)\n",
    "]\n",
    "t2t_ira_poli_sim_avg_bootstrap = [\n",
    "    sklearn.utils.resample(\n",
    "        t2t_ira_poli_sim_flat, replace=True, n_samples=sample_count\n",
    "    ).mean() \n",
    "    for i in range(bootstrap_count)\n",
    "]\n",
    "\n",
    "plt.hist(t2t_ira_rand_sim_avg_bootstrap, bins=20, density=True, alpha=0.35, label=\"ira-rand\")\n",
    "plt.hist(t2t_ira_poli_sim_avg_bootstrap, bins=20, density=True, alpha=0.35, label=\"ira-poli\")\n",
    "plt.hist(t2t_ira_ira_sim_avg_bootstrap, bins=20, density=True, alpha=0.35, label=\"ira-ira\")\n",
    "\n",
    "plt.title(\"Across-Population Similarity\")\n",
    "plt.legend()\n",
    "plt.show()"
   ]
  },
  {
   "cell_type": "code",
   "execution_count": 16,
   "metadata": {},
   "outputs": [
    {
     "name": "stdout",
     "output_type": "stream",
     "text": [
      "Random: 0.48028544597662415 0.00014405864198441568\n",
      "Political: 0.4347018452779716 0.00013038281096271363\n",
      "Russian IRA: 0.7818987918632312 0.0001057969513001203\n"
     ]
    }
   ],
   "source": [
    "print(\"Random:\", np.array(t2t_rand_rand_sim_avg_bootstrap).mean(), np.array(t2t_rand_rand_sim_avg_bootstrap).var())\n",
    "print(\"Political:\", np.array(t2t_poli_poli_sim_avg_bootstrap).mean(), np.array(t2t_poli_poli_sim_avg_bootstrap).var())\n",
    "print(\"Russian IRA:\", np.array(t2t_ira_ira_sim_avg_bootstrap).mean(), np.array(t2t_ira_ira_sim_avg_bootstrap).var())\n"
   ]
  },
  {
   "cell_type": "code",
   "execution_count": null,
   "metadata": {},
   "outputs": [],
   "source": []
  },
  {
   "cell_type": "code",
   "execution_count": 17,
   "metadata": {},
   "outputs": [
    {
     "data": {
      "image/png": "[encoded data removed]",
      "text/plain": [
       "<Figure size 432x288 with 1 Axes>"
      ]
     },
     "metadata": {},
     "output_type": "display_data"
    }
   ],
   "source": [
    "plt.hist(t2t_rand_rand_sim_avg_bootstrap, bins=20, density=True, alpha=0.35, label=\"Random\")\n",
    "plt.hist(t2t_poli_poli_sim_avg_bootstrap, bins=20, density=True, alpha=0.35, label=\"Political\")\n",
    "plt.hist(t2t_ira_ira_sim_avg_bootstrap, bins=20, density=True, alpha=0.35, label=\"Russian IRA\")\n",
    "\n",
    "plt.title(\"Twitter, Within-Group Similarity\")\n",
    "plt.legend()\n",
    "plt.grid()\n",
    "plt.show()"
   ]
  },
  {
   "cell_type": "code",
   "execution_count": 18,
   "metadata": {},
   "outputs": [
    {
     "name": "stdout",
     "output_type": "stream",
     "text": [
      "p-value for ANOVA: 0.0 1404063.0402096307\n",
      "p-value for Welch's t-Test between Rand and IRA: 0.0 -1349.1106938846788\n",
      "p-value for Welch's t-Test between Poli and IRA: 0.0 -1597.3354308571504\n"
     ]
    }
   ],
   "source": [
    "# Test whether the within-group similarities across the three populations are equal\n",
    "f_stat, p_val = scipy.stats.f_oneway(\n",
    "    t2t_rand_rand_sim_avg_bootstrap, \n",
    "    t2t_poli_poli_sim_avg_bootstrap, \n",
    "    t2t_ira_ira_sim_avg_bootstrap)\n",
    "print(\"p-value for ANOVA:\", p_val, f_stat)\n",
    "\n",
    "t_stat, p_val = scipy.stats.ttest_ind(\n",
    "    t2t_rand_rand_sim_avg_bootstrap, \n",
    "    t2t_ira_ira_sim_avg_bootstrap, \n",
    "    axis=0, equal_var=False)\n",
    "print(\"p-value for Welch's t-Test between Rand and IRA:\", p_val, t_stat)\n",
    "\n",
    "t_stat, p_val = scipy.stats.ttest_ind(\n",
    "    t2t_poli_poli_sim_avg_bootstrap, \n",
    "    t2t_ira_ira_sim_avg_bootstrap, \n",
    "    axis=0, equal_var=False)\n",
    "print(\"p-value for Welch's t-Test between Poli and IRA:\", p_val, t_stat)"
   ]
  },
  {
   "cell_type": "code",
   "execution_count": null,
   "metadata": {},
   "outputs": [],
   "source": []
  },
  {
   "cell_type": "code",
   "execution_count": 19,
   "metadata": {},
   "outputs": [
    {
     "name": "stdout",
     "output_type": "stream",
     "text": [
      "Random-Random: 0.48028544597662415 0.00014405864198441568\n",
      "Russian IRA-Random: 0.7567648691823134 0.00010532607771854807\n",
      "Russian IRA-Political: 0.7568368180938292 0.00010756307599343613\n"
     ]
    }
   ],
   "source": [
    "print(\"Random-Random:\", np.array(t2t_rand_rand_sim_avg_bootstrap).mean(), np.array(t2t_rand_rand_sim_avg_bootstrap).var())\n",
    "print(\"Russian IRA-Random:\", np.array(t2t_ira_rand_sim_avg_bootstrap).mean(), np.array(t2t_ira_rand_sim_avg_bootstrap).var())\n",
    "print(\"Russian IRA-Political:\", np.array(t2t_ira_poli_sim_avg_bootstrap).mean(), np.array(t2t_ira_poli_sim_avg_bootstrap).var())\n"
   ]
  },
  {
   "cell_type": "code",
   "execution_count": null,
   "metadata": {},
   "outputs": [],
   "source": []
  },
  {
   "cell_type": "code",
   "execution_count": 20,
   "metadata": {},
   "outputs": [
    {
     "data": {
      "image/png": "[encoded data removed]",
      "text/plain": [
       "<Figure size 432x288 with 1 Axes>"
      ]
     },
     "metadata": {},
     "output_type": "display_data"
    }
   ],
   "source": [
    "plt.hist(t2t_poli_poli_sim_avg_bootstrap, bins=20, density=True, alpha=0.35, label=\"Political-Political\", color=\"blue\")\n",
    "plt.hist(t2t_rand_rand_sim_avg_bootstrap, bins=20, density=True, alpha=0.35, label=\"Random-Random\", color=\"orange\")\n",
    "\n",
    "plt.hist(t2t_ira_poli_sim_avg_bootstrap, bins=20, density=True, alpha=0.35, label=\"Russian IRA-Political\", color=\"green\")\n",
    "\n",
    "plt.hist(t2t_ira_rand_sim_avg_bootstrap, bins=20, density=True, alpha=0.35, label=\"Russian IRA-Random\", color=\"red\")\n",
    "\n",
    "plt.hist(t2t_ira_ira_sim_avg_bootstrap, bins=20, density=True, alpha=0.35, label=\"Russian IRA-Russian IRA\", color=\"gray\")\n",
    "\n",
    "# plt.title(\"Within-Twitter Similarity\")\n",
    "\n",
    "plt.xlabel(\"Distance\")\n",
    "plt.ylabel(\"Frequency\")\n",
    "\n",
    "plt.legend()\n",
    "plt.grid()\n",
    "\n",
    "plt.savefig(\"across_group_general_link_twitter.pdf\", format=\"pdf\")\n",
    "plt.show()"
   ]
  },
  {
   "cell_type": "code",
   "execution_count": 21,
   "metadata": {},
   "outputs": [
    {
     "name": "stdout",
     "output_type": "stream",
     "text": [
      "p-value for ANOVA: 0.0 1070821.5290054064\n",
      "p-value for Welch's t-Test between IRA-Rand and IRA-Poli: 0.7273598141194029 -0.34864948551296904\n"
     ]
    }
   ],
   "source": [
    "# Test whether the within-group similarities across the three populations are equal\n",
    "f_stat, p_val = scipy.stats.f_oneway(\n",
    "    t2t_rand_rand_sim_avg_bootstrap, \n",
    "    t2t_ira_rand_sim_avg_bootstrap, \n",
    "    t2t_ira_poli_sim_avg_bootstrap)\n",
    "print(\"p-value for ANOVA:\", p_val, f_stat)\n",
    "\n",
    "t_stat, p_val = scipy.stats.ttest_ind(\n",
    "    t2t_ira_rand_sim_avg_bootstrap, \n",
    "    t2t_ira_poli_sim_avg_bootstrap, \n",
    "    axis=0, equal_var=False)\n",
    "print(\"p-value for Welch's t-Test between IRA-Rand and IRA-Poli:\", p_val, t_stat)"
   ]
  },
  {
   "cell_type": "code",
   "execution_count": null,
   "metadata": {},
   "outputs": [],
   "source": []
  },
  {
   "cell_type": "code",
   "execution_count": 22,
   "metadata": {},
   "outputs": [
    {
     "data": {
      "image/png": "[encoded data removed]",
      "text/plain": [
       "<Figure size 432x288 with 1 Axes>"
      ]
     },
     "metadata": {},
     "output_type": "display_data"
    },
    {
     "data": {
      "image/png": "[encoded data removed]",
      "text/plain": [
       "<Figure size 432x288 with 1 Axes>"
      ]
     },
     "metadata": {},
     "output_type": "display_data"
    },
    {
     "data": {
      "image/png": "[encoded data removed]",
      "text/plain": [
       "<Figure size 432x288 with 1 Axes>"
      ]
     },
     "metadata": {},
     "output_type": "display_data"
    }
   ],
   "source": [
    "plt.imshow(twitter_user_links_mat_rand.T)\n",
    "plt.show()\n",
    "plt.imshow(twitter_user_links_mat_poli.T)\n",
    "plt.show()\n",
    "plt.imshow(twitter_user_links_mat_ira.T)\n",
    "plt.show()"
   ]
  },
  {
   "cell_type": "code",
   "execution_count": 23,
   "metadata": {},
   "outputs": [
    {
     "name": "stdout",
     "output_type": "stream",
     "text": [
      "random\n",
      "\t twitter.com 0.6826234536295309\n",
      "\t instagram.com 0.14165043011258188\n",
      "\t vine.co 0.12953519471514205\n",
      "\t youtube.com 0.10393103758900007\n",
      "\t facebook.com 0.06292637780920862\n",
      "\t twimg.com 0.0180263431352453\n",
      "\t fllwrs.com 0.016284621419212823\n",
      "\t soundcloud.com 0.01621665695480661\n",
      "\t nytimes.com 0.013378782725450879\n",
      "\t linkedin.com 0.008970181694513716\n",
      "political\n",
      "\t twitter.com 0.717695187321102\n",
      "\t instagram.com 0.13532539099808355\n",
      "\t youtube.com 0.12276327760759255\n",
      "\t facebook.com 0.09629823314330088\n",
      "\t nytimes.com 0.041410057383605\n",
      "\t washingtonpost.com 0.025941067674274974\n",
      "\t linkedin.com 0.024213242265329483\n",
      "\t cnn.com 0.020505105391794266\n",
      "\t foxnews.com 0.020144798438039447\n",
      "\t wordpress.com 0.016710920750515022\n",
      "ira\n",
      "\t youtube.com 0.36921451198461447\n",
      "\t twitter.com 0.21050501799363489\n",
      "\t vine.co 0.13219800168901588\n",
      "\t instagram.com 0.07440082890164003\n",
      "\t hugedomains.com 0.07150347274800165\n",
      "\t vimeo.com 0.043576062238581646\n",
      "\t telegraph.co.uk 0.03757703660729419\n",
      "\t cnn.com 0.0349070723491845\n",
      "\t facebook.com 0.03126711394386649\n",
      "\t rt.com 0.030204544757676713\n"
     ]
    }
   ],
   "source": [
    "for label, mat in [\n",
    "    (\"random\", twitter_user_links_mat_rand), \n",
    "    (\"political\", twitter_user_links_mat_poli), \n",
    "    (\"ira\", twitter_user_links_mat_ira)]:\n",
    "    print(label)\n",
    "    domains = top_tld_map_twitter[label]\n",
    "    for tld, prop in sorted(zip(domains, np.mean(mat, axis=0)), key=lambda x: x[1], reverse=True)[:10]:\n",
    "        print(\"\\t\", tld, prop)"
   ]
  },
  {
   "cell_type": "code",
   "execution_count": null,
   "metadata": {},
   "outputs": [],
   "source": []
  },
  {
   "cell_type": "code",
   "execution_count": null,
   "metadata": {},
   "outputs": [],
   "source": []
  },
  {
   "cell_type": "code",
   "execution_count": 24,
   "metadata": {},
   "outputs": [
    {
     "data": {
      "image/png": "[encoded data removed]",
      "text/plain": [
       "<Figure size 432x288 with 1 Axes>"
      ]
     },
     "metadata": {},
     "output_type": "display_data"
    },
    {
     "data": {
      "image/png": "[encoded data removed]",
      "text/plain": [
       "<Figure size 432x288 with 1 Axes>"
      ]
     },
     "metadata": {},
     "output_type": "display_data"
    }
   ],
   "source": [
    "reddit_overlap_rand_poli = top_tld_map_reddit[\"random\"].intersection(top_tld_map_reddit[\"political\"])\n",
    "reddit_overlap_rand_ira = top_tld_map_reddit[\"random\"].intersection(top_tld_map_reddit[\"ira\"])\n",
    "reddit_overlap_poli_ira = top_tld_map_reddit[\"political\"].intersection(top_tld_map_reddit[\"ira\"])\n",
    "\n",
    "reddit_user_links_mat_rand = links_to_norm_matrix(reddit_links_df_rand, top_tld_map_reddit[\"random\"], \"user_name\")\n",
    "reddit_user_links_mat_poli = links_to_norm_matrix(reddit_links_df_poli, top_tld_map_reddit[\"political\"], \"user_name\")\n",
    "reddit_user_links_mat_ira = links_to_norm_matrix(reddit_links_df_ira, top_tld_map_reddit[\"ira\"], \"user_name\")\n",
    "\n",
    "# Calculate pairwise similarity among users across populations\n",
    "r2r_rand_rand_sim = similarity_function(reddit_user_links_mat_rand, reddit_user_links_mat_rand)\n",
    "r2r_poli_poli_sim = similarity_function(reddit_user_links_mat_poli, reddit_user_links_mat_poli)\n",
    "r2r_ira_ira_sim = similarity_function(reddit_user_links_mat_ira, reddit_user_links_mat_ira)\n",
    "\n",
    "r2r_ira_rand_sim = similarity_function(\n",
    "    links_to_norm_matrix(reddit_links_df_ira, reddit_overlap_rand_ira, \"user_name\"), \n",
    "    links_to_norm_matrix(reddit_links_df_rand, reddit_overlap_rand_ira, \"user_name\"))\n",
    "r2r_ira_poli_sim = similarity_function(\n",
    "    links_to_norm_matrix(reddit_links_df_ira, reddit_overlap_poli_ira, \"user_name\"), \n",
    "    links_to_norm_matrix(reddit_links_df_poli, reddit_overlap_poli_ira, \"user_name\"))\n",
    "r2r_rand_poli_sim = similarity_function(\n",
    "    links_to_norm_matrix(reddit_links_df_rand, reddit_overlap_rand_poli, \"user_name\"), \n",
    "    links_to_norm_matrix(reddit_links_df_poli, reddit_overlap_rand_poli, \"user_name\"))\n",
    "\n",
    "# # Collapse similarities down to get the mean similarity for each user on the left to all users on the right\n",
    "# #. note the minus 1 and reduction of shape by 1 for the within-platform groups, which I do to remove the \n",
    "# #. self-similarity effect\n",
    "# r2r_rand_rand_sim_avg = (np.sum(r2r_rand_rand_sim, axis=1) - 1) / (reddit_user_links_mat_rand.shape[0] - 1)\n",
    "# r2r_poli_poli_sim_avg = (np.sum(r2r_poli_poli_sim, axis=1) - 1) / (reddit_user_links_mat_poli.shape[0] - 1)\n",
    "# r2r_ira_ira_sim_avg = (np.sum(r2r_ira_ira_sim, axis=1) - 1) / (reddit_user_links_mat_ira.shape[0] - 1)\n",
    "# r2r_ira_rand_sim_avg = np.mean(r2r_ira_rand_sim, axis=1)\n",
    "# r2r_ira_poli_sim_avg = np.mean(r2r_ira_poli_sim, axis=1)\n",
    "# r2r_ira_ira_sim_avg = np.mean(r2r_ira_ira_sim, axis=1)\n",
    "# r2r_rand_poli_sim_avg = np.mean(r2r_rand_poli_sim, axis=1)\n",
    "\n",
    "r2r_rand_rand_sim_flat = r2r_rand_rand_sim.flatten()\n",
    "r2r_poli_poli_sim_flat = r2r_poli_poli_sim.flatten()\n",
    "r2r_ira_ira_sim_flat = r2r_ira_ira_sim.flatten()\n",
    "r2r_ira_rand_sim_flat = r2r_ira_rand_sim.flatten()\n",
    "r2r_ira_poli_sim_flat = r2r_ira_poli_sim.flatten()\n",
    "\n",
    "# Show similarity distribution within populations in this platform\n",
    "r2r_rand_rand_sim_avg_bootstrap = [\n",
    "    sklearn.utils.resample(\n",
    "        r2r_rand_rand_sim_flat, replace=True, n_samples=sample_count\n",
    "    ).mean() \n",
    "    for i in range(bootstrap_count)\n",
    "]\n",
    "r2r_poli_poli_sim_avg_bootstrap = [\n",
    "    sklearn.utils.resample(\n",
    "        r2r_poli_poli_sim_flat, replace=True, n_samples=sample_count\n",
    "    ).mean() \n",
    "    for i in range(bootstrap_count)\n",
    "]\n",
    "r2r_ira_ira_sim_avg_bootstrap = [\n",
    "    sklearn.utils.resample(\n",
    "        r2r_ira_ira_sim_flat, replace=True, n_samples=sample_count\n",
    "    ).mean() \n",
    "    for i in range(bootstrap_count)\n",
    "]\n",
    "\n",
    "plt.hist(r2r_rand_rand_sim_avg_bootstrap, bins=20, density=True, alpha=0.35, label=\"rand-rand\")\n",
    "plt.hist(r2r_poli_poli_sim_avg_bootstrap, bins=20, density=True, alpha=0.35, label=\"poli-poli\")\n",
    "plt.hist(r2r_ira_ira_sim_avg_bootstrap, bins=20, density=True, alpha=0.35, label=\"ira-ira\")\n",
    "\n",
    "plt.title(\"Within-Population Similarity\")\n",
    "plt.legend()\n",
    "plt.show()\n",
    "\n",
    "# Show similarity distribution across populations in this platform\n",
    "r2r_ira_rand_sim_avg_bootstrap = [\n",
    "    sklearn.utils.resample(\n",
    "        r2r_ira_rand_sim_flat, replace=True, n_samples=sample_count\n",
    "    ).mean() \n",
    "    for i in range(bootstrap_count)\n",
    "]\n",
    "r2r_ira_poli_sim_avg_bootstrap = [\n",
    "    sklearn.utils.resample(\n",
    "        r2r_ira_poli_sim_flat, replace=True, n_samples=sample_count\n",
    "    ).mean() \n",
    "    for i in range(bootstrap_count)\n",
    "]\n",
    "\n",
    "plt.hist(r2r_ira_rand_sim_avg_bootstrap, bins=20, density=True, alpha=0.35, label=\"ira-rand\")\n",
    "plt.hist(r2r_ira_poli_sim_avg_bootstrap, bins=20, density=True, alpha=0.35, label=\"ira-poli\")\n",
    "plt.hist(r2r_ira_ira_sim_avg_bootstrap, bins=20, density=True, alpha=0.35, label=\"ira-ira\")\n",
    "\n",
    "plt.title(\"Across-Population Similarity\")\n",
    "plt.legend()\n",
    "plt.show()"
   ]
  },
  {
   "cell_type": "code",
   "execution_count": null,
   "metadata": {},
   "outputs": [],
   "source": []
  },
  {
   "cell_type": "code",
   "execution_count": 25,
   "metadata": {},
   "outputs": [
    {
     "name": "stdout",
     "output_type": "stream",
     "text": [
      "Random: 0.6336275614308317 0.00014865803132457512\n",
      "Political: 0.6906557562902265 0.00011332617889427578\n",
      "Russian IRA: 0.2428800060386714 0.00014615398396094942\n"
     ]
    }
   ],
   "source": [
    "print(\"Random:\", np.array(r2r_rand_rand_sim_avg_bootstrap).mean(), np.array(r2r_rand_rand_sim_avg_bootstrap).var())\n",
    "print(\"Political:\", np.array(r2r_poli_poli_sim_avg_bootstrap).mean(), np.array(r2r_poli_poli_sim_avg_bootstrap).var())\n",
    "print(\"Russian IRA:\", np.array(r2r_ira_ira_sim_avg_bootstrap).mean(), np.array(r2r_ira_ira_sim_avg_bootstrap).var())\n"
   ]
  },
  {
   "cell_type": "code",
   "execution_count": null,
   "metadata": {},
   "outputs": [],
   "source": []
  },
  {
   "cell_type": "code",
   "execution_count": 26,
   "metadata": {},
   "outputs": [
    {
     "data": {
      "image/png": "[encoded data removed]",
      "text/plain": [
       "<Figure size 432x288 with 1 Axes>"
      ]
     },
     "metadata": {},
     "output_type": "display_data"
    }
   ],
   "source": [
    "plt.hist(r2r_rand_rand_sim_avg_bootstrap, bins=20, density=True, alpha=0.35, label=\"Random\")\n",
    "plt.hist(r2r_poli_poli_sim_avg_bootstrap, bins=20, density=True, alpha=0.35, label=\"Political\")\n",
    "plt.hist(r2r_ira_ira_sim_avg_bootstrap, bins=20, density=True, alpha=0.35, label=\"Russian IRA\")\n",
    "\n",
    "plt.title(\"Reddit, Within-Group Similarity\")\n",
    "plt.legend()\n",
    "plt.grid()\n",
    "plt.show()"
   ]
  },
  {
   "cell_type": "code",
   "execution_count": 27,
   "metadata": {},
   "outputs": [
    {
     "name": "stdout",
     "output_type": "stream",
     "text": [
      "p-value for ANOVA: 0.0 2182886.255508826\n",
      "p-value for Welch's t-Test between Rand and IRA: 0.0 1609.0341004666939\n",
      "p-value for Welch's t-Test between Poli and IRA: 0.0 1965.3959540620822\n"
     ]
    }
   ],
   "source": [
    "# Test whether the within-group similarities across the three populations are equal\n",
    "f_stat, p_val = scipy.stats.f_oneway(\n",
    "    r2r_rand_rand_sim_avg_bootstrap, \n",
    "    r2r_poli_poli_sim_avg_bootstrap, \n",
    "    r2r_ira_ira_sim_avg_bootstrap)\n",
    "print(\"p-value for ANOVA:\", p_val, f_stat)\n",
    "\n",
    "t_stat, p_val = scipy.stats.ttest_ind(\n",
    "    r2r_rand_rand_sim_avg_bootstrap, \n",
    "    r2r_ira_ira_sim_avg_bootstrap, \n",
    "    axis=0, equal_var=False)\n",
    "print(\"p-value for Welch's t-Test between Rand and IRA:\", p_val, t_stat)\n",
    "\n",
    "t_stat, p_val = scipy.stats.ttest_ind(\n",
    "    r2r_poli_poli_sim_avg_bootstrap, \n",
    "    r2r_ira_ira_sim_avg_bootstrap, \n",
    "    axis=0, equal_var=False)\n",
    "print(\"p-value for Welch's t-Test between Poli and IRA:\", p_val, t_stat)"
   ]
  },
  {
   "cell_type": "code",
   "execution_count": null,
   "metadata": {},
   "outputs": [],
   "source": []
  },
  {
   "cell_type": "code",
   "execution_count": 28,
   "metadata": {},
   "outputs": [
    {
     "name": "stdout",
     "output_type": "stream",
     "text": [
      "Random-Random: 0.6336275614308317 0.00014865803132457512\n",
      "Russian IRA-Random: 0.48772797048597805 0.0001970311894016759\n",
      "Russian IRA-Political: 0.5764570780709162 0.00017614216117996213\n"
     ]
    }
   ],
   "source": [
    "print(\"Random-Random:\", np.array(r2r_rand_rand_sim_avg_bootstrap).mean(), np.array(r2r_rand_rand_sim_avg_bootstrap).var())\n",
    "print(\"Russian IRA-Random:\", np.array(r2r_ira_rand_sim_avg_bootstrap).mean(), np.array(r2r_ira_rand_sim_avg_bootstrap).var())\n",
    "print(\"Russian IRA-Political:\", np.array(r2r_ira_poli_sim_avg_bootstrap).mean(), np.array(r2r_ira_poli_sim_avg_bootstrap).var())\n",
    "\n"
   ]
  },
  {
   "cell_type": "code",
   "execution_count": null,
   "metadata": {},
   "outputs": [],
   "source": []
  },
  {
   "cell_type": "code",
   "execution_count": 29,
   "metadata": {},
   "outputs": [
    {
     "data": {
      "image/png": "[encoded data removed]",
      "text/plain": [
       "<Figure size 432x288 with 1 Axes>"
      ]
     },
     "metadata": {},
     "output_type": "display_data"
    }
   ],
   "source": [
    "plt.hist(r2r_poli_poli_sim_avg_bootstrap, bins=20, density=True, alpha=0.35, label=\"Political-Political\", color=\"blue\")\n",
    "plt.hist(r2r_rand_rand_sim_avg_bootstrap, bins=20, density=True, alpha=0.35, label=\"Random-Random\", color=\"orange\")\n",
    "\n",
    "plt.hist(r2r_ira_poli_sim_avg_bootstrap, bins=20, density=True, alpha=0.35, label=\"Russian IRA-Political\", color=\"green\")\n",
    "\n",
    "plt.hist(r2r_ira_rand_sim_avg_bootstrap, bins=20, density=True, alpha=0.35, label=\"Russian IRA-Random\", color=\"red\")\n",
    "\n",
    "plt.hist(r2r_ira_ira_sim_avg_bootstrap, bins=20, density=True, alpha=0.35, label=\"Russian IRA-Russian IRA\", color=\"gray\")\n",
    "\n",
    "# plt.title(\"Within-Reddit Similarity\")\n",
    "\n",
    "plt.xlabel(\"Distance\")\n",
    "plt.ylabel(\"Frequency\")\n",
    "\n",
    "plt.legend()\n",
    "plt.grid()\n",
    "\n",
    "plt.savefig(\"across_group_general_link_reddit.pdf\", format=\"pdf\")\n",
    "plt.show()"
   ]
  },
  {
   "cell_type": "code",
   "execution_count": 30,
   "metadata": {},
   "outputs": [
    {
     "name": "stdout",
     "output_type": "stream",
     "text": [
      "p-value for ANOVA: 0.0 155325.6706122213\n",
      "p-value for Welch's t-Test between IRA-Rand and IRA-Poli: 0.0 -324.75240122018573\n"
     ]
    }
   ],
   "source": [
    "# Test whether the within-group similarities across the three populations are equal\n",
    "f_stat, p_val = scipy.stats.f_oneway(\n",
    "    r2r_rand_rand_sim_avg_bootstrap, \n",
    "    r2r_ira_rand_sim_avg_bootstrap, \n",
    "    r2r_ira_poli_sim_avg_bootstrap)\n",
    "print(\"p-value for ANOVA:\", p_val, f_stat)\n",
    "\n",
    "t_stat, p_val = scipy.stats.ttest_ind(\n",
    "    r2r_ira_rand_sim_avg_bootstrap, \n",
    "    r2r_ira_poli_sim_avg_bootstrap, \n",
    "    axis=0, equal_var=True)\n",
    "print(\"p-value for Welch's t-Test between IRA-Rand and IRA-Poli:\", p_val, t_stat)"
   ]
  },
  {
   "cell_type": "code",
   "execution_count": null,
   "metadata": {},
   "outputs": [],
   "source": []
  },
  {
   "cell_type": "code",
   "execution_count": 31,
   "metadata": {},
   "outputs": [
    {
     "data": {
      "image/png": "[encoded data removed]",
      "text/plain": [
       "<Figure size 432x288 with 1 Axes>"
      ]
     },
     "metadata": {},
     "output_type": "display_data"
    },
    {
     "data": {
      "image/png": "[encoded data removed]",
      "text/plain": [
       "<Figure size 432x288 with 1 Axes>"
      ]
     },
     "metadata": {},
     "output_type": "display_data"
    },
    {
     "data": {
      "image/png": "[encoded data removed]",
      "text/plain": [
       "<Figure size 432x288 with 1 Axes>"
      ]
     },
     "metadata": {},
     "output_type": "display_data"
    }
   ],
   "source": [
    "plt.imshow(reddit_user_links_mat_rand.T)\n",
    "plt.show()\n",
    "plt.imshow(reddit_user_links_mat_poli.T)\n",
    "plt.show()\n",
    "plt.imshow(reddit_user_links_mat_ira.T)\n",
    "plt.show()"
   ]
  },
  {
   "cell_type": "code",
   "execution_count": 32,
   "metadata": {},
   "outputs": [
    {
     "name": "stdout",
     "output_type": "stream",
     "text": [
      "random\n",
      "\t imgur.com 0.536401851015284\n",
      "\t youtube.com 0.24464615084213276\n",
      "\t reddit.com 0.10723305572102004\n",
      "\t reddituploads.com 0.07155498947827503\n",
      "\t twitter.com 0.031054698573845758\n",
      "\t gfycat.com 0.016950013600455165\n",
      "\t soundcloud.com 0.01542714270831688\n",
      "\t google.com 0.011701441407233115\n",
      "\t tumblr.com 0.010951055409525087\n",
      "\t facebook.com 0.008766375780451335\n",
      "political\n",
      "\t imgur.com 0.43992144445251746\n",
      "\t youtube.com 0.2823502699843973\n",
      "\t reddit.com 0.15293279596318052\n",
      "\t twitter.com 0.05974081451303444\n",
      "\t sli.mg 0.05355015056217759\n",
      "\t reddituploads.com 0.04787577971339677\n",
      "\t nytimes.com 0.024493633873413544\n",
      "\t washingtonpost.com 0.021998693537181133\n",
      "\t cnn.com 0.02024719470942149\n",
      "\t wikipedia.org 0.014290241663428122\n",
      "ira\n",
      "\t imgur.com 0.8681144203181955\n",
      "\t butthis.com 0.03627815953909604\n",
      "\t blackmattersus.com 0.024125005576253227\n",
      "\t youtube.com 0.02299132498226701\n",
      "\t reddit.com 0.010533998792590555\n",
      "\t livejournal.com 0.009571775396897896\n",
      "\t vine.co 0.008424245898739732\n",
      "\t twitter.com 0.008159989664992465\n",
      "\t huffingtonpost.com 0.0077981395945107826\n",
      "\t cnn.com 0.007617431502272864\n"
     ]
    }
   ],
   "source": [
    "for label, mat in [\n",
    "    (\"random\", reddit_user_links_mat_rand), \n",
    "    (\"political\", reddit_user_links_mat_poli), \n",
    "    (\"ira\", reddit_user_links_mat_ira)]:\n",
    "    print(label)\n",
    "    domains = top_tld_map_reddit[label]\n",
    "    for tld, prop in sorted(zip(domains, np.mean(mat, axis=0)), key=lambda x: x[1], reverse=True)[:10]:\n",
    "        print(\"\\t\", tld, prop)"
   ]
  },
  {
   "cell_type": "code",
   "execution_count": 33,
   "metadata": {},
   "outputs": [
    {
     "data": {
      "image/png": "[encoded data removed]",
      "text/plain": [
       "<Figure size 432x288 with 1 Axes>"
      ]
     },
     "metadata": {},
     "output_type": "display_data"
    }
   ],
   "source": [
    "r2t_overlap_rand = top_tld_map_reddit[\"random\"].intersection(top_tld_map_twitter[\"random\"])\n",
    "r2t_overlap_poli = top_tld_map_reddit[\"political\"].intersection(top_tld_map_twitter[\"political\"])\n",
    "r2t_overlap_ira = top_tld_map_reddit[\"ira\"].intersection(top_tld_map_twitter[\"ira\"])\n",
    "\n",
    "r2t_rand_sim = similarity_function(\n",
    "    links_to_norm_matrix(reddit_links_df_rand, r2t_overlap_rand, \"user_name\"), \n",
    "    links_to_norm_matrix(twitter_links_df_rand, r2t_overlap_rand, \"user_id\"))\n",
    "r2t_poli_sim = similarity_function(\n",
    "    links_to_norm_matrix(reddit_links_df_poli, r2t_overlap_poli, \"user_name\"), \n",
    "    links_to_norm_matrix(twitter_links_df_poli, r2t_overlap_poli, \"user_id\"))\n",
    "r2t_ira_sim = similarity_function(\n",
    "    links_to_norm_matrix(reddit_links_df_ira, r2t_overlap_ira, \"user_name\"), \n",
    "    links_to_norm_matrix(twitter_links_df_ira, r2t_overlap_ira, \"user_id\"))\n",
    "\n",
    "r2t_rand_sim_flat = r2t_rand_sim.flatten()\n",
    "r2t_poli_sim_flat = r2t_poli_sim.flatten()\n",
    "r2t_ira_sim_flat = r2t_ira_sim.flatten()\n",
    "\n",
    "# Show similarity distribution within populations in this platform\n",
    "r2t_rand_sim_avg_bootstrap = [\n",
    "    sklearn.utils.resample(\n",
    "        r2t_rand_sim_flat, replace=True, n_samples=sample_count\n",
    "    ).mean() \n",
    "    for i in range(bootstrap_count)\n",
    "]\n",
    "r2t_poli_sim_avg_bootstrap = [\n",
    "    sklearn.utils.resample(\n",
    "        r2t_poli_sim_flat, replace=True, n_samples=sample_count\n",
    "    ).mean() \n",
    "    for i in range(bootstrap_count)\n",
    "]\n",
    "r2t_ira_sim_avg_bootstrap = [\n",
    "    sklearn.utils.resample(\n",
    "        r2t_ira_sim_flat, replace=True, n_samples=sample_count\n",
    "    ).mean() \n",
    "    for i in range(bootstrap_count)\n",
    "]\n",
    "\n",
    "plt.hist(r2t_rand_sim_avg_bootstrap, bins=20, density=True, alpha=0.35, label=\"Random R2T\")\n",
    "plt.hist(r2t_poli_sim_avg_bootstrap, bins=20, density=True, alpha=0.35, label=\"Political R2T\")\n",
    "plt.hist(r2t_ira_sim_avg_bootstrap, bins=20, density=True, alpha=0.35, label=\"IRA R2T\")\n",
    "\n",
    "plt.title(\"Within-Population, Across-Platform Similarity\")\n",
    "plt.legend()\n",
    "plt.show()\n",
    "\n",
    "\n"
   ]
  },
  {
   "cell_type": "code",
   "execution_count": 34,
   "metadata": {},
   "outputs": [
    {
     "name": "stdout",
     "output_type": "stream",
     "text": [
      "Random-R2T: 0.9444961767289486 2.512724651700622e-05\n",
      "Political-R2T: 0.8729491092777036 5.148706489598073e-05\n",
      "Russian IRA-R2T: 0.963838872256385 2.2853915407550247e-05\n"
     ]
    }
   ],
   "source": [
    "print(\"Random-R2T:\", np.array(r2t_rand_sim_avg_bootstrap).mean(), np.array(r2t_rand_sim_avg_bootstrap).var())\n",
    "print(\"Political-R2T:\", np.array(r2t_poli_sim_avg_bootstrap).mean(), np.array(r2t_poli_sim_avg_bootstrap).var())\n",
    "print(\"Russian IRA-R2T:\", np.array(r2t_ira_sim_avg_bootstrap).mean(), np.array(r2t_ira_sim_avg_bootstrap).var())\n",
    "\n"
   ]
  },
  {
   "cell_type": "code",
   "execution_count": null,
   "metadata": {},
   "outputs": [],
   "source": []
  },
  {
   "cell_type": "code",
   "execution_count": 35,
   "metadata": {},
   "outputs": [
    {
     "name": "stdout",
     "output_type": "stream",
     "text": [
      "Russian IRA-R2T: 0.963838872256385 2.2853915407550247e-05\n",
      "Russian IRA-RRandom: 0.48772797048597805 0.0001970311894016759\n",
      "Russian IRA-RPoli: 0.5764570780709162 0.00017614216117996213\n"
     ]
    }
   ],
   "source": [
    "print(\"Russian IRA-R2T:\", np.array(r2t_ira_sim_avg_bootstrap).mean(), np.array(r2t_ira_sim_avg_bootstrap).var())\n",
    "print(\"Russian IRA-RRandom:\", np.array(r2r_ira_rand_sim_avg_bootstrap).mean(), np.array(r2r_ira_rand_sim_avg_bootstrap).var())\n",
    "print(\"Russian IRA-RPoli:\", np.array(r2r_ira_poli_sim_avg_bootstrap).mean(), np.array(r2r_ira_poli_sim_avg_bootstrap).var())\n"
   ]
  },
  {
   "cell_type": "code",
   "execution_count": null,
   "metadata": {},
   "outputs": [],
   "source": []
  },
  {
   "cell_type": "code",
   "execution_count": 47,
   "metadata": {},
   "outputs": [
    {
     "data": {
      "image/png": "[encoded data removed]",
      "text/plain": [
       "<Figure size 432x288 with 1 Axes>"
      ]
     },
     "metadata": {},
     "output_type": "display_data"
    }
   ],
   "source": [
    "plt.hist(r2t_ira_sim_avg_bootstrap, bins=20, density=True, alpha=0.35, label=\"Russian IRA-Russian IRA (R2T)\")\n",
    "plt.hist(r2r_ira_rand_sim_avg_bootstrap, bins=20, density=True, alpha=0.35, label=\"Russian IRA-Random (R2R)\", color=\"red\")\n",
    "plt.hist(r2r_ira_poli_sim_avg_bootstrap, bins=20, density=True, alpha=0.35, label=\"Russian IRA-Political (R2R)\", color=\"green\")\n",
    "\n",
    "# plt.title(\"Reddit-to-Twitter Similarity\")\n",
    "\n",
    "plt.xlabel(\"Distance\")\n",
    "plt.ylabel(\"Frequency\")\n",
    "\n",
    "plt.legend()\n",
    "plt.grid()\n",
    "\n",
    "plt.savefig(\"across_platform_general_link_reddit.pdf\", format=\"pdf\")\n",
    "plt.show()"
   ]
  },
  {
   "cell_type": "code",
   "execution_count": null,
   "metadata": {},
   "outputs": [],
   "source": []
  },
  {
   "cell_type": "code",
   "execution_count": 37,
   "metadata": {},
   "outputs": [
    {
     "name": "stdout",
     "output_type": "stream",
     "text": [
      "p-value for ANOVA: 0.0 2427498.1105360356\n",
      "p-value for Welch's t-Test between Twitter-Reddit and IRA-Rand: 0.0 2270.1355450787555\n",
      "p-value for Welch's t-Test between Twitter-Reddit and IRA-Poli: 0.0 1941.5944311950554\n"
     ]
    }
   ],
   "source": [
    "# Test whether the within-group similarities across the three populations are equal\n",
    "f_stat, p_val = scipy.stats.f_oneway(\n",
    "    r2t_ira_sim_avg_bootstrap, \n",
    "    r2r_ira_rand_sim_avg_bootstrap, \n",
    "    r2r_ira_poli_sim_avg_bootstrap)\n",
    "print(\"p-value for ANOVA:\", p_val, f_stat)\n",
    "\n",
    "t_stat, p_val = scipy.stats.ttest_ind(\n",
    "    r2t_ira_sim_avg_bootstrap, \n",
    "    r2r_ira_rand_sim_avg_bootstrap, \n",
    "    axis=0, equal_var=False)\n",
    "print(\"p-value for Welch's t-Test between Twitter-Reddit and IRA-Rand:\", p_val, t_stat)\n",
    "\n",
    "t_stat, p_val = scipy.stats.ttest_ind(\n",
    "    r2t_ira_sim_avg_bootstrap,\n",
    "    r2r_ira_poli_sim_avg_bootstrap, \n",
    "    axis=0, equal_var=False)\n",
    "print(\"p-value for Welch's t-Test between Twitter-Reddit and IRA-Poli:\", p_val, t_stat)"
   ]
  },
  {
   "cell_type": "code",
   "execution_count": null,
   "metadata": {},
   "outputs": [],
   "source": []
  },
  {
   "cell_type": "code",
   "execution_count": 38,
   "metadata": {},
   "outputs": [
    {
     "data": {
      "image/png": "[encoded data removed]",
      "text/plain": [
       "<Figure size 432x288 with 1 Axes>"
      ]
     },
     "metadata": {},
     "output_type": "display_data"
    }
   ],
   "source": [
    "t2r_rand_sim = similarity_function(\n",
    "    links_to_norm_matrix(twitter_links_df_rand, r2t_overlap_rand, \"user_id\"), \n",
    "    links_to_norm_matrix(reddit_links_df_rand, r2t_overlap_rand, \"user_name\"))\n",
    "t2r_poli_sim = similarity_function(\n",
    "    links_to_norm_matrix(twitter_links_df_poli, r2t_overlap_poli, \"user_id\"), \n",
    "    links_to_norm_matrix(reddit_links_df_poli, r2t_overlap_poli, \"user_name\"))\n",
    "t2r_ira_sim = similarity_function(\n",
    "    links_to_norm_matrix(twitter_links_df_ira, r2t_overlap_ira, \"user_id\"), \n",
    "    links_to_norm_matrix(reddit_links_df_ira, r2t_overlap_ira, \"user_name\"))\n",
    "\n",
    "t2r_rand_sim_flat = t2r_rand_sim.flatten()\n",
    "t2r_poli_sim_flat = t2r_poli_sim.flatten()\n",
    "t2r_ira_sim_flat = t2r_ira_sim.flatten()\n",
    "\n",
    "# Show similarity distribution within populations in this platform\n",
    "t2r_rand_sim_avg_bootstrap = [\n",
    "    sklearn.utils.resample(\n",
    "        t2r_rand_sim_flat, replace=True, n_samples=sample_count\n",
    "    ).mean() \n",
    "    for i in range(bootstrap_count)\n",
    "]\n",
    "t2r_poli_sim_avg_bootstrap = [\n",
    "    sklearn.utils.resample(\n",
    "        t2r_poli_sim_flat, replace=True, n_samples=sample_count\n",
    "    ).mean() \n",
    "    for i in range(bootstrap_count)\n",
    "]\n",
    "t2r_ira_sim_avg_bootstrap = [\n",
    "    sklearn.utils.resample(\n",
    "        t2r_ira_sim_flat, replace=True, n_samples=sample_count\n",
    "    ).mean() \n",
    "    for i in range(bootstrap_count)\n",
    "]\n",
    "\n",
    "plt.hist(t2r_rand_sim_avg_bootstrap, bins=20, density=True, alpha=0.35, label=\"Random R2T\")\n",
    "plt.hist(t2r_poli_sim_avg_bootstrap, bins=20, density=True, alpha=0.35, label=\"Political R2T\")\n",
    "plt.hist(t2r_ira_sim_avg_bootstrap, bins=20, density=True, alpha=0.35, label=\"IRA R2T\")\n",
    "\n",
    "plt.title(\"Within-Population, Across-Platform Similarity\")\n",
    "plt.legend()\n",
    "plt.show()\n"
   ]
  },
  {
   "cell_type": "code",
   "execution_count": null,
   "metadata": {},
   "outputs": [],
   "source": []
  },
  {
   "cell_type": "code",
   "execution_count": 39,
   "metadata": {},
   "outputs": [
    {
     "name": "stdout",
     "output_type": "stream",
     "text": [
      "Russian IRA-T2R: 0.9638439522052177 2.232445152408371e-05\n",
      "Russian IRA-TRandom: 0.7567648691823134 0.00010532607771854807\n",
      "Russian IRA-TPoli: 0.7568368180938292 0.00010756307599343613\n"
     ]
    }
   ],
   "source": [
    "print(\"Russian IRA-T2R:\", np.array(t2r_ira_sim_avg_bootstrap).mean(), np.array(t2r_ira_sim_avg_bootstrap).var())\n",
    "print(\"Russian IRA-TRandom:\", np.array(t2t_ira_rand_sim_avg_bootstrap).mean(), np.array(t2t_ira_rand_sim_avg_bootstrap).var())\n",
    "print(\"Russian IRA-TPoli:\", np.array(t2t_ira_poli_sim_avg_bootstrap).mean(), np.array(t2t_ira_poli_sim_avg_bootstrap).var())\n"
   ]
  },
  {
   "cell_type": "code",
   "execution_count": null,
   "metadata": {},
   "outputs": [],
   "source": []
  },
  {
   "cell_type": "code",
   "execution_count": 49,
   "metadata": {},
   "outputs": [
    {
     "data": {
      "image/png": "[encoded data removed]",
      "text/plain": [
       "<Figure size 432x288 with 1 Axes>"
      ]
     },
     "metadata": {},
     "output_type": "display_data"
    }
   ],
   "source": [
    "plt.hist(t2r_ira_sim_avg_bootstrap, bins=20, density=True, alpha=0.35, label=\"Russian IRA-Russian IRA (T2R)\")\n",
    "plt.hist(t2t_ira_rand_sim_avg_bootstrap, bins=20, density=True, alpha=0.35, label=\"Russian IRA-Random (T2T)\", color=\"red\")\n",
    "plt.hist(t2t_ira_poli_sim_avg_bootstrap, bins=20, density=True, alpha=0.35, label=\"Russian IRA-Political (T2T)\", color=\"green\")\n",
    "\n",
    "# plt.title(\"Twitter-to-Reddit Similarity\")\n",
    "\n",
    "plt.xlabel(\"Distance\")\n",
    "plt.ylabel(\"Frequency\")\n",
    "\n",
    "plt.legend()\n",
    "plt.grid()\n",
    "\n",
    "plt.savefig(\"across_platform_general_link_twitter.pdf\", format=\"pdf\")\n",
    "plt.show()"
   ]
  },
  {
   "cell_type": "code",
   "execution_count": 41,
   "metadata": {},
   "outputs": [
    {
     "name": "stdout",
     "output_type": "stream",
     "text": [
      "p-value for ANOVA: 0.0 911050.176584819\n",
      "p-value for Welch's t-Test between Twitter-Reddit and IRA-Rand: 0.0 1295.885085958542\n",
      "p-value for Welch's t-Test between Twitter-Reddit and IRA-Poli: 0.0 1284.2310212618854\n"
     ]
    }
   ],
   "source": [
    "# Test whether the within-group similarities across the three populations are equal\n",
    "f_stat, p_val = scipy.stats.f_oneway(\n",
    "    t2r_ira_sim_avg_bootstrap, \n",
    "    t2t_ira_rand_sim_avg_bootstrap, \n",
    "    t2t_ira_poli_sim_avg_bootstrap)\n",
    "print(\"p-value for ANOVA:\", p_val, f_stat)\n",
    "\n",
    "t_stat, p_val = scipy.stats.ttest_ind(\n",
    "    t2r_ira_sim_avg_bootstrap, \n",
    "    t2t_ira_rand_sim_avg_bootstrap, \n",
    "    axis=0, equal_var=False)\n",
    "print(\"p-value for Welch's t-Test between Twitter-Reddit and IRA-Rand:\", p_val, t_stat)\n",
    "\n",
    "t_stat, p_val = scipy.stats.ttest_ind(\n",
    "    t2r_ira_sim_avg_bootstrap,\n",
    "    t2t_ira_poli_sim_avg_bootstrap, \n",
    "    axis=0, equal_var=False)\n",
    "print(\"p-value for Welch's t-Test between Twitter-Reddit and IRA-Poli:\", p_val, t_stat)"
   ]
  },
  {
   "cell_type": "code",
   "execution_count": null,
   "metadata": {},
   "outputs": [],
   "source": []
  },
  {
   "cell_type": "code",
   "execution_count": 42,
   "metadata": {},
   "outputs": [],
   "source": [
    "## Full Cross-Comparison\n",
    "\n",
    "### Other comparisons\n",
    "\n",
    "t2t_rand_poli_sim_flat = t2t_rand_poli_sim.flatten()\n",
    "r2r_rand_poli_sim_flat = r2r_rand_poli_sim.flatten()\n",
    "\n",
    "t2t_rand_poli_sim_avg_bootstrap = [\n",
    "    sklearn.utils.resample(\n",
    "        t2t_rand_poli_sim_flat, replace=True, n_samples=sample_count\n",
    "    ).mean() \n",
    "    for i in range(bootstrap_count)\n",
    "]\n",
    "r2r_rand_poli_sim_avg_bootstrap = [\n",
    "    sklearn.utils.resample(\n",
    "        r2r_rand_poli_sim_flat, replace=True, n_samples=sample_count\n",
    "    ).mean() \n",
    "    for i in range(bootstrap_count)\n",
    "]\n"
   ]
  },
  {
   "cell_type": "code",
   "execution_count": 43,
   "metadata": {},
   "outputs": [
    {
     "name": "stdout",
     "output_type": "stream",
     "text": [
      "\t Random \t\t Political \t\t IRA \t\t Other\n",
      "\t mu sigma^2 mu sigma^2 mu sigma^2 mu sigma^2\n",
      "Reddit\n",
      "Random: 0.6336275614308317 0.00014865803132457512 0.6623548652243769 0.00013256795366003177 0.48772797048597805 0.0001970311894016759 0.9444961767289486 2.512724651700622e-05\n",
      "Political: 0.6623548652243769 0.00013256795366003177 0.6906557562902265 0.00011332617889427578 0.5764570780709162 0.00017614216117996213 0.8729491092777036 5.148706489598073e-05\n",
      "IRA: 0.48772797048597805 0.0001970311894016759 0.5764570780709162 0.00017614216117996213 0.2428800060386714 0.00014615398396094942 0.963838872256385 2.2853915407550247e-05\n",
      "Twitter\n",
      "Random: 0.48028544597662415 0.00014405864198441568 0.4579727757720188 0.00013709772747328523 0.7567648691823134 0.00010532607771854807 0.9443934721083719 2.5256654845295302e-05\n",
      "Political: 0.4579727757720188 0.00013709772747328523 0.4347018452779716 0.00013038281096271363 0.7568368180938292 0.00010756307599343613 0.8730257632479039 4.953415236846628e-05\n",
      "IRA: 0.7567648691823134 0.00010532607771854807 0.7568368180938292 0.00010756307599343613 0.7818987918632312 0.0001057969513001203 0.9638439522052177 2.232445152408371e-05\n"
     ]
    }
   ],
   "source": [
    "print(\"\\t\", \"Random\", \"\\t\\t\", \"Political\", \"\\t\\t\", \"IRA\", \"\\t\\t\", \"Other\")\n",
    "print(\"\\t\", \"mu\", \"sigma^2\", \"mu\", \"sigma^2\", \"mu\", \"sigma^2\", \"mu\", \"sigma^2\")\n",
    "\n",
    "print(\"Reddit\")\n",
    "print(\"Random:\", \n",
    "    np.array(r2r_rand_rand_sim_avg_bootstrap).mean(), \n",
    "    np.array(r2r_rand_rand_sim_avg_bootstrap).var(),\n",
    "    np.array(r2r_rand_poli_sim_avg_bootstrap).mean(), \n",
    "    np.array(r2r_rand_poli_sim_avg_bootstrap).var(),\n",
    "    np.array(r2r_ira_rand_sim_avg_bootstrap).mean(), \n",
    "    np.array(r2r_ira_rand_sim_avg_bootstrap).var(),\n",
    "    np.array(r2t_rand_sim_avg_bootstrap).mean(), \n",
    "    np.array(r2t_rand_sim_avg_bootstrap).var(),\n",
    ")\n",
    "\n",
    "print(\"Political:\", \n",
    "    np.array(r2r_rand_poli_sim_avg_bootstrap).mean(), \n",
    "    np.array(r2r_rand_poli_sim_avg_bootstrap).var(),\n",
    "    np.array(r2r_poli_poli_sim_avg_bootstrap).mean(), \n",
    "    np.array(r2r_poli_poli_sim_avg_bootstrap).var(),\n",
    "    np.array(r2r_ira_poli_sim_avg_bootstrap).mean(), \n",
    "    np.array(r2r_ira_poli_sim_avg_bootstrap).var(),\n",
    "    np.array(r2t_poli_sim_avg_bootstrap).mean(), \n",
    "    np.array(r2t_poli_sim_avg_bootstrap).var(),\n",
    ")\n",
    "\n",
    "print(\"IRA:\", \n",
    "    np.array(r2r_ira_rand_sim_avg_bootstrap).mean(), \n",
    "    np.array(r2r_ira_rand_sim_avg_bootstrap).var(),\n",
    "    np.array(r2r_ira_poli_sim_avg_bootstrap).mean(), \n",
    "    np.array(r2r_ira_poli_sim_avg_bootstrap).var(),\n",
    "    np.array(r2r_ira_ira_sim_avg_bootstrap).mean(), \n",
    "    np.array(r2r_ira_ira_sim_avg_bootstrap).var(),\n",
    "    np.array(r2t_ira_sim_avg_bootstrap).mean(), \n",
    "    np.array(r2t_ira_sim_avg_bootstrap).var(),\n",
    ")\n",
    "\n",
    "print(\"Twitter\")\n",
    "print(\"Random:\", \n",
    "    np.array(t2t_rand_rand_sim_avg_bootstrap).mean(), \n",
    "    np.array(t2t_rand_rand_sim_avg_bootstrap).var(),\n",
    "    np.array(t2t_rand_poli_sim_avg_bootstrap).mean(), \n",
    "    np.array(t2t_rand_poli_sim_avg_bootstrap).var(),\n",
    "    np.array(t2t_ira_rand_sim_avg_bootstrap).mean(), \n",
    "    np.array(t2t_ira_rand_sim_avg_bootstrap).var(),\n",
    "    np.array(t2r_rand_sim_avg_bootstrap).mean(), \n",
    "    np.array(t2r_rand_sim_avg_bootstrap).var(),\n",
    ")\n",
    "\n",
    "print(\"Political:\", \n",
    "    np.array(t2t_rand_poli_sim_avg_bootstrap).mean(), \n",
    "    np.array(t2t_rand_poli_sim_avg_bootstrap).var(),\n",
    "    np.array(t2t_poli_poli_sim_avg_bootstrap).mean(), \n",
    "    np.array(t2t_poli_poli_sim_avg_bootstrap).var(),\n",
    "    np.array(t2t_ira_poli_sim_avg_bootstrap).mean(), \n",
    "    np.array(t2t_ira_poli_sim_avg_bootstrap).var(),\n",
    "    np.array(t2r_poli_sim_avg_bootstrap).mean(), \n",
    "    np.array(t2r_poli_sim_avg_bootstrap).var(),\n",
    ")\n",
    "\n",
    "print(\"IRA:\", \n",
    "    np.array(t2t_ira_rand_sim_avg_bootstrap).mean(), \n",
    "    np.array(t2t_ira_rand_sim_avg_bootstrap).var(),\n",
    "    np.array(t2t_ira_poli_sim_avg_bootstrap).mean(), \n",
    "    np.array(t2t_ira_poli_sim_avg_bootstrap).var(),\n",
    "    np.array(t2t_ira_ira_sim_avg_bootstrap).mean(), \n",
    "    np.array(t2t_ira_ira_sim_avg_bootstrap).var(),\n",
    "    np.array(t2r_ira_sim_avg_bootstrap).mean(), \n",
    "    np.array(t2r_ira_sim_avg_bootstrap).var(),\n",
    ")\n"
   ]
  },
  {
   "cell_type": "markdown",
   "metadata": {},
   "source": [
    "### Compare Identically Named Users"
   ]
  },
  {
   "cell_type": "code",
   "execution_count": null,
   "metadata": {},
   "outputs": [],
   "source": [
    "reddit_troll_names = pd.read_csv(\"../data/reddit_troll_accounts_20190206.csv\")\n",
    "twitter_troll_names = pd.read_csv(\"../data/twitter_russian_troll_accounts.csv\")"
   ]
  },
  {
   "cell_type": "code",
   "execution_count": null,
   "metadata": {},
   "outputs": [],
   "source": [
    "cross_platform_users = set(twitter_troll_names[\"handle\"].apply(str.lower))\\\n",
    "    .intersection(set(reddit_troll_names[\"username\"].apply(str.lower)))\n",
    "\n",
    "print(\"User count with the same ID:\", len(cross_platform_users))\n",
    "for u in cross_platform_users:\n",
    "    print(u)"
   ]
  },
  {
   "cell_type": "code",
   "execution_count": null,
   "metadata": {},
   "outputs": [],
   "source": [
    "deanon_df = pd.read_csv(\"../data/deanon_v2.csv\")"
   ]
  },
  {
   "cell_type": "code",
   "execution_count": null,
   "metadata": {},
   "outputs": [],
   "source": [
    "deanon_map = {row[\"screen_name\"].lower():row[\"userid\"] for _, row in deanon_df.iterrows()}"
   ]
  },
  {
   "cell_type": "code",
   "execution_count": null,
   "metadata": {},
   "outputs": [],
   "source": [
    "for u in cross_platform_users:\n",
    "    print(u, deanon_map.get(u))\n",
    "    "
   ]
  },
  {
   "cell_type": "code",
   "execution_count": null,
   "metadata": {},
   "outputs": [],
   "source": []
  },
  {
   "cell_type": "code",
   "execution_count": null,
   "metadata": {},
   "outputs": [],
   "source": [
    "for u in cross_platform_users:\n",
    "    hashed_u = deanon_map.get(u)\n",
    "    print(u, deanon_map.get(u))\n",
    "    \n",
    "    if ( hashed_u is None ):\n",
    "        continue\n",
    "    \n",
    "    local_reddit_df = reddit_links_df_ira[reddit_links_df_ira[\"user_name\"] == u]\n",
    "    local_twitter_df = twitter_links_df_ira[twitter_links_df_ira[\"user_id\"] == hashed_u]\n",
    "\n",
    "    local_reddit_tld = set(local_reddit_df[\"tld\"].value_counts().index)\n",
    "    local_twitter_tld = set(local_twitter_df[\"tld\"].value_counts().index)\n",
    "\n",
    "    common_tlds = set(local_twitter_tld).intersection(local_reddit_tld)\n",
    "    print(\"\\t\", \"Twitter TLDs:\", len(local_twitter_tld), \"Reddit TLDs:\", len(local_reddit_tld))\n",
    "    print(\"\\t\", \"TLDs in Common:\", len(common_tlds))\n",
    "\n",
    "    if ( len(common_tlds) == 0 ):\n",
    "        continue\n",
    "        \n",
    "    local_sim = similarity_function(\n",
    "        links_to_norm_matrix(local_reddit_df, common_tlds, \"user_name\"), \n",
    "        links_to_norm_matrix(local_twitter_df, common_tlds, \"user_id\"))\n",
    "    print(\"\\t\", \"Local Similarity:\", local_sim)"
   ]
  },
  {
   "cell_type": "code",
   "execution_count": null,
   "metadata": {
    "scrolled": true
   },
   "outputs": [],
   "source": [
    "for u in cross_platform_users:\n",
    "    hashed_u = deanon_map.get(u)\n",
    "    \n",
    "    if ( hashed_u is None ):\n",
    "        continue\n",
    "    \n",
    "    local_reddit_df = reddit_links_df_ira[reddit_links_df_ira[\"user_name\"] == u]\n",
    "    local_twitter_df = twitter_links_df_ira[twitter_links_df_ira[\"user_id\"] == hashed_u]\n",
    "\n",
    "    local_reddit_tld = set(local_reddit_df[\"tld\"].value_counts().index)\n",
    "    local_twitter_tld = set(local_twitter_df[\"tld\"].value_counts().index)\n",
    "\n",
    "    common_tlds = set(local_twitter_tld).intersection(local_reddit_tld)\n",
    "\n",
    "    sim = 0.0\n",
    "    if ( len(common_tlds) > 0 ):\n",
    "        local_sim = sklearn.metrics.pairwise.cosine_similarity(\n",
    "            links_to_norm_matrix(local_reddit_df, common_tlds, \"user_name\"), \n",
    "            links_to_norm_matrix(local_twitter_df, common_tlds, \"user_id\"))\n",
    "        sim = local_sim[0]\n",
    "        \n",
    "    print(\"%s & %d & %d & %d & %f \\\\\\\\\" % (u, len(local_reddit_tld), len(local_twitter_tld), len(common_tlds), sim))\n",
    "    "
   ]
  },
  {
   "cell_type": "code",
   "execution_count": null,
   "metadata": {},
   "outputs": [],
   "source": []
  }
 ],
 "metadata": {
  "kernelspec": {
   "display_name": "Python 3",
   "language": "python",
   "name": "python3"
  },
  "language_info": {
   "codemirror_mode": {
    "name": "ipython",
    "version": 3
   },
   "file_extension": ".py",
   "mimetype": "text/x-python",
   "name": "python",
   "nbconvert_exporter": "python",
   "pygments_lexer": "ipython3",
   "version": "3.6.5"
  }
 },
 "nbformat": 4,
 "nbformat_minor": 2
}
