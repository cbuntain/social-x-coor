{
 "cells": [
  {
   "cell_type": "markdown",
   "metadata": {},
   "source": [
    "# Compare Twitter and Reddit Populations\n",
    "\n",
    "## Restrict this analysis to the sharing of political content\n",
    "\n",
    "This script evaluates how similar subsets of Twitter and Reddit populations are within platform and across platform.\n",
    "The populations we test are:\n",
    "- Random US Twitter users active in 2015-2018\n",
    "    - Must have tweeted >= 100 times in this time frame\n",
    "- Politically engaged US Twitter users active in 2015-2018\n",
    "    - Must have tweeted >= 100 times in this time frame\n",
    "    - Must follow at least 5 politicians\n",
    "- IRA Twitter accounts identified by Twitter\n",
    "- Random Reddit accounts  active in 2015-2018\n",
    "    - Must have posted/commented >= 100 times in this time frame\n",
    "- Politically engaged Redditors  active in 2015-2018\n",
    "    - Must have posted/commented >= 100 times in subreddits /r/politics identifies as US-political in this time frame\n",
    "- IRA Reddit accounts identified by Reddit"
   ]
  },
  {
   "cell_type": "code",
   "execution_count": 1,
   "metadata": {},
   "outputs": [],
   "source": [
    "%matplotlib inline"
   ]
  },
  {
   "cell_type": "code",
   "execution_count": 2,
   "metadata": {},
   "outputs": [],
   "source": [
    "import json\n",
    "import time\n",
    "import string\n",
    "import datetime\n",
    "import matplotlib\n",
    "\n",
    "import scipy.stats\n",
    "\n",
    "import numpy as np\n",
    "import pandas as pd\n",
    "import statsmodels.api as sm\n",
    "\n",
    "import matplotlib.pyplot as plt"
   ]
  },
  {
   "cell_type": "code",
   "execution_count": 3,
   "metadata": {},
   "outputs": [],
   "source": [
    "import sklearn.preprocessing\n",
    "import sklearn.metrics"
   ]
  },
  {
   "cell_type": "code",
   "execution_count": 4,
   "metadata": {},
   "outputs": [],
   "source": [
    "from utils.youtube import strip_video_id_from_url"
   ]
  },
  {
   "cell_type": "code",
   "execution_count": null,
   "metadata": {},
   "outputs": [],
   "source": []
  },
  {
   "cell_type": "code",
   "execution_count": 5,
   "metadata": {},
   "outputs": [],
   "source": [
    "def convert_date(date):\n",
    "    return datetime.datetime.strptime(date, \"%a %b %d %H:%M:%S +0000 %Y\")\n",
    "\n",
    "def convert_time(timestamp):\n",
    "    created_time = timestamp\n",
    "    if ( isinstance(created_time, str) ):\n",
    "        created_time = int(created_time)\n",
    "        \n",
    "    d = datetime.datetime.utcfromtimestamp(created_time)\n",
    "    return d\n",
    "\n",
    "def get_top_tlds(links_df, user_id_field, top_n=100):\n",
    "    tld_user_counts = {}\n",
    "    for tld, group in links_df.groupby(\"tld\"):\n",
    "        local_users = set(group[user_id_field])\n",
    "        tld_user_counts[tld] = len(local_users)\n",
    "\n",
    "    return sorted(tld_user_counts, key=tld_user_counts.get, reverse=True)[:top_n]\n",
    "\n",
    "def links_df_to_shares(links_df, domains, user_id_field):\n",
    "    user_shares = []\n",
    "\n",
    "    for user,user_posts in links_df.groupby(user_id_field):\n",
    "        local_tld_counts = dict(user_posts[\"tld\"].value_counts().items())\n",
    "        local_vector = [local_tld_counts.get(x, 0) for x in domains]\n",
    "        user_shares.append([user] + local_vector)\n",
    "\n",
    "    return pd.DataFrame(user_shares, columns=[user_id_field] + domains)\n",
    "\n",
    "def links_to_norm_matrix(links_df, domains, user_id_field):\n",
    "    if ( type(domains) == set ):\n",
    "        domains = list(domains)\n",
    "        \n",
    "    shares_df = links_df_to_shares(links_df, domains, user_id_field)\n",
    "    return sklearn.preprocessing.normalize(shares_df[domains], norm=\"l2\", axis=1)\n",
    "\n",
    "def get_top_channels(yt_df, user_id_field, top_n=100):\n",
    "    channel_user_counts = {}\n",
    "    for channel, group in yt_df.groupby(\"channel_id\"):\n",
    "        local_users = set(group[user_id_field])\n",
    "        channel_user_counts[channel] = len(local_users)\n",
    "\n",
    "    return sorted(channel_user_counts, key=channel_user_counts.get, reverse=True)[:top_n]\n",
    "\n",
    "def channels_df_to_shares(links_df, channels, user_id_field):\n",
    "    user_shares = []\n",
    "\n",
    "    for user,user_posts in links_df.groupby(user_id_field):\n",
    "        local_chan_counts = dict(user_posts[\"channel_id\"].value_counts().items())\n",
    "        local_vector = [local_chan_counts.get(x, 0) for x in channels]\n",
    "        user_shares.append([user] + local_vector)\n",
    "\n",
    "    return pd.DataFrame(user_shares, columns=[user_id_field] + channels)\n",
    "\n",
    "def channels_to_norm_matrix(links_df, channels, user_id_field):\n",
    "    if ( type(channels) == set ):\n",
    "        channels = list(channels)\n",
    "        \n",
    "    shares_df = channels_df_to_shares(links_df, channels, user_id_field)\n",
    "    return sklearn.preprocessing.normalize(shares_df[channels], norm=\"l2\", axis=1)\n"
   ]
  },
  {
   "cell_type": "code",
   "execution_count": null,
   "metadata": {},
   "outputs": [],
   "source": []
  },
  {
   "cell_type": "code",
   "execution_count": 6,
   "metadata": {},
   "outputs": [
    {
     "name": "stdout",
     "output_type": "stream",
     "text": [
      "Political Domains: 145\n"
     ]
    }
   ],
   "source": [
    "political_domains_df = pd.read_csv(\"DomainIdeology.csv\")\n",
    "political_domains = set(political_domains_df[\"domain\"].apply(str.lower))\n",
    "print(\"Political Domains:\", len(political_domains))"
   ]
  },
  {
   "cell_type": "code",
   "execution_count": null,
   "metadata": {},
   "outputs": [],
   "source": []
  },
  {
   "cell_type": "code",
   "execution_count": 7,
   "metadata": {},
   "outputs": [],
   "source": [
    "bootstrap_count = 5000"
   ]
  },
  {
   "cell_type": "code",
   "execution_count": null,
   "metadata": {},
   "outputs": [],
   "source": []
  },
  {
   "cell_type": "code",
   "execution_count": 8,
   "metadata": {},
   "outputs": [],
   "source": [
    "short_domain_map = {\n",
    "    \"abcn.ws\": \"abcnews.go.com\",\n",
    "    \"amzn.to\": \"amazon.com\",\n",
    "    \"apne.ws\": \"apnews.com\",\n",
    "    \"apple.co\": \"apple.com\",\n",
    "    \"bbc.in\": \"bbc.com\",\n",
    "    \"ble.ac\": \"bleacherreport.com\",\n",
    "    \"bloom.bg\": \"bloomberg.com\",\n",
    "    \"bzfd.it\": \"buzzfeed.com\",\n",
    "    \"cbsloc.al\": \"cbslocal.com\",\n",
    "    \"cnb.cx\": \"cnbc.com\",\n",
    "    \"cnn.it\": \"cnn.com\",\n",
    "    \"cnn.it\": \"cnn.com\",\n",
    "    \"dailym.ai\" : \"dailymail.co.uk\",\n",
    "    \"econ.st\": \"economist.com\",\n",
    "    \"es.pn\": \"espn.com\",\n",
    "    \"fxn.ws\": \"foxnews.com\",\n",
    "    \"hill.cm\": \"thehill.com\",\n",
    "    \"huff.to\" : \"huffingtonpost.com\",\n",
    "    \"lat.ms\": \"latimes.com\",\n",
    "    \"lnkd.in\": \"linkedin.com\",\n",
    "    \"n.pr\": \"npr.org\",\n",
    "    \"nbcnews.to\": \"nbcnews.com\",\n",
    "    \"nydn.us\": \"nydailynews.com\",\n",
    "    \"nyp.st\": \"nypost.com\",\n",
    "    \"nyti.ms\": \"nytimes.com\",\n",
    "    \"on.rt.com\": \"rt.com\",\n",
    "    \"on.wsj.com\": \"wsj.com\",\n",
    "    \"politi.co\": \"politico.com\",\n",
    "    \"redd.it\": \"reddit.com\",\n",
    "    \"reut.rs\": \"reuters.com\",\n",
    "    \"thebea.st\": \"thedailybeast.com\",\n",
    "    \"ti.me\": \"time.com\",\n",
    "    \"tmblr.co\": \"tumblr.com\",\n",
    "    \"usat.ly\": \"usatoday.com\",\n",
    "    \"wapo.st\": \"washingtonpost.com\",\n",
    "    \"wp.me\": \"wordpress.com\",\n",
    "    \"wpo.st\": \"washingtonpost.com\",\n",
    "    \"yhoo.it\": \"yahoo.com\",\n",
    "    \"youtu.be\": \"youtube.com\",\n",
    "}"
   ]
  },
  {
   "cell_type": "code",
   "execution_count": null,
   "metadata": {},
   "outputs": [],
   "source": []
  },
  {
   "cell_type": "code",
   "execution_count": 9,
   "metadata": {},
   "outputs": [],
   "source": [
    "twitter_links_df_rand = pd.read_csv(\"twitter_random_us_sample_links.csv\",\n",
    "    converters={\"created_at\": convert_date})\n",
    "twitter_links_df_poli = pd.read_csv(\"twitter_political_us_sample_links.csv\",\n",
    "    converters={\"created_at\": convert_date})\n",
    "twitter_links_df_ira = pd.read_csv(\n",
    "    \"twitter_ira_links.csv\",\n",
    "    converters={\"created_at\": lambda x: datetime.datetime.strptime(x, \"%Y-%m-%d %H:%M:%S\")}\n",
    ")"
   ]
  },
  {
   "cell_type": "code",
   "execution_count": 10,
   "metadata": {},
   "outputs": [],
   "source": [
    "twitter_links_df_rand[\"tld\"] = twitter_links_df_rand[\"tld\"].apply(lambda x: short_domain_map.get(x, x))\n",
    "twitter_links_df_poli[\"tld\"] = twitter_links_df_poli[\"tld\"].apply(lambda x: short_domain_map.get(x, x))\n",
    "twitter_links_df_ira[\"tld\"] = twitter_links_df_ira[\"tld\"].apply(lambda x: short_domain_map.get(x, x))"
   ]
  },
  {
   "cell_type": "code",
   "execution_count": null,
   "metadata": {},
   "outputs": [],
   "source": []
  },
  {
   "cell_type": "code",
   "execution_count": 11,
   "metadata": {},
   "outputs": [],
   "source": [
    "reddit_links_df_rand = pd.read_csv(\"reddit_random_links.csv\",\n",
    "    converters={\"created_at\": convert_time})\n",
    "reddit_links_df_poli = pd.read_csv(\"reddit_political_links.csv\",\n",
    "    converters={\"created_at\": convert_time})\n",
    "reddit_links_df_ira = pd.read_csv(\"reddit_troll_links.csv\",\n",
    "    converters={\"created_at\": convert_time}\n",
    ")"
   ]
  },
  {
   "cell_type": "code",
   "execution_count": 12,
   "metadata": {},
   "outputs": [],
   "source": [
    "reddit_links_df_rand[\"tld\"] = reddit_links_df_rand[\"tld\"].apply(lambda x: short_domain_map.get(x, x))\n",
    "reddit_links_df_poli[\"tld\"] = reddit_links_df_poli[\"tld\"].apply(lambda x: short_domain_map.get(x, x))\n",
    "reddit_links_df_ira[\"tld\"] = reddit_links_df_ira[\"tld\"].apply(lambda x: short_domain_map.get(x, x))"
   ]
  },
  {
   "cell_type": "code",
   "execution_count": null,
   "metadata": {},
   "outputs": [],
   "source": []
  },
  {
   "cell_type": "code",
   "execution_count": 13,
   "metadata": {},
   "outputs": [
    {
     "data": {
      "image/png": "[encoded data removed]",
      "text/plain": [
       "<Figure size 432x288 with 1 Axes>"
      ]
     },
     "metadata": {},
     "output_type": "display_data"
    },
    {
     "data": {
      "image/png": "[encoded data removed]",
      "text/plain": [
       "<Figure size 432x288 with 1 Axes>"
      ]
     },
     "metadata": {},
     "output_type": "display_data"
    }
   ],
   "source": [
    "twitter_user_links_mat_rand = links_to_norm_matrix(twitter_links_df_rand, political_domains, \"user_id\")\n",
    "twitter_user_links_mat_poli = links_to_norm_matrix(twitter_links_df_poli, political_domains, \"user_id\")\n",
    "twitter_user_links_mat_ira = links_to_norm_matrix(twitter_links_df_ira, political_domains, \"user_id\")\n",
    "\n",
    "# Calculate pairwise similarity among users across populations\n",
    "t2t_rand_rand_sim = sklearn.metrics.pairwise.cosine_similarity(twitter_user_links_mat_rand, twitter_user_links_mat_rand)\n",
    "t2t_poli_poli_sim = sklearn.metrics.pairwise.cosine_similarity(twitter_user_links_mat_poli, twitter_user_links_mat_poli)\n",
    "t2t_ira_ira_sim = sklearn.metrics.pairwise.cosine_similarity(twitter_user_links_mat_ira, twitter_user_links_mat_ira)\n",
    "\n",
    "t2t_ira_rand_sim = sklearn.metrics.pairwise.cosine_similarity(\n",
    "    links_to_norm_matrix(twitter_links_df_ira, political_domains, \"user_id\"), \n",
    "    links_to_norm_matrix(twitter_links_df_rand, political_domains, \"user_id\"))\n",
    "t2t_ira_poli_sim = sklearn.metrics.pairwise.cosine_similarity(\n",
    "    links_to_norm_matrix(twitter_links_df_ira, political_domains, \"user_id\"), \n",
    "    links_to_norm_matrix(twitter_links_df_poli, political_domains, \"user_id\"))\n",
    "t2t_rand_poli_sim = sklearn.metrics.pairwise.cosine_similarity(\n",
    "    links_to_norm_matrix(twitter_links_df_rand, political_domains, \"user_id\"), \n",
    "    links_to_norm_matrix(twitter_links_df_poli, political_domains, \"user_id\"))\n",
    "\n",
    "# Collapse similarities down to get the mean similarity for each user on the left to all users on the right\n",
    "#. note the minus 1 and reduction of shape by 1 for the within-platform groups, which I do to remove the \n",
    "#. self-similarity effect\n",
    "t2t_rand_rand_sim_avg = (np.sum(t2t_rand_rand_sim, axis=1) - 1) / (twitter_user_links_mat_rand.shape[0] - 1)\n",
    "t2t_poli_poli_sim_avg = (np.sum(t2t_poli_poli_sim, axis=1) - 1) / (twitter_user_links_mat_poli.shape[0] - 1)\n",
    "t2t_ira_ira_sim_avg = (np.sum(t2t_ira_ira_sim, axis=1) - 1) / (twitter_user_links_mat_ira.shape[0] - 1)\n",
    "t2t_ira_rand_sim_avg = np.mean(t2t_ira_rand_sim, axis=1)\n",
    "t2t_ira_poli_sim_avg = np.mean(t2t_ira_poli_sim, axis=1)\n",
    "t2t_ira_ira_sim_avg = np.mean(t2t_ira_ira_sim, axis=1)\n",
    "t2t_rand_poli_sim_avg = np.mean(t2t_rand_poli_sim, axis=1)\n",
    "\n",
    "# Show similarity distribution within populations in this platform\n",
    "t2t_rand_rand_sim_avg_bootstrap = [sklearn.utils.resample(t2t_rand_rand_sim_avg, replace=True, n_samples=t2t_rand_rand_sim_avg.shape[0]).mean() for i in range(bootstrap_count)]\n",
    "t2t_poli_poli_sim_avg_bootstrap = [sklearn.utils.resample(t2t_poli_poli_sim_avg, replace=True, n_samples=t2t_poli_poli_sim_avg.shape[0]).mean() for i in range(bootstrap_count)]\n",
    "t2t_ira_ira_sim_avg_bootstrap = [sklearn.utils.resample(t2t_ira_ira_sim_avg, replace=True, n_samples=t2t_ira_ira_sim_avg.shape[0]).mean() for i in range(bootstrap_count)]\n",
    "\n",
    "plt.hist(t2t_rand_rand_sim_avg_bootstrap, bins=20, density=True, alpha=0.35, label=\"rand-rand\")\n",
    "plt.hist(t2t_poli_poli_sim_avg_bootstrap, bins=20, density=True, alpha=0.35, label=\"poli-poli\")\n",
    "plt.hist(t2t_ira_ira_sim_avg_bootstrap, bins=20, density=True, alpha=0.35, label=\"ira-ira\")\n",
    "\n",
    "plt.title(\"Within-Population Similarity\")\n",
    "plt.legend()\n",
    "plt.show()\n",
    "\n",
    "# Show similarity distribution across populations in this platform\n",
    "t2t_ira_rand_sim_avg_bootstrap = [sklearn.utils.resample(t2t_ira_rand_sim_avg, replace=True, n_samples=t2t_ira_rand_sim_avg.shape[0]).mean() for i in range(bootstrap_count)]\n",
    "t2t_ira_poli_sim_avg_bootstrap = [sklearn.utils.resample(t2t_ira_poli_sim_avg, replace=True, n_samples=t2t_ira_poli_sim_avg.shape[0]).mean() for i in range(bootstrap_count)]\n",
    "t2t_ira_ira_sim_avg_bootstrap = [sklearn.utils.resample(t2t_ira_ira_sim_avg, replace=True, n_samples=t2t_ira_ira_sim_avg.shape[0]).mean() for i in range(bootstrap_count)]\n",
    "\n",
    "plt.hist(t2t_ira_rand_sim_avg_bootstrap, bins=20, density=True, alpha=0.35, label=\"ira-rand\")\n",
    "plt.hist(t2t_ira_poli_sim_avg_bootstrap, bins=20, density=True, alpha=0.35, label=\"ira-poli\")\n",
    "plt.hist(t2t_ira_ira_sim_avg_bootstrap, bins=20, density=True, alpha=0.35, label=\"ira-ira\")\n",
    "\n",
    "plt.title(\"Across-Population Similarity\")\n",
    "plt.legend()\n",
    "plt.show()"
   ]
  },
  {
   "cell_type": "code",
   "execution_count": 14,
   "metadata": {},
   "outputs": [
    {
     "name": "stdout",
     "output_type": "stream",
     "text": [
      "Random: 0.03319582131757208 3.565801997085642e-07\n",
      "Political: 0.18859678973270796 1.989976063518956e-06\n",
      "Russian IRA: 0.04703579201107927 1.5743112642330297e-06\n"
     ]
    }
   ],
   "source": [
    "print(\"Random:\", np.array(t2t_rand_rand_sim_avg_bootstrap).mean(), np.array(t2t_rand_rand_sim_avg_bootstrap).var())\n",
    "print(\"Political:\", np.array(t2t_poli_poli_sim_avg_bootstrap).mean(), np.array(t2t_poli_poli_sim_avg_bootstrap).var())\n",
    "print(\"Russian IRA:\", np.array(t2t_ira_ira_sim_avg_bootstrap).mean(), np.array(t2t_ira_ira_sim_avg_bootstrap).var())\n"
   ]
  },
  {
   "cell_type": "code",
   "execution_count": null,
   "metadata": {},
   "outputs": [],
   "source": []
  },
  {
   "cell_type": "code",
   "execution_count": 15,
   "metadata": {},
   "outputs": [
    {
     "name": "stdout",
     "output_type": "stream",
     "text": [
      "Random-Random: 0.03319582131757208 3.565801997085642e-07\n",
      "Russian IRA-Random: 0.032873623262569006 7.866783722951091e-07\n",
      "Russian IRA-Political: 0.07422925334659246 4.057517429217427e-06\n"
     ]
    }
   ],
   "source": [
    "print(\"Random-Random:\", np.array(t2t_rand_rand_sim_avg_bootstrap).mean(), np.array(t2t_rand_rand_sim_avg_bootstrap).var())\n",
    "print(\"Russian IRA-Random:\", np.array(t2t_ira_rand_sim_avg_bootstrap).mean(), np.array(t2t_ira_rand_sim_avg_bootstrap).var())\n",
    "print(\"Russian IRA-Political:\", np.array(t2t_ira_poli_sim_avg_bootstrap).mean(), np.array(t2t_ira_poli_sim_avg_bootstrap).var())\n"
   ]
  },
  {
   "cell_type": "code",
   "execution_count": null,
   "metadata": {},
   "outputs": [],
   "source": []
  },
  {
   "cell_type": "code",
   "execution_count": 20,
   "metadata": {},
   "outputs": [
    {
     "data": {
      "image/png": "[encoded data removed]",
      "text/plain": [
       "<Figure size 432x288 with 1 Axes>"
      ]
     },
     "metadata": {},
     "output_type": "display_data"
    }
   ],
   "source": [
    "plt.hist(t2t_rand_rand_sim_avg_bootstrap, bins=20, density=True, alpha=0.35, label=\"Random-Random\")\n",
    "plt.hist(t2t_ira_rand_sim_avg_bootstrap, bins=20, density=True, alpha=0.35, label=\"Russian IRA-Random\")\n",
    "plt.hist(t2t_ira_poli_sim_avg_bootstrap, bins=20, density=True, alpha=0.35, label=\"Russian IRA-Political\")\n",
    "\n",
    "plt.title(\"Within-Twitter Similarity\")\n",
    "plt.legend()\n",
    "plt.grid()\n",
    "plt.show()"
   ]
  },
  {
   "cell_type": "code",
   "execution_count": 21,
   "metadata": {},
   "outputs": [
    {
     "name": "stdout",
     "output_type": "stream",
     "text": [
      "p-value for ANOVA: 0.0 1631225.6419126347\n",
      "p-value for Welch's t-Test between IRA-Rand and IRA-Poli: 0.0 -1328.511646151757\n"
     ]
    }
   ],
   "source": [
    "# Test whether the within-group similarities across the three populations are equal\n",
    "f_stat, p_val = scipy.stats.f_oneway(\n",
    "    t2t_rand_rand_sim_avg_bootstrap, \n",
    "    t2t_ira_rand_sim_avg_bootstrap, \n",
    "    t2t_ira_poli_sim_avg_bootstrap)\n",
    "print(\"p-value for ANOVA:\", p_val, f_stat)\n",
    "\n",
    "t_stat, p_val = scipy.stats.ttest_ind(\n",
    "    t2t_ira_rand_sim_avg_bootstrap, \n",
    "    t2t_ira_poli_sim_avg_bootstrap, \n",
    "    axis=0, equal_var=False)\n",
    "print(\"p-value for Welch's t-Test between IRA-Rand and IRA-Poli:\", p_val, t_stat)"
   ]
  },
  {
   "cell_type": "code",
   "execution_count": null,
   "metadata": {},
   "outputs": [],
   "source": []
  },
  {
   "cell_type": "code",
   "execution_count": 22,
   "metadata": {},
   "outputs": [
    {
     "data": {
      "image/png": "[encoded data removed]",
      "text/plain": [
       "<Figure size 432x288 with 1 Axes>"
      ]
     },
     "metadata": {},
     "output_type": "display_data"
    },
    {
     "data": {
      "image/png": "[encoded data removed]",
      "text/plain": [
       "<Figure size 432x288 with 1 Axes>"
      ]
     },
     "metadata": {},
     "output_type": "display_data"
    }
   ],
   "source": [
    "reddit_user_links_mat_rand = links_to_norm_matrix(reddit_links_df_rand, political_domains, \"user_name\")\n",
    "reddit_user_links_mat_poli = links_to_norm_matrix(reddit_links_df_poli, political_domains, \"user_name\")\n",
    "reddit_user_links_mat_ira = links_to_norm_matrix(reddit_links_df_ira, political_domains, \"user_name\")\n",
    "\n",
    "# Calculate pairwise similarity among users across populations\n",
    "r2r_rand_rand_sim = sklearn.metrics.pairwise.cosine_similarity(reddit_user_links_mat_rand, reddit_user_links_mat_rand)\n",
    "r2r_poli_poli_sim = sklearn.metrics.pairwise.cosine_similarity(reddit_user_links_mat_poli, reddit_user_links_mat_poli)\n",
    "r2r_ira_ira_sim = sklearn.metrics.pairwise.cosine_similarity(reddit_user_links_mat_ira, reddit_user_links_mat_ira)\n",
    "\n",
    "r2r_ira_rand_sim = sklearn.metrics.pairwise.cosine_similarity(\n",
    "    links_to_norm_matrix(reddit_links_df_ira, political_domains, \"user_name\"), \n",
    "    links_to_norm_matrix(reddit_links_df_rand, political_domains, \"user_name\"))\n",
    "r2r_ira_poli_sim = sklearn.metrics.pairwise.cosine_similarity(\n",
    "    links_to_norm_matrix(reddit_links_df_ira, political_domains, \"user_name\"), \n",
    "    links_to_norm_matrix(reddit_links_df_poli, political_domains, \"user_name\"))\n",
    "r2r_rand_poli_sim = sklearn.metrics.pairwise.cosine_similarity(\n",
    "    links_to_norm_matrix(reddit_links_df_rand, political_domains, \"user_name\"), \n",
    "    links_to_norm_matrix(reddit_links_df_poli, political_domains, \"user_name\"))\n",
    "\n",
    "# Collapse similarities down to get the mean similarity for each user on the left to all users on the right\n",
    "#. note the minus 1 and reduction of shape by 1 for the within-platform groups, which I do to remove the \n",
    "#. self-similarity effect\n",
    "r2r_rand_rand_sim_avg = (np.sum(r2r_rand_rand_sim, axis=1) - 1) / (reddit_user_links_mat_rand.shape[0] - 1)\n",
    "r2r_poli_poli_sim_avg = (np.sum(r2r_poli_poli_sim, axis=1) - 1) / (reddit_user_links_mat_poli.shape[0] - 1)\n",
    "r2r_ira_ira_sim_avg = (np.sum(r2r_ira_ira_sim, axis=1) - 1) / (reddit_user_links_mat_ira.shape[0] - 1)\n",
    "r2r_ira_rand_sim_avg = np.mean(r2r_ira_rand_sim, axis=1)\n",
    "r2r_ira_poli_sim_avg = np.mean(r2r_ira_poli_sim, axis=1)\n",
    "r2r_ira_ira_sim_avg = np.mean(r2r_ira_ira_sim, axis=1)\n",
    "r2r_rand_poli_sim_avg = np.mean(r2r_rand_poli_sim, axis=1)\n",
    "\n",
    "# Show similarity distribution within populations in this platform\n",
    "r2r_rand_rand_sim_avg_bootstrap = [sklearn.utils.resample(r2r_rand_rand_sim_avg, replace=True, n_samples=r2r_rand_rand_sim_avg.shape[0]).mean() for i in range(bootstrap_count)]\n",
    "r2r_poli_poli_sim_avg_bootstrap = [sklearn.utils.resample(r2r_poli_poli_sim_avg, replace=True, n_samples=r2r_poli_poli_sim_avg.shape[0]).mean() for i in range(bootstrap_count)]\n",
    "r2r_ira_ira_sim_avg_bootstrap = [sklearn.utils.resample(r2r_ira_ira_sim_avg, replace=True, n_samples=r2r_ira_ira_sim_avg.shape[0]).mean() for i in range(bootstrap_count)]\n",
    "\n",
    "plt.hist(r2r_rand_rand_sim_avg_bootstrap, bins=20, density=True, alpha=0.35, label=\"rand-rand\")\n",
    "plt.hist(r2r_poli_poli_sim_avg_bootstrap, bins=20, density=True, alpha=0.35, label=\"poli-poli\")\n",
    "plt.hist(r2r_ira_ira_sim_avg_bootstrap, bins=20, density=True, alpha=0.35, label=\"ira-ira\")\n",
    "\n",
    "plt.title(\"Within-Population Similarity\")\n",
    "plt.legend()\n",
    "plt.show()\n",
    "\n",
    "# Show similarity distribution across populations in this platform\n",
    "r2r_ira_rand_sim_avg_bootstrap = [sklearn.utils.resample(r2r_ira_rand_sim_avg, replace=True, n_samples=r2r_ira_rand_sim_avg.shape[0]).mean() for i in range(bootstrap_count)]\n",
    "r2r_ira_poli_sim_avg_bootstrap = [sklearn.utils.resample(r2r_ira_poli_sim_avg, replace=True, n_samples=r2r_ira_poli_sim_avg.shape[0]).mean() for i in range(bootstrap_count)]\n",
    "r2r_ira_ira_sim_avg_bootstrap = [sklearn.utils.resample(r2r_ira_ira_sim_avg, replace=True, n_samples=r2r_ira_ira_sim_avg.shape[0]).mean() for i in range(bootstrap_count)]\n",
    "\n",
    "plt.hist(r2r_ira_rand_sim_avg_bootstrap, bins=20, density=True, alpha=0.35, label=\"ira-rand\")\n",
    "plt.hist(r2r_ira_poli_sim_avg_bootstrap, bins=20, density=True, alpha=0.35, label=\"ira-poli\")\n",
    "plt.hist(r2r_ira_ira_sim_avg_bootstrap, bins=20, density=True, alpha=0.35, label=\"ira-ira\")\n",
    "\n",
    "plt.title(\"Across-Population Similarity\")\n",
    "plt.legend()\n",
    "plt.show()"
   ]
  },
  {
   "cell_type": "code",
   "execution_count": 23,
   "metadata": {},
   "outputs": [
    {
     "name": "stdout",
     "output_type": "stream",
     "text": [
      "Random: 0.0005671690976958448 2.2814732844769146e-09\n",
      "Political: 0.02327055747483294 2.209898155235904e-07\n",
      "Russian IRA: 0.0045691645476287224 4.029179803068467e-07\n"
     ]
    }
   ],
   "source": [
    "print(\"Random:\", np.array(r2r_rand_rand_sim_avg_bootstrap).mean(), np.array(r2r_rand_rand_sim_avg_bootstrap).var())\n",
    "print(\"Political:\", np.array(r2r_poli_poli_sim_avg_bootstrap).mean(), np.array(r2r_poli_poli_sim_avg_bootstrap).var())\n",
    "print(\"Russian IRA:\", np.array(r2r_ira_ira_sim_avg_bootstrap).mean(), np.array(r2r_ira_ira_sim_avg_bootstrap).var())\n"
   ]
  },
  {
   "cell_type": "code",
   "execution_count": null,
   "metadata": {},
   "outputs": [],
   "source": []
  },
  {
   "cell_type": "code",
   "execution_count": 24,
   "metadata": {},
   "outputs": [
    {
     "name": "stdout",
     "output_type": "stream",
     "text": [
      "Random-Random: 0.0005671690976958448 2.2814732844769146e-09\n",
      "Russian IRA-Random: 0.0015310091035207545 5.8932856006858025e-08\n",
      "Russian IRA-Political: 0.008389316117803997 1.6287264924779783e-06\n"
     ]
    }
   ],
   "source": [
    "print(\"Random-Random:\", np.array(r2r_rand_rand_sim_avg_bootstrap).mean(), np.array(r2r_rand_rand_sim_avg_bootstrap).var())\n",
    "print(\"Russian IRA-Random:\", np.array(r2r_ira_rand_sim_avg_bootstrap).mean(), np.array(r2r_ira_rand_sim_avg_bootstrap).var())\n",
    "print(\"Russian IRA-Political:\", np.array(r2r_ira_poli_sim_avg_bootstrap).mean(), np.array(r2r_ira_poli_sim_avg_bootstrap).var())\n"
   ]
  },
  {
   "cell_type": "code",
   "execution_count": null,
   "metadata": {},
   "outputs": [],
   "source": []
  },
  {
   "cell_type": "code",
   "execution_count": 25,
   "metadata": {},
   "outputs": [
    {
     "data": {
      "image/png": "[encoded data removed]",
      "text/plain": [
       "<Figure size 432x288 with 1 Axes>"
      ]
     },
     "metadata": {},
     "output_type": "display_data"
    }
   ],
   "source": [
    "plt.hist(r2r_rand_rand_sim_avg_bootstrap, bins=20, density=True, alpha=0.35, label=\"Random-Random\")\n",
    "plt.hist(r2r_ira_rand_sim_avg_bootstrap, bins=20, density=True, alpha=0.35, label=\"Russian IRA-Random\")\n",
    "plt.hist(r2r_ira_poli_sim_avg_bootstrap, bins=20, density=True, alpha=0.35, label=\"Russian IRA-Political\")\n",
    "\n",
    "plt.title(\"Within-Reddit Similarity\")\n",
    "plt.legend()\n",
    "plt.grid()\n",
    "plt.show()"
   ]
  },
  {
   "cell_type": "code",
   "execution_count": 26,
   "metadata": {},
   "outputs": [
    {
     "name": "stdout",
     "output_type": "stream",
     "text": [
      "p-value for ANOVA: 0.0 161439.84894038283\n",
      "p-value for Welch's t-Test between IRA-Rand and IRA-Poli: 0.0 -373.2639917727016\n"
     ]
    }
   ],
   "source": [
    "# Test whether the within-group similarities across the three populations are equal\n",
    "f_stat, p_val = scipy.stats.f_oneway(\n",
    "    r2r_rand_rand_sim_avg_bootstrap, \n",
    "    r2r_ira_rand_sim_avg_bootstrap, \n",
    "    r2r_ira_poli_sim_avg_bootstrap)\n",
    "print(\"p-value for ANOVA:\", p_val, f_stat)\n",
    "\n",
    "t_stat, p_val = scipy.stats.ttest_ind(\n",
    "    r2r_ira_rand_sim_avg_bootstrap, \n",
    "    r2r_ira_poli_sim_avg_bootstrap, \n",
    "    axis=0, equal_var=False)\n",
    "print(\"p-value for Welch's t-Test between IRA-Rand and IRA-Poli:\", p_val, t_stat)"
   ]
  },
  {
   "cell_type": "code",
   "execution_count": null,
   "metadata": {},
   "outputs": [],
   "source": []
  },
  {
   "cell_type": "code",
   "execution_count": 27,
   "metadata": {},
   "outputs": [
    {
     "data": {
      "image/png": "[encoded data removed]",
      "text/plain": [
       "<Figure size 432x288 with 1 Axes>"
      ]
     },
     "metadata": {},
     "output_type": "display_data"
    },
    {
     "data": {
      "image/png": "[encoded data removed]",
      "text/plain": [
       "<Figure size 432x288 with 1 Axes>"
      ]
     },
     "metadata": {},
     "output_type": "display_data"
    },
    {
     "data": {
      "image/png": "[encoded data removed]",
      "text/plain": [
       "<Figure size 432x288 with 1 Axes>"
      ]
     },
     "metadata": {},
     "output_type": "display_data"
    }
   ],
   "source": [
    "plt.imshow(reddit_user_links_mat_rand.T)\n",
    "plt.show()\n",
    "plt.imshow(reddit_user_links_mat_poli.T)\n",
    "plt.show()\n",
    "plt.imshow(reddit_user_links_mat_ira.T)\n",
    "plt.show()"
   ]
  },
  {
   "cell_type": "code",
   "execution_count": null,
   "metadata": {},
   "outputs": [],
   "source": []
  },
  {
   "cell_type": "code",
   "execution_count": 28,
   "metadata": {},
   "outputs": [
    {
     "data": {
      "image/png": "[encoded data removed]",
      "text/plain": [
       "<Figure size 432x288 with 1 Axes>"
      ]
     },
     "metadata": {},
     "output_type": "display_data"
    }
   ],
   "source": [
    "\n",
    "r2t_rand_sim = sklearn.metrics.pairwise.cosine_similarity(\n",
    "    links_to_norm_matrix(reddit_links_df_rand, political_domains, \"user_name\"), \n",
    "    links_to_norm_matrix(twitter_links_df_rand, political_domains, \"user_id\"))\n",
    "r2t_poli_sim = sklearn.metrics.pairwise.cosine_similarity(\n",
    "    links_to_norm_matrix(reddit_links_df_poli, political_domains, \"user_name\"), \n",
    "    links_to_norm_matrix(twitter_links_df_poli, political_domains, \"user_id\"))\n",
    "r2t_ira_sim = sklearn.metrics.pairwise.cosine_similarity(\n",
    "    links_to_norm_matrix(reddit_links_df_ira, political_domains, \"user_name\"), \n",
    "    links_to_norm_matrix(twitter_links_df_ira, political_domains, \"user_id\"))\n",
    "\n",
    "# Collapse similarities down to get the mean similarity for each user on the left to all users on the right\n",
    "r2t_rand_sim_avg = np.mean(r2t_rand_sim, axis=1)\n",
    "r2t_poli_sim_avg = np.mean(r2t_poli_sim, axis=1)\n",
    "r2t_ira_sim_avg = np.mean(r2t_ira_sim, axis=1)\n",
    "\n",
    "# Show similarity distribution within populations in this platform\n",
    "r2t_rand_sim_avg_bootstrap = [sklearn.utils.resample(r2t_rand_sim_avg, replace=True, n_samples=r2t_rand_sim_avg.shape[0]).mean() for i in range(bootstrap_count)]\n",
    "r2t_poli_sim_avg_bootstrap = [sklearn.utils.resample(r2t_poli_sim_avg, replace=True, n_samples=r2t_poli_sim_avg.shape[0]).mean() for i in range(bootstrap_count)]\n",
    "r2t_ira_sim_avg_bootstrap = [sklearn.utils.resample(r2t_ira_sim_avg, replace=True, n_samples=r2t_ira_sim_avg.shape[0]).mean() for i in range(bootstrap_count)]\n",
    "\n",
    "plt.hist(r2t_rand_sim_avg_bootstrap, bins=20, density=True, alpha=0.35, label=\"Random R2T\")\n",
    "plt.hist(r2t_poli_sim_avg_bootstrap, bins=20, density=True, alpha=0.35, label=\"Political R2T\")\n",
    "plt.hist(r2t_ira_sim_avg_bootstrap, bins=20, density=True, alpha=0.35, label=\"IRA R2T\")\n",
    "\n",
    "plt.title(\"Within-Population, Across-Platform Similarity\")\n",
    "plt.legend()\n",
    "plt.show()\n"
   ]
  },
  {
   "cell_type": "code",
   "execution_count": 29,
   "metadata": {},
   "outputs": [
    {
     "name": "stdout",
     "output_type": "stream",
     "text": [
      "Random-R2T: 0.0045585611078933904 7.393478323046608e-08\n",
      "Political-R2T: 0.062344553032771435 1.6977119870974406e-06\n",
      "Russian IRA-R2T: 0.012359050029375979 3.953400967784743e-06\n"
     ]
    }
   ],
   "source": [
    "print(\"Random-R2T:\", np.array(r2t_rand_sim_avg_bootstrap).mean(), np.array(r2t_rand_sim_avg_bootstrap).var())\n",
    "print(\"Political-R2T:\", np.array(r2t_poli_sim_avg_bootstrap).mean(), np.array(r2t_poli_sim_avg_bootstrap).var())\n",
    "print(\"Russian IRA-R2T:\", np.array(r2t_ira_sim_avg_bootstrap).mean(), np.array(r2t_ira_sim_avg_bootstrap).var())\n"
   ]
  },
  {
   "cell_type": "code",
   "execution_count": null,
   "metadata": {},
   "outputs": [],
   "source": []
  },
  {
   "cell_type": "code",
   "execution_count": 31,
   "metadata": {},
   "outputs": [
    {
     "name": "stdout",
     "output_type": "stream",
     "text": [
      "Russian IRA-R2T: 0.012359050029375979 3.953400967784743e-06\n",
      "Russian IRA-RRandom: 0.0015310091035207545 5.8932856006858025e-08\n",
      "Russian IRA-RPoli: 0.008389316117803997 1.6287264924779783e-06\n"
     ]
    }
   ],
   "source": [
    "print(\"Russian IRA-R2T:\", np.array(r2t_ira_sim_avg_bootstrap).mean(), np.array(r2t_ira_sim_avg_bootstrap).var())\n",
    "print(\"Russian IRA-RRandom:\", np.array(r2r_ira_rand_sim_avg_bootstrap).mean(), np.array(r2r_ira_rand_sim_avg_bootstrap).var())\n",
    "print(\"Russian IRA-RPoli:\", np.array(r2r_ira_poli_sim_avg_bootstrap).mean(), np.array(r2r_ira_poli_sim_avg_bootstrap).var())\n"
   ]
  },
  {
   "cell_type": "code",
   "execution_count": null,
   "metadata": {},
   "outputs": [],
   "source": []
  },
  {
   "cell_type": "code",
   "execution_count": 32,
   "metadata": {},
   "outputs": [
    {
     "data": {
      "image/png": "[encoded data removed]",
      "text/plain": [
       "<Figure size 432x288 with 1 Axes>"
      ]
     },
     "metadata": {},
     "output_type": "display_data"
    }
   ],
   "source": [
    "plt.hist(r2t_ira_sim_avg_bootstrap, bins=20, density=True, alpha=0.35, label=\"Russian IRA Reddit-Twitter\")\n",
    "plt.hist(r2r_ira_rand_sim_avg_bootstrap, bins=20, density=True, alpha=0.35, label=\"Russian IRA-Random\")\n",
    "plt.hist(r2r_ira_poli_sim_avg_bootstrap, bins=20, density=True, alpha=0.35, label=\"Russian IRA-Political\")\n",
    "\n",
    "plt.title(\"Reddit-to-Twitter Similarity\")\n",
    "plt.legend()\n",
    "plt.grid()\n",
    "plt.show()"
   ]
  },
  {
   "cell_type": "code",
   "execution_count": null,
   "metadata": {},
   "outputs": [],
   "source": []
  },
  {
   "cell_type": "code",
   "execution_count": 43,
   "metadata": {},
   "outputs": [
    {
     "name": "stdout",
     "output_type": "stream",
     "text": [
      "p-value for ANOVA: 0.0 79774.72952963365\n",
      "p-value for Welch's t-Test between Twitter-Reddit and IRA-Rand: 0.0 382.20197551815085\n",
      "p-value for Welch's t-Test between Twitter-Reddit and IRA-Poli: 0.0 118.7963483737694\n"
     ]
    }
   ],
   "source": [
    "# Test whether the within-group similarities across the three populations are equal\n",
    "f_stat, p_val = scipy.stats.f_oneway(\n",
    "    r2t_ira_sim_avg_bootstrap, \n",
    "    r2r_ira_rand_sim_avg_bootstrap, \n",
    "    r2r_ira_poli_sim_avg_bootstrap)\n",
    "print(\"p-value for ANOVA:\", p_val, f_stat)\n",
    "\n",
    "t_stat, p_val = scipy.stats.ttest_ind(\n",
    "    r2t_ira_sim_avg_bootstrap, \n",
    "    r2r_ira_rand_sim_avg_bootstrap, \n",
    "    axis=0, equal_var=False)\n",
    "print(\"p-value for Welch's t-Test between Twitter-Reddit and IRA-Rand:\", p_val, t_stat)\n",
    "\n",
    "t_stat, p_val = scipy.stats.ttest_ind(\n",
    "    r2t_ira_sim_avg_bootstrap,\n",
    "    r2r_ira_poli_sim_avg_bootstrap, \n",
    "    axis=0, equal_var=False)\n",
    "print(\"p-value for Welch's t-Test between Twitter-Reddit and IRA-Poli:\", p_val, t_stat)"
   ]
  },
  {
   "cell_type": "code",
   "execution_count": null,
   "metadata": {},
   "outputs": [],
   "source": []
  },
  {
   "cell_type": "code",
   "execution_count": 33,
   "metadata": {},
   "outputs": [
    {
     "data": {
      "image/png": "[encoded data removed]",
      "text/plain": [
       "<Figure size 432x288 with 1 Axes>"
      ]
     },
     "metadata": {},
     "output_type": "display_data"
    }
   ],
   "source": [
    "t2r_rand_sim = sklearn.metrics.pairwise.cosine_similarity(\n",
    "    links_to_norm_matrix(twitter_links_df_rand, political_domains, \"user_id\"), \n",
    "    links_to_norm_matrix(reddit_links_df_rand, political_domains, \"user_name\"))\n",
    "t2r_poli_sim = sklearn.metrics.pairwise.cosine_similarity(\n",
    "    links_to_norm_matrix(twitter_links_df_poli, political_domains, \"user_id\"), \n",
    "    links_to_norm_matrix(reddit_links_df_poli, political_domains, \"user_name\"))\n",
    "t2r_ira_sim = sklearn.metrics.pairwise.cosine_similarity(\n",
    "    links_to_norm_matrix(twitter_links_df_ira, political_domains, \"user_id\"), \n",
    "    links_to_norm_matrix(reddit_links_df_ira, political_domains, \"user_name\"))\n",
    "\n",
    "# Collapse similarities down to get the mean similarity for each user on the left to all users on the right\n",
    "t2r_rand_sim_avg = np.mean(t2r_rand_sim, axis=1)\n",
    "t2r_poli_sim_avg = np.mean(t2r_poli_sim, axis=1)\n",
    "t2r_ira_sim_avg = np.mean(t2r_ira_sim, axis=1)\n",
    "\n",
    "# Show similarity distribution within populations in this platform\n",
    "t2r_rand_sim_avg_bootstrap = [sklearn.utils.resample(t2r_rand_sim_avg, replace=True, n_samples=t2r_rand_sim_avg.shape[0]).mean() for i in range(bootstrap_count)]\n",
    "t2r_poli_sim_avg_bootstrap = [sklearn.utils.resample(t2r_poli_sim_avg, replace=True, n_samples=t2r_poli_sim_avg.shape[0]).mean() for i in range(bootstrap_count)]\n",
    "t2r_ira_sim_avg_bootstrap = [sklearn.utils.resample(t2r_ira_sim_avg, replace=True, n_samples=t2r_ira_sim_avg.shape[0]).mean() for i in range(bootstrap_count)]\n",
    "\n",
    "plt.hist(t2r_rand_sim_avg_bootstrap, bins=20, density=True, alpha=0.35, label=\"Random R2T\")\n",
    "plt.hist(t2r_poli_sim_avg_bootstrap, bins=20, density=True, alpha=0.35, label=\"Political R2T\")\n",
    "plt.hist(t2r_ira_sim_avg_bootstrap, bins=20, density=True, alpha=0.35, label=\"IRA R2T\")\n",
    "\n",
    "plt.title(\"Within-Population, Across-Platform Similarity\")\n",
    "plt.legend()\n",
    "plt.show()\n",
    "\n"
   ]
  },
  {
   "cell_type": "code",
   "execution_count": 34,
   "metadata": {},
   "outputs": [
    {
     "name": "stdout",
     "output_type": "stream",
     "text": [
      "Russian IRA-T2R: 0.01235053114152804 1.1287607362730598e-07\n",
      "Russian IRA-TRandom: 0.032873623262569006 7.866783722951091e-07\n",
      "Russian IRA-TPoli: 0.07422925334659246 4.057517429217427e-06\n"
     ]
    }
   ],
   "source": [
    "print(\"Russian IRA-T2R:\", np.array(t2r_ira_sim_avg_bootstrap).mean(), np.array(t2r_ira_sim_avg_bootstrap).var())\n",
    "print(\"Russian IRA-TRandom:\", np.array(t2t_ira_rand_sim_avg_bootstrap).mean(), np.array(t2t_ira_rand_sim_avg_bootstrap).var())\n",
    "print(\"Russian IRA-TPoli:\", np.array(t2t_ira_poli_sim_avg_bootstrap).mean(), np.array(t2t_ira_poli_sim_avg_bootstrap).var())\n"
   ]
  },
  {
   "cell_type": "code",
   "execution_count": null,
   "metadata": {},
   "outputs": [],
   "source": []
  },
  {
   "cell_type": "code",
   "execution_count": 35,
   "metadata": {},
   "outputs": [
    {
     "data": {
      "image/png": "[encoded data removed]",
      "text/plain": [
       "<Figure size 432x288 with 1 Axes>"
      ]
     },
     "metadata": {},
     "output_type": "display_data"
    }
   ],
   "source": [
    "plt.hist(t2r_ira_sim_avg_bootstrap, bins=20, density=True, alpha=0.35, label=\"Russian IRA Twitter-Reddit\")\n",
    "plt.hist(t2t_ira_rand_sim_avg_bootstrap, bins=20, density=True, alpha=0.35, label=\"Russian IRA-Random\")\n",
    "plt.hist(t2t_ira_poli_sim_avg_bootstrap, bins=20, density=True, alpha=0.35, label=\"Russian IRA-Political\")\n",
    "\n",
    "plt.title(\"Twitter-to-Reddit Similarity\")\n",
    "plt.legend()\n",
    "plt.grid()\n",
    "plt.show()"
   ]
  },
  {
   "cell_type": "code",
   "execution_count": null,
   "metadata": {},
   "outputs": [],
   "source": []
  },
  {
   "cell_type": "code",
   "execution_count": 42,
   "metadata": {},
   "outputs": [
    {
     "name": "stdout",
     "output_type": "stream",
     "text": [
      "p-value for ANOVA: 0.0 3005438.3763986533\n",
      "p-value for Welch's t-Test between Twitter-Reddit and IRA-Rand: 0.0 -1529.9267416724376\n",
      "p-value for Welch's t-Test between Twitter-Reddit and IRA-Poli: 0.0 -2142.3695533366053\n"
     ]
    }
   ],
   "source": [
    "# Test whether the within-group similarities across the three populations are equal\n",
    "f_stat, p_val = scipy.stats.f_oneway(\n",
    "    t2r_ira_sim_avg_bootstrap, \n",
    "    t2t_ira_rand_sim_avg_bootstrap, \n",
    "    t2t_ira_poli_sim_avg_bootstrap)\n",
    "print(\"p-value for ANOVA:\", p_val, f_stat)\n",
    "\n",
    "t_stat, p_val = scipy.stats.ttest_ind(\n",
    "    t2r_ira_sim_avg_bootstrap, \n",
    "    t2t_ira_rand_sim_avg_bootstrap, \n",
    "    axis=0, equal_var=False)\n",
    "print(\"p-value for Welch's t-Test between Twitter-Reddit and IRA-Rand:\", p_val, t_stat)\n",
    "\n",
    "t_stat, p_val = scipy.stats.ttest_ind(\n",
    "    t2r_ira_sim_avg_bootstrap,\n",
    "    t2t_ira_poli_sim_avg_bootstrap, \n",
    "    axis=0, equal_var=False)\n",
    "print(\"p-value for Welch's t-Test between Twitter-Reddit and IRA-Poli:\", p_val, t_stat)"
   ]
  },
  {
   "cell_type": "code",
   "execution_count": null,
   "metadata": {},
   "outputs": [],
   "source": []
  },
  {
   "cell_type": "code",
   "execution_count": 40,
   "metadata": {},
   "outputs": [],
   "source": [
    "## Full Cross-Comparison\n",
    "\n",
    "### Other comparisons\n",
    "t2t_rand_poli_sim_avg_bootstrap = [sklearn.utils.resample(t2t_rand_poli_sim_avg, replace=True, n_samples=t2t_rand_poli_sim_avg.shape[0]).mean() for i in range(bootstrap_count)]\n",
    "r2r_rand_poli_sim_avg_bootstrap = [sklearn.utils.resample(r2r_rand_poli_sim_avg, replace=True, n_samples=r2r_rand_poli_sim_avg.shape[0]).mean() for i in range(bootstrap_count)]\n",
    "\n",
    "\n"
   ]
  },
  {
   "cell_type": "code",
   "execution_count": 41,
   "metadata": {},
   "outputs": [
    {
     "name": "stdout",
     "output_type": "stream",
     "text": [
      "\t Random \t\t Political \t\t IRA \t\t Other\n",
      "\t mu sigma^2 mu sigma^2 mu sigma^2 mu sigma^2\n",
      "Reddit\n",
      "Random: 0.0005671690976958448 2.2814732844769146e-09 0.004018674517736038 5.497349876368375e-08 0.0015310091035207545 5.8932856006858025e-08 0.0045585611078933904 7.393478323046608e-08\n",
      "Political: 0.004018674517736038 5.497349876368375e-08 0.02327055747483294 2.209898155235904e-07 0.008389316117803997 1.6287264924779783e-06 0.062344553032771435 1.6977119870974406e-06\n",
      "IRA: 0.0015310091035207545 5.8932856006858025e-08 0.008389316117803997 1.6287264924779783e-06 0.0045691645476287224 4.029179803068467e-07 0.012359050029375979 3.953400967784743e-06\n",
      "Twitter\n",
      "Random: 0.03319582131757208 3.565801997085642e-07 0.07693910546035343 1.948579828877555e-06 0.032873623262569006 7.866783722951091e-07 0.00455574946886422 7.23809096800057e-09\n",
      "Political: 0.07693910546035343 1.948579828877555e-06 0.18859678973270796 1.989976063518956e-06 0.07422925334659246 4.057517429217427e-06 0.062318266893042804 2.1878116777485934e-07\n",
      "IRA: 0.032873623262569006 7.866783722951091e-07 0.07422925334659246 4.057517429217427e-06 0.04703579201107927 1.5743112642330297e-06 0.01235053114152804 1.1287607362730598e-07\n"
     ]
    }
   ],
   "source": [
    "print(\"\\t\", \"Random\", \"\\t\\t\", \"Political\", \"\\t\\t\", \"IRA\", \"\\t\\t\", \"Other\")\n",
    "print(\"\\t\", \"mu\", \"sigma^2\", \"mu\", \"sigma^2\", \"mu\", \"sigma^2\", \"mu\", \"sigma^2\")\n",
    "\n",
    "print(\"Reddit\")\n",
    "print(\"Random:\", \n",
    "    np.array(r2r_rand_rand_sim_avg_bootstrap).mean(), \n",
    "    np.array(r2r_rand_rand_sim_avg_bootstrap).var(),\n",
    "    np.array(r2r_rand_poli_sim_avg_bootstrap).mean(), \n",
    "    np.array(r2r_rand_poli_sim_avg_bootstrap).var(),\n",
    "    np.array(r2r_ira_rand_sim_avg_bootstrap).mean(), \n",
    "    np.array(r2r_ira_rand_sim_avg_bootstrap).var(),\n",
    "    np.array(r2t_rand_sim_avg_bootstrap).mean(), \n",
    "    np.array(r2t_rand_sim_avg_bootstrap).var(),\n",
    ")\n",
    "\n",
    "print(\"Political:\", \n",
    "    np.array(r2r_rand_poli_sim_avg_bootstrap).mean(), \n",
    "    np.array(r2r_rand_poli_sim_avg_bootstrap).var(),\n",
    "    np.array(r2r_poli_poli_sim_avg_bootstrap).mean(), \n",
    "    np.array(r2r_poli_poli_sim_avg_bootstrap).var(),\n",
    "    np.array(r2r_ira_poli_sim_avg_bootstrap).mean(), \n",
    "    np.array(r2r_ira_poli_sim_avg_bootstrap).var(),\n",
    "    np.array(r2t_poli_sim_avg_bootstrap).mean(), \n",
    "    np.array(r2t_poli_sim_avg_bootstrap).var(),\n",
    ")\n",
    "\n",
    "print(\"IRA:\", \n",
    "    np.array(r2r_ira_rand_sim_avg_bootstrap).mean(), \n",
    "    np.array(r2r_ira_rand_sim_avg_bootstrap).var(),\n",
    "    np.array(r2r_ira_poli_sim_avg_bootstrap).mean(), \n",
    "    np.array(r2r_ira_poli_sim_avg_bootstrap).var(),\n",
    "    np.array(r2r_ira_ira_sim_avg_bootstrap).mean(), \n",
    "    np.array(r2r_ira_ira_sim_avg_bootstrap).var(),\n",
    "    np.array(r2t_ira_sim_avg_bootstrap).mean(), \n",
    "    np.array(r2t_ira_sim_avg_bootstrap).var(),\n",
    ")\n",
    "\n",
    "print(\"Twitter\")\n",
    "print(\"Random:\", \n",
    "    np.array(t2t_rand_rand_sim_avg_bootstrap).mean(), \n",
    "    np.array(t2t_rand_rand_sim_avg_bootstrap).var(),\n",
    "    np.array(t2t_rand_poli_sim_avg_bootstrap).mean(), \n",
    "    np.array(t2t_rand_poli_sim_avg_bootstrap).var(),\n",
    "    np.array(t2t_ira_rand_sim_avg_bootstrap).mean(), \n",
    "    np.array(t2t_ira_rand_sim_avg_bootstrap).var(),\n",
    "    np.array(t2r_rand_sim_avg_bootstrap).mean(), \n",
    "    np.array(t2r_rand_sim_avg_bootstrap).var(),\n",
    ")\n",
    "\n",
    "print(\"Political:\", \n",
    "    np.array(t2t_rand_poli_sim_avg_bootstrap).mean(), \n",
    "    np.array(t2t_rand_poli_sim_avg_bootstrap).var(),\n",
    "    np.array(t2t_poli_poli_sim_avg_bootstrap).mean(), \n",
    "    np.array(t2t_poli_poli_sim_avg_bootstrap).var(),\n",
    "    np.array(t2t_ira_poli_sim_avg_bootstrap).mean(), \n",
    "    np.array(t2t_ira_poli_sim_avg_bootstrap).var(),\n",
    "    np.array(t2r_poli_sim_avg_bootstrap).mean(), \n",
    "    np.array(t2r_poli_sim_avg_bootstrap).var(),\n",
    ")\n",
    "\n",
    "print(\"IRA:\", \n",
    "    np.array(t2t_ira_rand_sim_avg_bootstrap).mean(), \n",
    "    np.array(t2t_ira_rand_sim_avg_bootstrap).var(),\n",
    "    np.array(t2t_ira_poli_sim_avg_bootstrap).mean(), \n",
    "    np.array(t2t_ira_poli_sim_avg_bootstrap).var(),\n",
    "    np.array(t2t_ira_ira_sim_avg_bootstrap).mean(), \n",
    "    np.array(t2t_ira_ira_sim_avg_bootstrap).var(),\n",
    "    np.array(t2r_ira_sim_avg_bootstrap).mean(), \n",
    "    np.array(t2r_ira_sim_avg_bootstrap).var(),\n",
    ")\n"
   ]
  },
  {
   "cell_type": "code",
   "execution_count": null,
   "metadata": {},
   "outputs": [],
   "source": []
  }
 ],
 "metadata": {
  "kernelspec": {
   "display_name": "Python 3",
   "language": "python",
   "name": "python3"
  },
  "language_info": {
   "codemirror_mode": {
    "name": "ipython",
    "version": 3
   },
   "file_extension": ".py",
   "mimetype": "text/x-python",
   "name": "python",
   "nbconvert_exporter": "python",
   "pygments_lexer": "ipython3",
   "version": "3.6.5"
  }
 },
 "nbformat": 4,
 "nbformat_minor": 2
}
