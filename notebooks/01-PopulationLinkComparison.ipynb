{
 "cells": [
  {
   "cell_type": "markdown",
   "metadata": {},
   "source": [
    "# Compare Twitter and Reddit Populations\n",
    "\n",
    "This script evaluates how similar subsets of Twitter and Reddit populations are within platform and across platform.\n",
    "The populations we test are:\n",
    "- Random US Twitter users active in 2015-2018\n",
    "    - Must have tweeted >= 100 times in this time frame\n",
    "- Politically engaged US Twitter users active in 2015-2018\n",
    "    - Must have tweeted >= 100 times in this time frame\n",
    "    - Must follow at least 5 politicians\n",
    "- IRA Twitter accounts identified by Twitter\n",
    "- Random Reddit accounts  active in 2015-2018\n",
    "    - Must have posted/commented >= 100 times in this time frame\n",
    "- Politically engaged Redditors  active in 2015-2018\n",
    "    - Must have posted/commented >= 100 times in subreddits /r/politics identifies as US-political in this time frame\n",
    "- IRA Reddit accounts identified by Reddit"
   ]
  },
  {
   "cell_type": "code",
   "execution_count": 1,
   "metadata": {},
   "outputs": [],
   "source": [
    "%matplotlib inline"
   ]
  },
  {
   "cell_type": "code",
   "execution_count": 2,
   "metadata": {},
   "outputs": [],
   "source": [
    "import json\n",
    "import time\n",
    "import string\n",
    "import datetime\n",
    "import matplotlib\n",
    "\n",
    "import scipy.stats\n",
    "\n",
    "import numpy as np\n",
    "import pandas as pd\n",
    "import statsmodels.api as sm\n",
    "\n",
    "import matplotlib.pyplot as plt"
   ]
  },
  {
   "cell_type": "code",
   "execution_count": 3,
   "metadata": {},
   "outputs": [],
   "source": [
    "import sklearn.preprocessing\n",
    "import sklearn.metrics"
   ]
  },
  {
   "cell_type": "code",
   "execution_count": null,
   "metadata": {},
   "outputs": [],
   "source": []
  },
  {
   "cell_type": "code",
   "execution_count": 4,
   "metadata": {},
   "outputs": [],
   "source": [
    "def convert_date(date):\n",
    "    return datetime.datetime.strptime(date, \"%a %b %d %H:%M:%S +0000 %Y\")\n",
    "\n",
    "def convert_time(timestamp):\n",
    "    created_time = timestamp\n",
    "    if ( isinstance(created_time, str) ):\n",
    "        created_time = int(created_time)\n",
    "        \n",
    "    d = datetime.datetime.utcfromtimestamp(created_time)\n",
    "    return d\n",
    "\n",
    "def get_top_tlds(links_df, user_id_field, top_n=100):\n",
    "    tld_user_counts = {}\n",
    "    for tld, group in links_df.groupby(\"tld\"):\n",
    "        local_users = set(group[user_id_field])\n",
    "        tld_user_counts[tld] = len(local_users)\n",
    "\n",
    "    return sorted(tld_user_counts, key=tld_user_counts.get, reverse=True)[:top_n]\n",
    "\n",
    "def links_df_to_shares(links_df, domains, user_id_field):\n",
    "    user_shares = []\n",
    "\n",
    "    for user,user_posts in links_df.groupby(user_id_field):\n",
    "        local_tld_counts = dict(user_posts[\"tld\"].value_counts().items())\n",
    "        local_vector = [local_tld_counts.get(x, 0) for x in domains]\n",
    "        user_shares.append([user] + local_vector)\n",
    "\n",
    "    return pd.DataFrame(user_shares, columns=[user_id_field] + domains)"
   ]
  },
  {
   "cell_type": "code",
   "execution_count": null,
   "metadata": {},
   "outputs": [],
   "source": []
  },
  {
   "cell_type": "code",
   "execution_count": 21,
   "metadata": {},
   "outputs": [],
   "source": [
    "top_n_domains = 150\n",
    "bootstrap_count = 5000"
   ]
  },
  {
   "cell_type": "code",
   "execution_count": null,
   "metadata": {},
   "outputs": [],
   "source": []
  },
  {
   "cell_type": "code",
   "execution_count": 22,
   "metadata": {},
   "outputs": [],
   "source": [
    "short_domain_map = {\n",
    "    \"abcn.ws\": \"abcnews.go.com\",\n",
    "    \"amzn.to\": \"amazon.com\",\n",
    "    \"apne.ws\": \"apnews.com\",\n",
    "    \"apple.co\": \"apple.com\",\n",
    "    \"bbc.in\": \"bbc.com\",\n",
    "    \"ble.ac\": \"bleacherreport.com\",\n",
    "    \"bloom.bg\": \"bloomberg.com\",\n",
    "    \"bzfd.it\": \"buzzfeed.com\",\n",
    "    \"cbsloc.al\": \"cbslocal.com\",\n",
    "    \"cnb.cx\": \"cnbc.com\",\n",
    "    \"cnn.it\": \"cnn.com\",\n",
    "    \"cnn.it\": \"cnn.com\",\n",
    "    \"dailym.ai\" : \"dailymail.co.uk\",\n",
    "    \"econ.st\": \"economist.com\",\n",
    "    \"es.pn\": \"espn.com\",\n",
    "    \"fxn.ws\": \"foxnews.com\",\n",
    "    \"hill.cm\": \"thehill.com\",\n",
    "    \"huff.to\" : \"huffingtonpost.com\",\n",
    "    \"lat.ms\": \"latimes.com\",\n",
    "    \"lnkd.in\": \"linkedin.com\",\n",
    "    \"n.pr\": \"npr.org\",\n",
    "    \"nbcnews.to\": \"nbcnews.com\",\n",
    "    \"nydn.us\": \"nydailynews.com\",\n",
    "    \"nyp.st\": \"nypost.com\",\n",
    "    \"nyti.ms\": \"nytimes.com\",\n",
    "    \"on.rt.com\": \"rt.com\",\n",
    "    \"on.wsj.com\": \"wsj.com\",\n",
    "    \"politi.co\": \"politico.com\",\n",
    "    \"redd.it\": \"reddit.com\",\n",
    "    \"reut.rs\": \"reuters.com\",\n",
    "    \"thebea.st\": \"thedailybeast.com\",\n",
    "    \"ti.me\": \"time.com\",\n",
    "    \"tmblr.co\": \"tumblr.com\",\n",
    "    \"usat.ly\": \"usatoday.com\",\n",
    "    \"wapo.st\": \"washingtonpost.com\",\n",
    "    \"wp.me\": \"wordpress.com\",\n",
    "    \"wpo.st\": \"washingtonpost.com\",\n",
    "    \"yhoo.it\": \"yahoo.com\",\n",
    "    \"youtu.be\": \"youtube.com\",\n",
    "}"
   ]
  },
  {
   "cell_type": "code",
   "execution_count": null,
   "metadata": {},
   "outputs": [],
   "source": []
  },
  {
   "cell_type": "code",
   "execution_count": 7,
   "metadata": {},
   "outputs": [],
   "source": [
    "twitter_links_df_rand = pd.read_csv(\"twitter_random_us_sample_links.csv\",\n",
    "    converters={\"created_at\": convert_date})\n",
    "twitter_links_df_poli = pd.read_csv(\"twitter_political_us_sample_links.csv\",\n",
    "    converters={\"created_at\": convert_date})\n",
    "twitter_links_df_ira = pd.read_csv(\n",
    "    \"twitter_ira_links.csv\",\n",
    "    converters={\"created_at\": lambda x: datetime.datetime.strptime(x, \"%Y-%m-%d %H:%M:%S\")}\n",
    ")"
   ]
  },
  {
   "cell_type": "code",
   "execution_count": 8,
   "metadata": {},
   "outputs": [],
   "source": [
    "twitter_links_df_rand[\"tld\"] = twitter_links_df_rand[\"tld\"].apply(lambda x: short_domain_map.get(x, x))\n",
    "twitter_links_df_poli[\"tld\"] = twitter_links_df_poli[\"tld\"].apply(lambda x: short_domain_map.get(x, x))\n",
    "twitter_links_df_ira[\"tld\"] = twitter_links_df_ira[\"tld\"].apply(lambda x: short_domain_map.get(x, x))"
   ]
  },
  {
   "cell_type": "code",
   "execution_count": null,
   "metadata": {},
   "outputs": [],
   "source": []
  },
  {
   "cell_type": "code",
   "execution_count": 23,
   "metadata": {},
   "outputs": [
    {
     "name": "stdout",
     "output_type": "stream",
     "text": [
      "Merged Top TLDs: 89\n"
     ]
    }
   ],
   "source": [
    "\n",
    "twitter_top_tlds_rand = get_top_tlds(twitter_links_df_rand, user_id_field=\"user_id\", top_n=top_n_domains)\n",
    "twitter_top_tlds_poli = get_top_tlds(twitter_links_df_poli, user_id_field=\"user_id\", top_n=top_n_domains)\n",
    "twitter_top_tlds_ira = get_top_tlds(twitter_links_df_ira, user_id_field=\"user_id\", top_n=top_n_domains)\n",
    "\n",
    "twitter_merged_tlds = set(twitter_top_tlds_rand).intersection(twitter_top_tlds_poli).intersection(twitter_top_tlds_ira)\n",
    "print(\"Merged Top TLDs:\", len(twitter_merged_tlds))\n"
   ]
  },
  {
   "cell_type": "code",
   "execution_count": null,
   "metadata": {},
   "outputs": [],
   "source": []
  },
  {
   "cell_type": "code",
   "execution_count": null,
   "metadata": {},
   "outputs": [],
   "source": []
  },
  {
   "cell_type": "code",
   "execution_count": 10,
   "metadata": {},
   "outputs": [],
   "source": [
    "reddit_links_df_rand = pd.read_csv(\"reddit_random_links.csv\",\n",
    "    converters={\"created_at\": convert_time})\n",
    "reddit_links_df_poli = pd.read_csv(\"reddit_political_links.csv\",\n",
    "    converters={\"created_at\": convert_time})\n",
    "reddit_links_df_ira = pd.read_csv(\"reddit_troll_links.csv\",\n",
    "    converters={\"created_at\": convert_time}\n",
    ")"
   ]
  },
  {
   "cell_type": "code",
   "execution_count": 11,
   "metadata": {},
   "outputs": [],
   "source": [
    "reddit_links_df_rand[\"tld\"] = reddit_links_df_rand[\"tld\"].apply(lambda x: short_domain_map.get(x, x))\n",
    "reddit_links_df_poli[\"tld\"] = reddit_links_df_poli[\"tld\"].apply(lambda x: short_domain_map.get(x, x))\n",
    "reddit_links_df_ira[\"tld\"] = reddit_links_df_ira[\"tld\"].apply(lambda x: short_domain_map.get(x, x))"
   ]
  },
  {
   "cell_type": "code",
   "execution_count": null,
   "metadata": {},
   "outputs": [],
   "source": []
  },
  {
   "cell_type": "code",
   "execution_count": 24,
   "metadata": {},
   "outputs": [
    {
     "name": "stdout",
     "output_type": "stream",
     "text": [
      "Merged Top TLDs: 60\n"
     ]
    }
   ],
   "source": [
    "\n",
    "reddit_top_tlds_rand = get_top_tlds(reddit_links_df_rand, user_id_field=\"user_name\", top_n=top_n_domains)\n",
    "reddit_top_tlds_poli = get_top_tlds(reddit_links_df_poli, user_id_field=\"user_name\", top_n=top_n_domains)\n",
    "reddit_top_tlds_ira = get_top_tlds(reddit_links_df_ira, user_id_field=\"user_name\", top_n=top_n_domains)\n",
    "\n",
    "reddit_merged_tlds = set(reddit_top_tlds_rand).intersection(reddit_top_tlds_poli).intersection(reddit_top_tlds_ira)\n",
    "print(\"Merged Top TLDs:\", len(reddit_merged_tlds))"
   ]
  },
  {
   "cell_type": "code",
   "execution_count": null,
   "metadata": {},
   "outputs": [],
   "source": []
  },
  {
   "cell_type": "code",
   "execution_count": 25,
   "metadata": {},
   "outputs": [
    {
     "name": "stdout",
     "output_type": "stream",
     "text": [
      "Cross-Platform Top TLDs: 48\n"
     ]
    }
   ],
   "source": [
    "cross_platform_tlds = twitter_merged_tlds.intersection(reddit_merged_tlds)\n",
    "\n",
    "# Pop off these ultra-common TLDs. \n",
    "#. The motivation here is that twitter.com is injected \n",
    "#.  when a Twitter user retweets, and sharing within \n",
    "#.  Reddit through crossposting increases its prevalence.\n",
    "#.  These phenomena will make activity across populations\n",
    "#.  appear artificially more similar than they ought to be.\n",
    "# cross_platform_tlds.remove(\"twitter.com\")\n",
    "# cross_platform_tlds.remove(\"reddit.com\")\n",
    "\n",
    "print(\"Cross-Platform Top TLDs:\", len(cross_platform_tlds))"
   ]
  },
  {
   "cell_type": "code",
   "execution_count": 26,
   "metadata": {},
   "outputs": [
    {
     "name": "stdout",
     "output_type": "stream",
     "text": [
      "Cross-Platform TLDs:\n",
      "\t bbc.co.uk\n",
      "\t bbc.com\n",
      "\t bloomberg.com\n",
      "\t breitbart.com\n",
      "\t businessinsider.com\n",
      "\t buzzfeed.com\n",
      "\t cbslocal.com\n",
      "\t cbsnews.com\n",
      "\t cnbc.com\n",
      "\t cnn.com\n",
      "\t dailycaller.com\n",
      "\t dailymail.co.uk\n",
      "\t facebook.com\n",
      "\t forbes.com\n",
      "\t foxnews.com\n",
      "\t go.com\n",
      "\t huffingtonpost.com\n",
      "\t independent.co.uk\n",
      "\t latimes.com\n",
      "\t mashable.com\n",
      "\t medium.com\n",
      "\t msn.com\n",
      "\t nbcnews.com\n",
      "\t npr.org\n",
      "\t nydailynews.com\n",
      "\t nypost.com\n",
      "\t nytimes.com\n",
      "\t politico.com\n",
      "\t reddit.com\n",
      "\t reuters.com\n",
      "\t telegraph.co.uk\n",
      "\t theatlantic.com\n",
      "\t thedailybeast.com\n",
      "\t theguardian.com\n",
      "\t thehill.com\n",
      "\t time.com\n",
      "\t tumblr.com\n",
      "\t twitter.com\n",
      "\t usatoday.com\n",
      "\t usnews.com\n",
      "\t vice.com\n",
      "\t vox.com\n",
      "\t washingtonpost.com\n",
      "\t wikipedia.org\n",
      "\t wordpress.com\n",
      "\t wsj.com\n",
      "\t yahoo.com\n",
      "\t youtube.com\n"
     ]
    }
   ],
   "source": [
    "print(\"Cross-Platform TLDs:\")\n",
    "for x in sorted(cross_platform_tlds):\n",
    "    print(\"\\t\", x)"
   ]
  },
  {
   "cell_type": "code",
   "execution_count": 27,
   "metadata": {
    "scrolled": true
   },
   "outputs": [
    {
     "name": "stdout",
     "output_type": "stream",
     "text": [
      "TLDs in Reddit but not Twitter:\n",
      "\t abc.net.au\n",
      "\t ap.org\n",
      "\t arstechnica.com\n",
      "\t cbc.ca\n",
      "\t giphy.com\n",
      "\t gizmodo.com\n",
      "\t hollywoodreporter.com\n",
      "\t imgur.com\n",
      "\t mirror.co.uk\n",
      "\t rt.com\n",
      "\t theverge.com\n",
      "\t wired.com\n"
     ]
    }
   ],
   "source": [
    "print(\"TLDs in Reddit but not Twitter:\")\n",
    "for tld in sorted(reddit_merged_tlds.difference(twitter_merged_tlds)):\n",
    "    print(\"\\t\", tld)"
   ]
  },
  {
   "cell_type": "code",
   "execution_count": 28,
   "metadata": {
    "scrolled": true
   },
   "outputs": [
    {
     "name": "stdout",
     "output_type": "stream",
     "text": [
      "TLDs in Twitter but not Reddit:\n",
      "\t abcnews.go.com\n",
      "\t amazon.com\n",
      "\t apnews.com\n",
      "\t apple.com\n",
      "\t apple.news\n",
      "\t bit.ly\n",
      "\t blogspot.com\n",
      "\t cbsn.ws\n",
      "\t dld.bz\n",
      "\t economist.com\n",
      "\t espn.com\n",
      "\t fw.to\n",
      "\t gofundme.com\n",
      "\t goo.gl\n",
      "\t google.com\n",
      "\t gu.com\n",
      "\t instagram.com\n",
      "\t linkedin.com\n",
      "\t mash.to\n",
      "\t motherjones.com\n",
      "\t msnbc.com\n",
      "\t nationalreview.com\n",
      "\t paper.li\n",
      "\t pbs.org\n",
      "\t po.st\n",
      "\t pscp.tv\n",
      "\t rawstory.com\n",
      "\t read.bi\n",
      "\t salon.com\n",
      "\t shr.lc\n",
      "\t snpy.tv\n",
      "\t soundcloud.com\n",
      "\t thinkprogress.org\n",
      "\t twimg.com\n",
      "\t usa.gov\n",
      "\t variety.com\n",
      "\t vimeo.com\n",
      "\t vine.co\n",
      "\t washingtonexaminer.com\n",
      "\t wh.gov\n",
      "\t whitehouse.gov\n"
     ]
    }
   ],
   "source": [
    "print(\"TLDs in Twitter but not Reddit:\")\n",
    "for tld in sorted(twitter_merged_tlds.difference(reddit_merged_tlds)):\n",
    "    print(\"\\t\", tld)"
   ]
  },
  {
   "cell_type": "code",
   "execution_count": null,
   "metadata": {},
   "outputs": [],
   "source": []
  },
  {
   "cell_type": "code",
   "execution_count": 29,
   "metadata": {},
   "outputs": [],
   "source": [
    "domains = sorted(cross_platform_tlds)"
   ]
  },
  {
   "cell_type": "code",
   "execution_count": 30,
   "metadata": {},
   "outputs": [],
   "source": [
    "twitter_user_tld_links_df_rand = links_df_to_shares(twitter_links_df_rand, domains, \"user_id\")\n",
    "twitter_user_tld_links_df_poli = links_df_to_shares(twitter_links_df_poli, domains, \"user_id\")\n",
    "twitter_user_tld_links_df_ira = links_df_to_shares(twitter_links_df_ira, domains, \"user_id\")\n"
   ]
  },
  {
   "cell_type": "code",
   "execution_count": null,
   "metadata": {},
   "outputs": [],
   "source": []
  },
  {
   "cell_type": "code",
   "execution_count": 31,
   "metadata": {},
   "outputs": [
    {
     "data": {
      "image/png": "[encoded data removed]",
      "text/plain": [
       "<Figure size 432x288 with 1 Axes>"
      ]
     },
     "metadata": {},
     "output_type": "display_data"
    },
    {
     "data": {
      "image/png": "[encoded data removed]",
      "text/plain": [
       "<Figure size 432x288 with 1 Axes>"
      ]
     },
     "metadata": {},
     "output_type": "display_data"
    }
   ],
   "source": [
    "# Normalize by user, so we get a probability distribution of seeing specific domains\n",
    "#  at the user level\n",
    "twitter_user_links_mat_rand = sklearn.preprocessing.normalize(twitter_user_tld_links_df_rand[domains], norm=\"l2\", axis=1)\n",
    "twitter_user_links_mat_poli = sklearn.preprocessing.normalize(twitter_user_tld_links_df_poli[domains], norm=\"l2\", axis=1)\n",
    "twitter_user_links_mat_ira = sklearn.preprocessing.normalize(twitter_user_tld_links_df_ira[domains], norm=\"l2\", axis=1)\n",
    "\n",
    "# Calculate pairwise similarity among users across populations\n",
    "t2t_rand_rand_sim = sklearn.metrics.pairwise.cosine_similarity(twitter_user_links_mat_rand, twitter_user_links_mat_rand)\n",
    "t2t_poli_poli_sim = sklearn.metrics.pairwise.cosine_similarity(twitter_user_links_mat_poli, twitter_user_links_mat_poli)\n",
    "t2t_rand_poli_sim = sklearn.metrics.pairwise.cosine_similarity(twitter_user_links_mat_rand, twitter_user_links_mat_poli)\n",
    "t2t_ira_rand_sim = sklearn.metrics.pairwise.cosine_similarity(twitter_user_links_mat_ira, twitter_user_links_mat_rand)\n",
    "t2t_ira_poli_sim = sklearn.metrics.pairwise.cosine_similarity(twitter_user_links_mat_ira, twitter_user_links_mat_poli)\n",
    "t2t_ira_ira_sim = sklearn.metrics.pairwise.cosine_similarity(twitter_user_links_mat_ira, twitter_user_links_mat_ira)\n",
    "\n",
    "# Collapse similarities down to get the mean similarity for each user on the left to all users on the right\n",
    "#. note the minus 1 and reduction of shape by 1 for the within-platform groups, which I do to remove the \n",
    "#. self-similarity effect\n",
    "t2t_rand_rand_sim_avg = (np.sum(t2t_rand_rand_sim, axis=1) - 1) / (twitter_user_links_mat_rand.shape[0] - 1)\n",
    "t2t_poli_poli_sim_avg = (np.sum(t2t_poli_poli_sim, axis=1) - 1) / (twitter_user_links_mat_poli.shape[0] - 1)\n",
    "t2t_rand_poli_sim_avg = (np.sum(t2t_rand_poli_sim, axis=1) - 1) / (twitter_user_links_mat_poli.shape[0] - 1)\n",
    "t2t_ira_rand_sim_avg = np.mean(t2t_ira_rand_sim, axis=1)\n",
    "t2t_ira_poli_sim_avg = np.mean(t2t_ira_poli_sim, axis=1)\n",
    "t2t_ira_ira_sim_avg = np.mean(t2t_ira_ira_sim, axis=1)\n",
    "\n",
    "# # Plot what these similarities look like\n",
    "# plt.hist(t2t_ira_rand_sim_avg, bins=20, density=True, alpha=0.35, label=\"ira-rand\")\n",
    "# plt.hist(t2t_ira_poli_sim_avg, bins=20, density=True, alpha=0.35, label=\"ira-poli\")\n",
    "# plt.hist(t2t_ira_ira_sim_avg, bins=20, density=True, alpha=0.35, label=\"ira-ira\")\n",
    "\n",
    "# plt.legend()\n",
    "# plt.show()\n",
    "\n",
    "# Show similarity distribution within populations in this platform\n",
    "t2t_rand_rand_sim_avg_bootstrap = [sklearn.utils.resample(t2t_rand_rand_sim_avg, replace=True, n_samples=t2t_rand_rand_sim_avg.shape[0]).mean() for i in range(bootstrap_count)]\n",
    "t2t_poli_poli_sim_avg_bootstrap = [sklearn.utils.resample(t2t_poli_poli_sim_avg, replace=True, n_samples=t2t_poli_poli_sim_avg.shape[0]).mean() for i in range(bootstrap_count)]\n",
    "t2t_ira_ira_sim_avg_bootstrap = [sklearn.utils.resample(t2t_ira_ira_sim_avg, replace=True, n_samples=t2t_ira_ira_sim_avg.shape[0]).mean() for i in range(bootstrap_count)]\n",
    "\n",
    "plt.hist(t2t_rand_rand_sim_avg_bootstrap, bins=20, density=True, alpha=0.35, label=\"rand-rand\")\n",
    "plt.hist(t2t_poli_poli_sim_avg_bootstrap, bins=20, density=True, alpha=0.35, label=\"poli-poli\")\n",
    "plt.hist(t2t_ira_ira_sim_avg_bootstrap, bins=20, density=True, alpha=0.35, label=\"ira-ira\")\n",
    "\n",
    "plt.title(\"Within-Population Similarity\")\n",
    "plt.legend()\n",
    "plt.show()\n",
    "\n",
    "# Show similarity distribution across populations in this platform\n",
    "t2t_ira_rand_sim_avg_bootstrap = [sklearn.utils.resample(t2t_ira_rand_sim_avg, replace=True, n_samples=t2t_ira_rand_sim_avg.shape[0]).mean() for i in range(bootstrap_count)]\n",
    "t2t_ira_poli_sim_avg_bootstrap = [sklearn.utils.resample(t2t_ira_poli_sim_avg, replace=True, n_samples=t2t_ira_poli_sim_avg.shape[0]).mean() for i in range(bootstrap_count)]\n",
    "t2t_ira_ira_sim_avg_bootstrap = [sklearn.utils.resample(t2t_ira_ira_sim_avg, replace=True, n_samples=t2t_ira_ira_sim_avg.shape[0]).mean() for i in range(bootstrap_count)]\n",
    "\n",
    "plt.hist(t2t_ira_rand_sim_avg_bootstrap, bins=20, density=True, alpha=0.35, label=\"ira-rand\")\n",
    "plt.hist(t2t_ira_poli_sim_avg_bootstrap, bins=20, density=True, alpha=0.35, label=\"ira-poli\")\n",
    "plt.hist(t2t_ira_ira_sim_avg_bootstrap, bins=20, density=True, alpha=0.35, label=\"ira-ira\")\n",
    "\n",
    "plt.title(\"Across-Population Similarity\")\n",
    "plt.legend()\n",
    "plt.show()"
   ]
  },
  {
   "cell_type": "code",
   "execution_count": 32,
   "metadata": {},
   "outputs": [
    {
     "name": "stdout",
     "output_type": "stream",
     "text": [
      "p-value for ANOVA: 0.0 25546821.731013007\n",
      "p-value for Welch's t-Test between within-Poli and within-IRA: 0.0 6297.549641265302\n",
      "p-value for Welch's t-Test between IRA-Rand and IRA-Poli: 0.0 -53.94532007633127\n"
     ]
    }
   ],
   "source": [
    "# Test whether the within-group similarities across the three populations are equal\n",
    "f_stat, p_val = scipy.stats.f_oneway(t2t_rand_rand_sim_avg_bootstrap, t2t_poli_poli_sim_avg_bootstrap, t2t_ira_ira_sim_avg_bootstrap)\n",
    "print(\"p-value for ANOVA:\", p_val, f_stat)\n",
    "\n",
    "t_stat, p_val = scipy.stats.ttest_ind(t2t_poli_poli_sim_avg_bootstrap, t2t_ira_ira_sim_avg_bootstrap, axis=0, equal_var=False)\n",
    "print(\"p-value for Welch's t-Test between within-Poli and within-IRA:\", p_val, t_stat)\n",
    "\n",
    "t_stat, p_val = scipy.stats.ttest_ind(t2t_ira_rand_sim_avg_bootstrap, t2t_ira_poli_sim_avg_bootstrap, axis=0, equal_var=True)\n",
    "print(\"p-value for Welch's t-Test between IRA-Rand and IRA-Poli:\", p_val, t_stat)"
   ]
  },
  {
   "cell_type": "code",
   "execution_count": null,
   "metadata": {},
   "outputs": [],
   "source": []
  },
  {
   "cell_type": "code",
   "execution_count": 33,
   "metadata": {},
   "outputs": [
    {
     "data": {
      "image/png": "[encoded data removed]",
      "text/plain": [
       "<Figure size 432x288 with 1 Axes>"
      ]
     },
     "metadata": {},
     "output_type": "display_data"
    },
    {
     "data": {
      "image/png": "[encoded data removed]",
      "text/plain": [
       "<Figure size 432x288 with 1 Axes>"
      ]
     },
     "metadata": {},
     "output_type": "display_data"
    },
    {
     "data": {
      "image/png": "[encoded data removed]",
      "text/plain": [
       "<Figure size 432x288 with 1 Axes>"
      ]
     },
     "metadata": {},
     "output_type": "display_data"
    }
   ],
   "source": [
    "plt.imshow(twitter_user_links_mat_rand.T)\n",
    "plt.show()\n",
    "plt.imshow(twitter_user_links_mat_poli.T)\n",
    "plt.show()\n",
    "plt.imshow(twitter_user_links_mat_ira.T)\n",
    "plt.show()"
   ]
  },
  {
   "cell_type": "code",
   "execution_count": 34,
   "metadata": {},
   "outputs": [
    {
     "name": "stdout",
     "output_type": "stream",
     "text": [
      "Random\n",
      "\t twitter.com 0.8146959764153874\n",
      "\t youtube.com 0.14097015910639318\n",
      "\t facebook.com 0.07725923990321554\n",
      "\t nytimes.com 0.01656355275494653\n",
      "\t wordpress.com 0.013218396396118213\n",
      "\t cnn.com 0.00943591607709944\n",
      "\t tumblr.com 0.008829599822006363\n",
      "\t foxnews.com 0.008084467569410734\n",
      "\t washingtonpost.com 0.008072037663246559\n",
      "\t huffingtonpost.com 0.007972683555423198\n",
      "Political\n",
      "\t twitter.com 0.8044979484113502\n",
      "\t youtube.com 0.1533308456403842\n",
      "\t facebook.com 0.11468992844459999\n",
      "\t nytimes.com 0.050109167888227835\n",
      "\t washingtonpost.com 0.030829254853303262\n",
      "\t cnn.com 0.024936753570516054\n",
      "\t wordpress.com 0.022616825560722146\n",
      "\t foxnews.com 0.022417412351972747\n",
      "\t huffingtonpost.com 0.021098320290105024\n",
      "\t thehill.com 0.01716836130769771\n",
      "IRA\n",
      "\t youtube.com 0.4249268484001874\n",
      "\t twitter.com 0.27095313623206807\n",
      "\t facebook.com 0.04417715792779707\n",
      "\t cnn.com 0.04281748982815453\n",
      "\t telegraph.co.uk 0.0403096997428898\n",
      "\t nytimes.com 0.016522618870992347\n",
      "\t wikipedia.org 0.015484730593644708\n",
      "\t huffingtonpost.com 0.01435273308003201\n",
      "\t washingtonpost.com 0.013221473875952617\n",
      "\t breitbart.com 0.011531233384873647\n"
     ]
    }
   ],
   "source": [
    "for label, mat in [\n",
    "    (\"Random\", twitter_user_links_mat_rand), \n",
    "    (\"Political\", twitter_user_links_mat_poli), \n",
    "    (\"IRA\", twitter_user_links_mat_ira)]:\n",
    "    print(label)\n",
    "    for tld, prop in sorted(zip(domains, np.mean(mat, axis=0)), key=lambda x: x[1], reverse=True)[:10]:\n",
    "        print(\"\\t\", tld, prop)"
   ]
  },
  {
   "cell_type": "code",
   "execution_count": null,
   "metadata": {},
   "outputs": [],
   "source": []
  },
  {
   "cell_type": "code",
   "execution_count": 35,
   "metadata": {},
   "outputs": [],
   "source": [
    "reddit_user_tld_links_df_rand = links_df_to_shares(reddit_links_df_rand, domains, \"user_name\")\n",
    "reddit_user_tld_links_df_poli = links_df_to_shares(reddit_links_df_poli, domains, \"user_name\")\n",
    "reddit_user_tld_links_df_ira = links_df_to_shares(reddit_links_df_ira, domains, \"user_name\")\n"
   ]
  },
  {
   "cell_type": "code",
   "execution_count": 36,
   "metadata": {},
   "outputs": [
    {
     "data": {
      "image/png": "[encoded data removed]",
      "text/plain": [
       "<Figure size 432x288 with 1 Axes>"
      ]
     },
     "metadata": {},
     "output_type": "display_data"
    },
    {
     "data": {
      "image/png": "[encoded data removed]",
      "text/plain": [
       "<Figure size 432x288 with 1 Axes>"
      ]
     },
     "metadata": {},
     "output_type": "display_data"
    }
   ],
   "source": [
    "# Normalize by user, so we get a probability distribution of seeing specific domains\n",
    "#  at the user level\n",
    "reddit_user_links_mat_rand = sklearn.preprocessing.normalize(reddit_user_tld_links_df_rand[domains], norm=\"l2\", axis=1)\n",
    "reddit_user_links_mat_poli = sklearn.preprocessing.normalize(reddit_user_tld_links_df_poli[domains], norm=\"l2\", axis=1)\n",
    "reddit_user_links_mat_ira = sklearn.preprocessing.normalize(reddit_user_tld_links_df_ira[domains], norm=\"l2\", axis=1)\n",
    "\n",
    "# Calculate pairwise similarity among users across populations\n",
    "r2r_rand_rand_sim = sklearn.metrics.pairwise.cosine_similarity(reddit_user_links_mat_rand, reddit_user_links_mat_rand)\n",
    "r2r_poli_poli_sim = sklearn.metrics.pairwise.cosine_similarity(reddit_user_links_mat_poli, reddit_user_links_mat_poli)\n",
    "r2r_rand_poli_sim = sklearn.metrics.pairwise.cosine_similarity(reddit_user_links_mat_rand, reddit_user_links_mat_poli)\n",
    "r2r_ira_rand_sim = sklearn.metrics.pairwise.cosine_similarity(reddit_user_links_mat_ira, reddit_user_links_mat_rand)\n",
    "r2r_ira_poli_sim = sklearn.metrics.pairwise.cosine_similarity(reddit_user_links_mat_ira, reddit_user_links_mat_poli)\n",
    "r2r_ira_ira_sim = sklearn.metrics.pairwise.cosine_similarity(reddit_user_links_mat_ira, reddit_user_links_mat_ira)\n",
    "\n",
    "# Collapse similarities down to get the mean similarity for each user on the left to all users on the right\n",
    "#. note the minus 1 and reduction of shape by 1 for the within-platform groups, which I do to remove the \n",
    "#. self-similarity effect\n",
    "r2r_rand_rand_sim_avg = (np.sum(r2r_rand_rand_sim, axis=1) - 1) / (reddit_user_links_mat_rand.shape[0] - 1)\n",
    "r2r_poli_poli_sim_avg = (np.sum(r2r_poli_poli_sim, axis=1) - 1) / (reddit_user_links_mat_poli.shape[0] - 1)\n",
    "r2r_rand_poli_sim_avg = (np.sum(r2r_rand_poli_sim, axis=1) - 1) / (reddit_user_links_mat_poli.shape[0] - 1)\n",
    "r2r_ira_rand_sim_avg = np.mean(r2r_ira_rand_sim, axis=1)\n",
    "r2r_ira_poli_sim_avg = np.mean(r2r_ira_poli_sim, axis=1)\n",
    "r2r_ira_ira_sim_avg = np.mean(r2r_ira_ira_sim, axis=1)\n",
    "\n",
    "# # Plot what these similarities look like\n",
    "# plt.hist(r2r_ira_rand_sim_avg, bins=20, density=True, alpha=0.35, label=\"ira-rand\")\n",
    "# plt.hist(r2r_ira_poli_sim_avg, bins=20, density=True, alpha=0.35, label=\"ira-poli\")\n",
    "# plt.hist(r2r_ira_ira_sim_avg, bins=20, density=True, alpha=0.35, label=\"ira-ira\")\n",
    "\n",
    "# plt.legend()\n",
    "# plt.show()\n",
    "\n",
    "# Show similarity distribution within populations in this platform\n",
    "r2r_rand_rand_sim_avg_bootstrap = [sklearn.utils.resample(r2r_rand_rand_sim_avg, replace=True, n_samples=r2r_rand_rand_sim_avg.shape[0]).mean() for i in range(bootstrap_count)]\n",
    "r2r_poli_poli_sim_avg_bootstrap = [sklearn.utils.resample(r2r_poli_poli_sim_avg, replace=True, n_samples=r2r_poli_poli_sim_avg.shape[0]).mean() for i in range(bootstrap_count)]\n",
    "r2r_ira_ira_sim_avg_bootstrap = [sklearn.utils.resample(r2r_ira_ira_sim_avg, replace=True, n_samples=r2r_ira_ira_sim_avg.shape[0]).mean() for i in range(bootstrap_count)]\n",
    "\n",
    "plt.hist(r2r_rand_rand_sim_avg_bootstrap, bins=20, density=True, alpha=0.35, label=\"rand-rand\")\n",
    "plt.hist(r2r_poli_poli_sim_avg_bootstrap, bins=20, density=True, alpha=0.35, label=\"poli-poli\")\n",
    "plt.hist(r2r_ira_ira_sim_avg_bootstrap, bins=20, density=True, alpha=0.35, label=\"ira-ira\")\n",
    "\n",
    "plt.title(\"Within-Population Similarity\")\n",
    "plt.legend()\n",
    "plt.show()\n",
    "\n",
    "# Show similarity distribution across populations in this platform\n",
    "r2r_ira_rand_sim_avg_bootstrap = [sklearn.utils.resample(r2r_ira_rand_sim_avg, replace=True, n_samples=r2r_ira_rand_sim_avg.shape[0]).mean() for i in range(bootstrap_count)]\n",
    "r2r_ira_poli_sim_avg_bootstrap = [sklearn.utils.resample(r2r_ira_poli_sim_avg, replace=True, n_samples=r2r_ira_poli_sim_avg.shape[0]).mean() for i in range(bootstrap_count)]\n",
    "r2r_ira_ira_sim_avg_bootstrap = [sklearn.utils.resample(r2r_ira_ira_sim_avg, replace=True, n_samples=r2r_ira_ira_sim_avg.shape[0]).mean() for i in range(bootstrap_count)]\n",
    "\n",
    "plt.hist(r2r_ira_rand_sim_avg_bootstrap, bins=20, density=True, alpha=0.35, label=\"ira-rand\")\n",
    "plt.hist(r2r_ira_poli_sim_avg_bootstrap, bins=20, density=True, alpha=0.35, label=\"ira-poli\")\n",
    "plt.hist(r2r_ira_ira_sim_avg_bootstrap, bins=20, density=True, alpha=0.35, label=\"ira-ira\")\n",
    "\n",
    "plt.title(\"Across-Population Similarity\")\n",
    "plt.legend()\n",
    "plt.show()"
   ]
  },
  {
   "cell_type": "code",
   "execution_count": 37,
   "metadata": {},
   "outputs": [
    {
     "name": "stdout",
     "output_type": "stream",
     "text": [
      "p-value for ANOVA: 0.0 21655152.68467333\n",
      "p-value for Welch's t-Test between within-Poli and within-IRA: 0.0 6893.24241004646\n",
      "p-value for Welch's t-Test between IRA-Rand and IRA-Poli: 0.0 -58.763289043165905\n"
     ]
    }
   ],
   "source": [
    "# Test whether the within-group similarities across the three populations are equal\n",
    "f_stat, p_val = scipy.stats.f_oneway(r2r_rand_rand_sim_avg_bootstrap, r2r_poli_poli_sim_avg_bootstrap, r2r_ira_ira_sim_avg_bootstrap)\n",
    "print(\"p-value for ANOVA:\", p_val, f_stat)\n",
    "\n",
    "t_stat, p_val = scipy.stats.ttest_ind(r2r_poli_poli_sim_avg_bootstrap, r2r_ira_ira_sim_avg_bootstrap, axis=0, equal_var=False)\n",
    "print(\"p-value for Welch's t-Test between within-Poli and within-IRA:\", p_val, t_stat)\n",
    "\n",
    "t_stat, p_val = scipy.stats.ttest_ind(r2r_ira_rand_sim_avg_bootstrap, r2r_ira_poli_sim_avg_bootstrap, axis=0, equal_var=False)\n",
    "print(\"p-value for Welch's t-Test between IRA-Rand and IRA-Poli:\", p_val, t_stat)"
   ]
  },
  {
   "cell_type": "code",
   "execution_count": 38,
   "metadata": {},
   "outputs": [
    {
     "data": {
      "image/png": "[encoded data removed]",
      "text/plain": [
       "<Figure size 432x288 with 1 Axes>"
      ]
     },
     "metadata": {},
     "output_type": "display_data"
    },
    {
     "data": {
      "image/png": "[encoded data removed]",
      "text/plain": [
       "<Figure size 432x288 with 1 Axes>"
      ]
     },
     "metadata": {},
     "output_type": "display_data"
    },
    {
     "data": {
      "image/png": "[encoded data removed]",
      "text/plain": [
       "<Figure size 432x288 with 1 Axes>"
      ]
     },
     "metadata": {},
     "output_type": "display_data"
    }
   ],
   "source": [
    "plt.imshow(reddit_user_links_mat_rand.T)\n",
    "plt.show()\n",
    "plt.imshow(reddit_user_links_mat_poli.T)\n",
    "plt.show()\n",
    "plt.imshow(reddit_user_links_mat_ira.T)\n",
    "plt.show()"
   ]
  },
  {
   "cell_type": "code",
   "execution_count": 39,
   "metadata": {},
   "outputs": [
    {
     "name": "stdout",
     "output_type": "stream",
     "text": [
      "Random\n",
      "\t reddit.com 0.3611778389474552\n",
      "\t youtube.com 0.3542573493106478\n",
      "\t twitter.com 0.046193628143707754\n",
      "\t tumblr.com 0.01455266689039076\n",
      "\t facebook.com 0.014084643479926278\n",
      "\t wikipedia.org 0.01335098175129611\n",
      "\t theguardian.com 0.007408271399288203\n",
      "\t wordpress.com 0.0071795642510272565\n",
      "\t washingtonpost.com 0.006107381626248513\n",
      "\t go.com 0.00567465366663103\n",
      "Political\n",
      "\t youtube.com 0.4055812626491083\n",
      "\t reddit.com 0.35171607113665904\n",
      "\t twitter.com 0.09058555744766303\n",
      "\t washingtonpost.com 0.03978864632095281\n",
      "\t nytimes.com 0.03623086941097274\n",
      "\t cnn.com 0.02932901992021898\n",
      "\t wikipedia.org 0.023244090912456133\n",
      "\t facebook.com 0.020904638071507838\n",
      "\t theguardian.com 0.018746915804358468\n",
      "\t thehill.com 0.016553751536041317\n",
      "IRA\n",
      "\t youtube.com 0.07976058003312113\n",
      "\t reddit.com 0.035013699875462996\n",
      "\t huffingtonpost.com 0.03135186338586063\n",
      "\t cnn.com 0.030584709223946033\n",
      "\t nytimes.com 0.018737370262571978\n",
      "\t nbcnews.com 0.016138795865501165\n",
      "\t twitter.com 0.0159004469262799\n",
      "\t theguardian.com 0.015227627065942816\n",
      "\t washingtonpost.com 0.01306059909855091\n",
      "\t reuters.com 0.012311188873222835\n"
     ]
    }
   ],
   "source": [
    "for label, mat in [\n",
    "    (\"Random\", reddit_user_links_mat_rand), \n",
    "    (\"Political\", reddit_user_links_mat_poli), \n",
    "    (\"IRA\", reddit_user_links_mat_ira)]:\n",
    "    print(label)\n",
    "    for tld, prop in sorted(zip(domains, np.mean(mat, axis=0)), key=lambda x: x[1], reverse=True)[:10]:\n",
    "        print(\"\\t\", tld, prop)"
   ]
  },
  {
   "cell_type": "code",
   "execution_count": 40,
   "metadata": {},
   "outputs": [
    {
     "data": {
      "image/png": "[encoded data removed]",
      "text/plain": [
       "<Figure size 432x288 with 1 Axes>"
      ]
     },
     "metadata": {},
     "output_type": "display_data"
    }
   ],
   "source": [
    "# Calculate pairwise similarity among users across platforms\n",
    "r2t_rand_sim = sklearn.metrics.pairwise.cosine_similarity(reddit_user_links_mat_rand, twitter_user_links_mat_rand)\n",
    "r2t_poli_sim = sklearn.metrics.pairwise.cosine_similarity(reddit_user_links_mat_poli, twitter_user_links_mat_poli)\n",
    "r2t_ira_sim = sklearn.metrics.pairwise.cosine_similarity(reddit_user_links_mat_ira, twitter_user_links_mat_ira)\n",
    "\n",
    "# Collapse similarities down to get the mean similarity for each user on the left to all users on the right\n",
    "r2t_rand_sim_avg = np.mean(r2t_rand_sim, axis=1)\n",
    "r2t_poli_sim_avg = np.mean(r2t_poli_sim, axis=1)\n",
    "r2t_ira_sim_avg = np.mean(r2t_ira_sim, axis=1)\n",
    "\n",
    "# Show similarity distribution within populations in this platform\n",
    "r2t_rand_sim_avg_bootstrap = [sklearn.utils.resample(r2t_rand_sim_avg, replace=True, n_samples=r2t_rand_sim_avg.shape[0]).mean() for i in range(bootstrap_count)]\n",
    "r2t_poli_sim_avg_bootstrap = [sklearn.utils.resample(r2t_poli_sim_avg, replace=True, n_samples=r2t_poli_sim_avg.shape[0]).mean() for i in range(bootstrap_count)]\n",
    "r2t_ira_sim_avg_bootstrap = [sklearn.utils.resample(r2t_ira_sim_avg, replace=True, n_samples=r2t_ira_sim_avg.shape[0]).mean() for i in range(bootstrap_count)]\n",
    "\n",
    "plt.hist(r2t_rand_sim_avg_bootstrap, bins=20, density=True, alpha=0.35, label=\"Random R2T\")\n",
    "plt.hist(r2t_poli_sim_avg_bootstrap, bins=20, density=True, alpha=0.35, label=\"Political R2T\")\n",
    "plt.hist(r2t_ira_sim_avg_bootstrap, bins=20, density=True, alpha=0.35, label=\"IRA R2T\")\n",
    "\n",
    "plt.title(\"Within-Population, Across-Platform Similarity\")\n",
    "plt.legend()\n",
    "plt.show()\n"
   ]
  },
  {
   "cell_type": "code",
   "execution_count": 41,
   "metadata": {},
   "outputs": [
    {
     "name": "stdout",
     "output_type": "stream",
     "text": [
      "p-value for ANOVA: 0.0 726324.834386755\n",
      "p-value for Welch's t-Test between Random and IRA: 0.0 493.62154433886826\n",
      "p-value for Welch's t-Test between Poli and IRA: 0.0 1043.5139287777488\n"
     ]
    }
   ],
   "source": [
    "# Test whether the across-platform similarities across the three populations are equal\n",
    "f_stat, p_val = scipy.stats.f_oneway(r2t_rand_sim_avg_bootstrap, r2t_poli_sim_avg_bootstrap, r2t_ira_sim_avg_bootstrap)\n",
    "print(\"p-value for ANOVA:\", p_val, f_stat)\n",
    "\n",
    "t_stat, p_val = scipy.stats.ttest_ind(r2t_rand_sim_avg_bootstrap, r2t_ira_sim_avg_bootstrap, axis=0, equal_var=False)\n",
    "print(\"p-value for Welch's t-Test between Random and IRA:\", p_val, t_stat)\n",
    "\n",
    "t_stat, p_val = scipy.stats.ttest_ind(r2t_poli_sim_avg_bootstrap, r2t_ira_sim_avg_bootstrap, axis=0, equal_var=False)\n",
    "print(\"p-value for Welch's t-Test between Poli and IRA:\", p_val, t_stat)"
   ]
  },
  {
   "cell_type": "code",
   "execution_count": null,
   "metadata": {},
   "outputs": [],
   "source": []
  }
 ],
 "metadata": {
  "kernelspec": {
   "display_name": "Python 3",
   "language": "python",
   "name": "python3"
  },
  "language_info": {
   "codemirror_mode": {
    "name": "ipython",
    "version": 3
   },
   "file_extension": ".py",
   "mimetype": "text/x-python",
   "name": "python",
   "nbconvert_exporter": "python",
   "pygments_lexer": "ipython3",
   "version": "3.6.5"
  }
 },
 "nbformat": 4,
 "nbformat_minor": 2
}
